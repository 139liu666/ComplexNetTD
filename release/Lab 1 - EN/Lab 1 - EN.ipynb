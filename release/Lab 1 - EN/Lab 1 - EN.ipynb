{
 "cells": [
  {
   "cell_type": "markdown",
   "metadata": {},
   "source": [
    "<center>\n",
    "<img src=\"https://upload.wikimedia.org/wikipedia/fr/thumb/1/1d/Logo_T%C3%A9l%C3%A9com_SudParis.svg/1014px-Logo_T%C3%A9l%C3%A9com_SudParis.svg.png\" width=\"30%\"></img>\n",
    "</center>\n",
    "\n",
    "<center> <h2> NET 4103/7431 Complex Network </h2> </center>\n",
    "\n",
    "<center> <h3> Vincent Gauthier (vincent.gauthier@telecom-sudparis.eu) </h3> </center>\n",
    "\n",
    "### Note\n",
    "Avant de commencer les exercices, assurez-vous que tout fonctionne comme prévu. Tout d'abord, le redémarrage du kernel **(dans la barre de menus, sélectionnez le kernel $\\rightarrow$ Restart)**.\n",
    "\n",
    "Assurez-vous que vous remplir les célluler aux endroits marquer «YOUR CODE HERE». \n",
    "\n",
    "Veuillez supprimer les ligne «raise NotImplementedError()» dans toutes les cellules auxquelles vous avez répondu, ainsi que votre nom et prénom ci-dessous:"
   ]
  },
  {
   "cell_type": "code",
   "execution_count": null,
   "metadata": {
    "collapsed": true,
    "jupyter": {
     "outputs_hidden": true
    }
   },
   "outputs": [],
   "source": [
    "NOM = \"XXX\"\n",
    "PRENOM = \"XXX\""
   ]
  },
  {
   "cell_type": "markdown",
   "metadata": {},
   "source": [
    "---"
   ]
  },
  {
   "cell_type": "markdown",
   "metadata": {},
   "source": [
    "<h2 align=\"center\">Lab #1: Introduction to graph theory with Networkx</h2> \n",
    "\n",
    "<br />\n",
    "<br />\n",
    "<img src=\"../../images/webmap.jpg\"></img>\n",
    "\n",
    "# Getting Started\n",
    "\n",
    "## Installing Python (Anaconda)\n",
    "We recommend using the Anaconda Python distribution, as it bundles together many useful packages (including numpy, matplotlib, and IPython) that we will use throughout this class. To install Anaconda, please see [here](http://docs.continuum.io/anaconda/install). Make sure you get the version compatible with your OS (Mac, Linux, or Windows). If you'd like a more comprehensive document, please check out CS109's guide [here](https://github.com/cs109/content/wiki/Installing-Python).\n",
    "\n",
    "## Python Shell\n",
    "The Python Interactive Shell is a light-weight way to explore Python. It's commonly used for debugging, quick tasks, and as a calculator! To get to the shell, open Terminal and type `python`. More instructions are located [here](https://docs.python.org/2/tutorial/interpreter.html). The following sections will be done in the shell to allow you to get a feel for Python."
   ]
  },
  {
   "cell_type": "code",
   "execution_count": 1,
   "metadata": {},
   "outputs": [
    {
     "data": {
      "text/html": [
       "<style>\n",
       "    div.cell{\n",
       "      margin-left:auto;\n",
       "      margin-right:auto;\n",
       "    }\n",
       "\n",
       "    h1,h2,h3,h4,h5 {\n",
       "      align: left;\n",
       "      font-family:\"Charis SIL\", serif;\n",
       "    }\n",
       "\n",
       "    div.text_cell_render{\n",
       "      /*\n",
       "      font-family: \"Charis SIL\", sans-serif;\n",
       "      */\n",
       "      line-height: 145%;\n",
       "      font-size: 145%;\n",
       "      line-height: 145%;\n",
       "    }\n",
       "\n",
       "\n",
       "    /*\n",
       "    .CodeMirror{\n",
       "      font-family: \"Source Code Pro\", monospace;\n",
       "    }\n",
       "    */\n",
       "    \n",
       "    .text_cell_render h5 {\n",
       "      font-weight: 300;\n",
       "      font-size: 22pt;\n",
       "      color: #4057A1;\n",
       "      font-style: italic;\n",
       "      margin-bottom: .5em;\n",
       "      margin-top: 0.5em;\n",
       "      display: block;\n",
       "    }\n",
       "\n",
       "    div.warn {\n",
       "      margin-top: 30px;\n",
       "      background-color: #fcf2f2;\n",
       "      border-color: #dFb5b4;\n",
       "      border-left: 5px solid #dfb5b4;\n",
       "      padding: 0.5em;\n",
       "    }\n",
       "\n",
       "    div.green {\n",
       "      margin-top: 30px;\n",
       "      background-color: #adf08d;\n",
       "      border-color: #34c123;\n",
       "      border-left: 5px solid #34c123;\n",
       "      padding: 0.5em;\n",
       "    }\n",
       "\n",
       "</style>\n"
      ],
      "text/plain": [
       "<IPython.core.display.HTML object>"
      ]
     },
     "execution_count": 1,
     "metadata": {},
     "output_type": "execute_result"
    }
   ],
   "source": [
    "# Style pour le Notebook\n",
    "from IPython.core.display import HTML\n",
    "\n",
    "def css_styling():\n",
    "    styles = open(\"../../styles/custom.css\", \"r\").read()\n",
    "    return HTML(styles)\n",
    "css_styling()"
   ]
  },
  {
   "cell_type": "markdown",
   "metadata": {},
   "source": [
    "# Python Basic\n",
    "## Lists\n",
    "\n",
    "Lists are basic Python structures that function as arrays. They can store all types of data. You can index a specific element using `[]` brackets, which comes in handy very frequently."
   ]
  },
  {
   "cell_type": "code",
   "execution_count": 2,
   "metadata": {},
   "outputs": [
    {
     "name": "stdout",
     "output_type": "stream",
     "text": [
      "5\n"
     ]
    }
   ],
   "source": [
    "# Variable assignment\n",
    "a = 3\n",
    "b = 2\n",
    "print(a + b)  # 5\n",
    "\n",
    "c = []\n",
    "d = [1,2]"
   ]
  },
  {
   "cell_type": "code",
   "execution_count": null,
   "metadata": {},
   "outputs": [],
   "source": [
    "# List basics\n",
    "print('List basics:')\n",
    "list_a = []\n",
    "list_b = [1,2,3,4,5,6]\n",
    "print('list b:', list_b)\n",
    "second_elt_in_list_b = list_b[1]  # remember, we index from 0\n",
    "print('second element in list b:', second_elt_in_list_b)\n",
    "tmp = [1,3,4]\n",
    "sub_list_list_b = [list_b[i] for i in tmp]\n",
    "print('sub list:', sub_list_list_b)\n",
    "list_b.append(7)\n",
    "print('new list b:', list_b)\n",
    "last_elt_b = list_b[-1]\n",
    "last_elt_b_2 = list_b[len(list_b)-1]\n",
    "print('last element two ways:', last_elt_b, last_elt_b_2)\n",
    "print('\\n')  # newline character\n",
    "\n",
    "# List of lists\n",
    "print('List of lists:')\n",
    "list_of_lists_c = [list_a,list_b]\n",
    "print('list of lists c:', list_of_lists_c)\n",
    "list_of_lists_c.append([3,4,5])\n",
    "print('new list of lists c:', list_of_lists_c)\n",
    "third_list_in_c = list_of_lists_c[2]\n",
    "print('third list in c:', third_list_in_c)\n",
    "second_elt_of_third_list_in_c = list_of_lists_c[2][1]\n",
    "print('second element of third list in c:', second_elt_of_third_list_in_c)\n",
    "print('\\n')"
   ]
  },
  {
   "cell_type": "markdown",
   "metadata": {},
   "source": [
    "## Conditional Statements\n",
    "\n",
    "Conditional statements and loops are useful control structures that allow you to structure the way your program will execute. Note that Python cares about whitespace; proper indentation after conditional statements and function definitions (in the next section) is key to avoiding syntax errors, even in the Interactive Shell."
   ]
  },
  {
   "cell_type": "code",
   "execution_count": null,
   "metadata": {},
   "outputs": [],
   "source": [
    "# Conditional statements\n",
    "if 1 > 0:\n",
    "    print('1 > 0')\n",
    "    \n",
    "if 1 < 0:\n",
    "    print('1 < 0')\n",
    "else:\n",
    "    print('1 !< 0')\n",
    "    \n",
    "if 1 < 0:\n",
    "    print('1 < 0')\n",
    "elif 1 < 2:\n",
    "    print('1 < 2')\n",
    "else:\n",
    "    print('none of the above')"
   ]
  },
  {
   "cell_type": "markdown",
   "metadata": {},
   "source": [
    "## Loops"
   ]
  },
  {
   "cell_type": "code",
   "execution_count": null,
   "metadata": {},
   "outputs": [],
   "source": [
    "# For loops\n",
    "for i in range(0,10):\n",
    "    print(i)\n",
    "    \n",
    "# looping through lists\n",
    "for x in list_b:\n",
    "    print(x)\n",
    "\n",
    "# While loops\n",
    "j = 0\n",
    "while j < 10:\n",
    "    print(j)\n",
    "    j += 1"
   ]
  },
  {
   "cell_type": "markdown",
   "metadata": {},
   "source": [
    "### List comprehensions"
   ]
  },
  {
   "cell_type": "code",
   "execution_count": null,
   "metadata": {},
   "outputs": [],
   "source": [
    "# List comprehensions\n",
    "list_b = [1,3,4,2,5,6,4,5,7,5,6,4,5,3,1,2]\n",
    "\n",
    "# Normal for loop\n",
    "tmp1 = []\n",
    "for x in list_b:\n",
    "    if x > 3:\n",
    "        tmp1.append(x)\n",
    "print('Normal for loop:', tmp1)\n",
    "\n",
    "# List comprehension\n",
    "tmp2 = [x for x in list_b if x > 3]\n",
    "print('List comprehension:', tmp2)"
   ]
  },
  {
   "cell_type": "code",
   "execution_count": null,
   "metadata": {},
   "outputs": [],
   "source": [
    "# Using LL from the previous example, do the following:\n",
    "# Given a list of lists, do the following:\n",
    "LL = [[1,2],[2,3],[3,4,5],[4,5,6,7],[5,6],[6,7,8,8,9]]\n",
    "\n",
    "# a. Create a new list first_LL of the first elements of each sublist\n",
    "first_LL = []\n",
    "for L in LL:\n",
    "    first_LL.append(L[0])\n",
    "    \n",
    "print(first_LL)\n",
    "\n",
    "# b. Create a new list last_LL of the last elements of each sublist\n",
    "last_LL = []\n",
    "for L in LL:\n",
    "    last_LL.append(L[-1])  # or L[len(L)-1]\n",
    "    \n",
    "print(last_LL)\n",
    "\n",
    "# c. Print all values in all sublists in the range [4,8]\n",
    "for L in LL:\n",
    "    for x in L:\n",
    "        if x >= 4 and x <= 8:\n",
    "            print(x)\n",
    "\n",
    "# d. Print all sublists of length 3 or greater\n",
    "for L in LL:\n",
    "    if len(L) >= 3:\n",
    "        print(L)"
   ]
  },
  {
   "cell_type": "code",
   "execution_count": null,
   "metadata": {},
   "outputs": [],
   "source": [
    "# Checking membership\n",
    "\n",
    "# Lists\n",
    "list_d = [1,2,3,4,5]\n",
    "\n",
    "if 1 in list_d:\n",
    "    print('1 is in list d')\n",
    "\n",
    "if 6 not in list_d:\n",
    "    print('6 is not in list d')"
   ]
  },
  {
   "cell_type": "markdown",
   "metadata": {},
   "source": [
    "## Dictionaries\n",
    "\n",
    "In Python, dictionaries are essentially hash tables. They store (key,value) pairs and can contain data of all types."
   ]
  },
  {
   "cell_type": "code",
   "execution_count": null,
   "metadata": {},
   "outputs": [],
   "source": [
    "# Dictionary example\n",
    "my_dict = {}  # declare empty dictionary\n",
    "my_dict['key1'] = 'value1'  # insert ('key1','value1') pair in dictionary\n",
    "print('my dict:', my_dict)  # prints entire dictionary\n",
    "print('first entry:', my_dict['key1'])  # index into dictionaries with keys\n",
    "\n",
    "# Second dictionary example\n",
    "dict1 = {}\n",
    "for x in range(1,21):\n",
    "    # each dictionary entry is a list of all whole numbers less than that value\n",
    "    dict1[x] = list(range(0,x))\n",
    "print('list dict:', dict1)\n",
    "print('last entry:', dict1[20])\n"
   ]
  },
  {
   "cell_type": "code",
   "execution_count": null,
   "metadata": {},
   "outputs": [],
   "source": [
    "# Dictionaries\n",
    "# dict.keys() and dict.values() are lists of the keys and values in the dictionary\n",
    "dict_a = {'a': 3, 'b': 2, 'c': 1}\n",
    "\n",
    "if 'a' in dict_a.keys():\n",
    "    print('a is a key in dict a')\n",
    "if 'd' not in dict_a.keys():\n",
    "    print('d is not a key in dict a')\n",
    "    \n",
    "if 3 in dict_a.values():\n",
    "    print('3 is a value in dict a')\n",
    "if 4 not in dict_a.values():\n",
    "    print('4 is not a value in dict a')"
   ]
  },
  {
   "cell_type": "markdown",
   "metadata": {},
   "source": [
    "## Functions\n",
    "\n",
    "Functions are useful ways of encapsulating blocks of code to perform tasks. Each function is declared with the `def` keyword and takes a list of arguments. Additionally, most functions return something via the `return` keyword, which exits the function."
   ]
  },
  {
   "cell_type": "code",
   "execution_count": null,
   "metadata": {},
   "outputs": [],
   "source": [
    "# Functions are declared with the 'def' keyword followed by the \n",
    "# function name and a list of arguments to the function.\n",
    "def my_function(arg1,arg2):\n",
    "    tmp = arg1 + arg2\n",
    "    return tmp\n",
    "\n",
    "return_value = my_function(1,3)\n",
    "print('sum:', return_value)\n",
    "\n",
    "def sum_list_naive(L):\n",
    "    sum = 0\n",
    "    for x in L:\n",
    "        sum += x\n",
    "    return sum\n",
    "\n",
    "print('sum list:', sum_list_naive([1,4,5,3]))"
   ]
  },
  {
   "cell_type": "markdown",
   "metadata": {},
   "source": [
    "### Exercises 1\n",
    "\n",
    "Write a function that goes through the following list and finds the smallest element. Do not use any built-in functions such as min(L)."
   ]
  },
  {
   "cell_type": "code",
   "execution_count": null,
   "metadata": {
    "collapsed": true,
    "deletable": false,
    "jupyter": {
     "outputs_hidden": true
    },
    "nbgrader": {
     "cell_type": "code",
     "checksum": "c173e87175537225109769befefe3dbf",
     "grade": false,
     "grade_id": "cell-d8fb3f43d2c30030",
     "locked": false,
     "schema_version": 3,
     "solution": true,
     "task": false
    }
   },
   "outputs": [],
   "source": [
    "# Pseudocode:\n",
    "# Initialize current smallest element to the first element in list\n",
    "# Loop through list, updating current smallest element if necessary\n",
    "\n",
    "def find_smallest(input_list):\n",
    "    # YOUR CODE HERE\n",
    "    raise NotImplementedError()\n",
    "    return min_elem"
   ]
  },
  {
   "cell_type": "code",
   "execution_count": null,
   "metadata": {
    "collapsed": true,
    "deletable": false,
    "editable": false,
    "jupyter": {
     "outputs_hidden": true
    },
    "nbgrader": {
     "cell_type": "code",
     "checksum": "473e0f0d799be1881b17093c34d0ea65",
     "grade": true,
     "grade_id": "cell-a435c06e4cfc6100",
     "locked": true,
     "points": 0,
     "schema_version": 3,
     "solution": false,
     "task": false
    }
   },
   "outputs": [],
   "source": [
    "# Find the smallest element of this list\n",
    "L = [3,1,2,4,5,3,1,4,2,5,6,3,6,7,5,4,7,1,2,4,3,5,6,7,5]\n",
    "\n",
    "L_smallest = find_smallest(L)\n",
    "assert L_smallest == 1"
   ]
  },
  {
   "cell_type": "markdown",
   "metadata": {},
   "source": [
    "## Representing Graphs\n",
    "\n",
    "The most common data structures for representing graphs are adjacency matrices and adjacency lists. In general, adjacency matrices are better for dense graphs (because they take up $O(n^2)$ room), and they support very quick edge lookups. However, it's slow to iterate over all edges. Adjacency lists are better for sparse graphs and allows quick iteration over all edges in a graph, but finding the existence of a specific edge takes longer. For these examples, we will focus on using adjacency lists.\n",
    "\n",
    "The most basic way of representing a graph is through a list of lists. In this way, we can say that the $n^{th}$ list represents all of the $n^{th}$ vertex's connections. We will go through an example on the board."
   ]
  },
  {
   "cell_type": "code",
   "execution_count": null,
   "metadata": {},
   "outputs": [],
   "source": [
    "# List of lists representation of a graph\n",
    "# Graph G: Vertices = {0,1,2,3}, Edges = {(0,1),(1,2),(2,3),(3,0)}\n",
    "\n",
    "G_LL = [[1,3],[0,2],[1,3],[0,2]]\n",
    "\n",
    "# Vertex 0's neighbors\n",
    "print(G_LL[0])\n",
    "\n",
    "# Vertex 1's neighbors\n",
    "print(G_LL[1])"
   ]
  },
  {
   "cell_type": "markdown",
   "metadata": {},
   "source": [
    "Another way of representing a graph is through a dictionary. See the below section for a quick introduction to a dictionary. The keys in this case will be the vertex names, and the corresponding values will be a list of all adjacent vertices. Note that using a dictionary is more convenient for graphs that have strings as labels for each vertex, but using a dictionary is more expensive in terms of memory and time. For the example above, we have the following."
   ]
  },
  {
   "cell_type": "code",
   "execution_count": null,
   "metadata": {},
   "outputs": [],
   "source": [
    "# Dictionary representation of a graph\n",
    "# Graph G: Vertices = {0,1,2,3}, Edges = {(0,1),(1,2),(2,3),(3,0)}\n",
    "\n",
    "G_dict = {0:[1,3], 1:[0,2], 2:[1,3], 3:[0,2]}\n",
    "\n",
    "# Vertex 0's neighbors\n",
    "print(G_dict[0])\n",
    "\n",
    "# Vertex 1's neighbors\n",
    "print(G_dict[1])"
   ]
  },
  {
   "cell_type": "markdown",
   "metadata": {},
   "source": [
    "## Plotting Data"
   ]
  },
  {
   "cell_type": "code",
   "execution_count": null,
   "metadata": {},
   "outputs": [],
   "source": [
    "import matplotlib.pylab as plt  # use matplotlib's pyplot package\n",
    "import numpy as np\n",
    "\n",
    "%matplotlib inline\n",
    "\n",
    "x = np.linspace(-2, 2, 100)\n",
    "\n",
    "plt.plot(x, x**2)\n",
    "plt.show()"
   ]
  },
  {
   "cell_type": "markdown",
   "metadata": {},
   "source": [
    "## Matrix Operations in Python\n",
    "\n",
    "When dealing with matrices in Python, the general best practice is to use the NumPy package. This codelab will go over how to carry out operations on matrices useful for the next problem set (and in general)."
   ]
  },
  {
   "cell_type": "code",
   "execution_count": null,
   "metadata": {},
   "outputs": [],
   "source": [
    "import numpy as np\n",
    "# numpy has packages called 'matrix' and 'linalg' that will be useful\n",
    "\n",
    "mat1 = np.matrix( [[1.,2.,3.],[4.,5.,6.],[7.,8.,9.]] )\n",
    "mat2 = np.matrix( [[0,1,0],[1,0,0],[0,1,1]] )\n",
    "\n",
    "print('matrices: \\n', mat1, '\\n', mat2)\n",
    "\n",
    "# indexing into matrices\n",
    "print('first row:\\n', mat1[0,:])\n",
    "print('first column:\\n', mat1[:,0])\n",
    "print('first two rows:\\n', mat1[0:2,:])\n",
    "print('first two cols:\\n', mat1[:,0:2])\n",
    "\n",
    "# matrix attributes\n",
    "print('shape: ', mat1.shape)\n",
    "print('size: ', mat1.size)"
   ]
  },
  {
   "cell_type": "markdown",
   "metadata": {},
   "source": [
    "Here are some example of matrix operations that you should know.\n",
    "\n",
    "There some Cheat_Sheet:\n",
    "1. [NumPy for Matlab users](https://docs.scipy.org/doc/numpy-1.15.0/user/numpy-for-matlab-users.html)\n",
    "2. [Numpy Cheat_Sheet](https://s3.amazonaws.com/assets.datacamp.com/blog_assets/Numpy_Python_Cheat_Sheet.pdf)"
   ]
  },
  {
   "cell_type": "code",
   "execution_count": null,
   "metadata": {},
   "outputs": [],
   "source": [
    "# matrix operations\n",
    "print ('plus: \\n', mat1 + mat2)\n",
    "print ('minus: \\n', mat1 - mat2)\n",
    "\n",
    "# element-wise multiplication\n",
    "print ('element-wise multiplication: \\n', np.multiply(mat1,mat2))\n",
    "\n",
    "# matrix multiplication\n",
    "print('matrix multiplication: \\n', np.dot(mat1,mat2))\n",
    "# print mat1*mat2\n",
    "\n",
    "# element-wise division\n",
    "print('element-wise division: \\n', np.divide(mat2,mat1))\n",
    "# print mat2/mat1\n",
    "\n",
    "# raising matrices to powers (element-wise)\n",
    "print('element-wise power: \\n', np.power(mat1,2))\n",
    "\n",
    "# raising matrices to powers\n",
    "print('matrix power: \\n', np.linalg.matrix_power(mat1,2))"
   ]
  },
  {
   "cell_type": "markdown",
   "metadata": {},
   "source": [
    "# EXO 1: Breadth First Search\n",
    "\n",
    "Breadth first search (BFS) is a common and useful graph traversal algorithm. A graph traversal algorithm describes a process for visiting the nodes in a tree or graph, where traversing from one node to another is only allowed if there is an edge connecting those vertices. A motivational property of BFS is that it can find connectivity and shortest distances between two nodes in graphs. For this class, we will apply BFS to compute centrality measures and other graph properties. In this lab we will study how BFS runs, how to implement it, and how it can be used.\n",
    "\n",
    "### Queue\n",
    "Before we can begin to study BFS, we need to understand the queue data structure. Similar to the non-computer science understanding of the word, a queue is essentially a line. Data, in our case nodes or vertices, enter the queue and are stored there. The operation of adding data to a queue is called enqueue() or push(). The order in which they enter the queue is preserved. When we need to retrieve data, we take the earliest element from the queue and it is removed from the queue. This operation is called dequeue() or pop(). This is referred to as <i>first-in-first-out</i> (FIFO).\n",
    "\n",
    "In Python, we can implement a queue naively as a list. However, lists were not built for this purpose, and do not have efficient push() and pop() operations. Alternatives include implementations included in libraries (which we will be using) or defining your own class and operations. For this lab we will use the queue data structure from the 'collections' library (https://docs.python.org/2/library/collections.html#collections.deque)."
   ]
  },
  {
   "cell_type": "code",
   "execution_count": null,
   "metadata": {
    "collapsed": true,
    "jupyter": {
     "outputs_hidden": true
    }
   },
   "outputs": [],
   "source": [
    "from collections import deque"
   ]
  },
  {
   "cell_type": "code",
   "execution_count": null,
   "metadata": {},
   "outputs": [],
   "source": [
    "# initializes the queue with [S, W, M]\n",
    "queue = deque([\"Scarlet\", \"White\", \"Mustard\"])\n",
    "queue.append(\"Plum\")\n",
    "# Now the queue is [S, W, M, P]\n",
    "queue.popleft()\n",
    "# Now the queue is [W, M, P]\n",
    "queue.append(\"Greene\")\n",
    "# etc\n",
    "queue.popleft()\n",
    "queue.popleft()\n",
    "murderer = queue.popleft()\n",
    "print(murderer)\n",
    "\n",
    "# who is Boddy's murderer?\n",
    "# ANSWER: Plum"
   ]
  },
  {
   "cell_type": "markdown",
   "metadata": {},
   "source": [
    "### Algorithm"
   ]
  },
  {
   "cell_type": "markdown",
   "metadata": {},
   "source": [
    "Recall that a graph traversal is a route of nodes to follow or traverse, where we can only move between two nodes if there is an edge between them. Breadth first search specifies a process for doing so. In the simplest implementation, BFS visits a given node, adds its neighbors to the queue, then visits the element returned by the queue. To begin the BFS, we start at a given node, then visit all of that node's nieghbors, then visit all of one neighbor's neighbors, then another neighbor's neighbors, etc. Whenever we visit a node for the first time, we mark it as visited; otherwise we do nothing when re-visiting a node. The algorithm terminates once we have visited everything reachable from the given node, and we have a list of nodes reachable from that node.\n",
    "\n",
    "<br />\n",
    "<div align=\"center\">\n",
    "<img width=400 src=\"../../images/BFS.png\"></img>\n",
    "**Algorithm 1.: BFS**\n",
    "</div>\n"
   ]
  },
  {
   "cell_type": "code",
   "execution_count": null,
   "metadata": {
    "collapsed": true,
    "deletable": false,
    "jupyter": {
     "outputs_hidden": true
    },
    "nbgrader": {
     "cell_type": "code",
     "checksum": "abe84c81911f04c781135e3e2941badb",
     "grade": false,
     "grade_id": "cell-720dcd081a1db71b",
     "locked": false,
     "schema_version": 3,
     "solution": true
    }
   },
   "outputs": [],
   "source": [
    "# graph G represented as an adjacency list dictionary, a node v to start at\n",
    "def simpleBFS(G, v):\n",
    "    \"\"\"\n",
    "    This function return a list l where each element of the list is a Boolean. The element i of list is True \n",
    "    if the node i is reachable and False otherwise.\n",
    "        \n",
    "    ## Example: A <---> B <----> C \n",
    "    BFF(G, A) \n",
    "    return [True, True, True]\n",
    "        \n",
    "    ## Example: A       B <----> C \n",
    "    BFF(G, B) \n",
    "    return [False, True, True]\n",
    "    \"\"\"\n",
    "    # YOUR CODE HERE\n",
    "    raise NotImplementedError()"
   ]
  },
  {
   "cell_type": "code",
   "execution_count": null,
   "metadata": {
    "collapsed": true,
    "deletable": false,
    "editable": false,
    "jupyter": {
     "outputs_hidden": true
    },
    "nbgrader": {
     "cell_type": "code",
     "checksum": "59e56dd24f74b52b5606fe1bb8acdb03",
     "grade": true,
     "grade_id": "cell-31c5b1f22a9201a3",
     "locked": true,
     "points": 1,
     "schema_version": 3,
     "solution": false
    }
   },
   "outputs": [],
   "source": [
    "# G as an adjacency list\n",
    "G = {1:[2,3], 2:[1,5], 3:[4,1,5], 4:[3], 5:[2,3,6], 6:[5]}\n",
    "\n",
    "assert simpleBFS(G, 1) == [True, True, True, True, True, True]"
   ]
  },
  {
   "cell_type": "markdown",
   "metadata": {},
   "source": [
    "<div align=\"center\"> <img width=500 src=\"../../images/SimpleGraph.png\"></img> </div>\n",
    "\n",
    "\n",
    "all the graph above $G$. If we call simpleBFS($G$, $a$), the steps the BFS will take are (assume nodes are added to the queue in alphabetical order)\n",
    "1. start at $a$, push nodes $b$ and $c$ on the queue and mark them as visited\n",
    "2. pop off $b$ from the queue, visit it, and add $e$ to the queue\n",
    "4. pop off $c$ from the queue, visit it, and add $d$ to the queue\n",
    "4. pop off $e$ from the queue, upon seeing that $c$ and $b$ have been visited, add $f$ to the queue\n",
    "5. pop off $d$ and $f$ from the queue, no nodes are added to the queue\n",
    "\n",
    "## Exercises: \n",
    "**Question**: What is the order of traversal for simpleBFS($G$, $f$)? simpleBFS($G$,$b$)?\n",
    "\n",
    "**Result**:\n",
    "\n",
    "### Modifications\n",
    "Armed with an understanding of how BFS operates, we can make improvements on the algorithm so that we can extract more information about the graph in the running of BFS. Update the previsous BFS algorithm in order to return the distance(teh number of jump) from a starting node to the others.\n",
    "\n",
    "**Example:**\n",
    "```Python\n",
    ">>> distBFS(G, 1)\n",
    "[0, 1, 1, 2, 2, 3]\n",
    "```"
   ]
  },
  {
   "cell_type": "code",
   "execution_count": null,
   "metadata": {
    "collapsed": true,
    "deletable": false,
    "jupyter": {
     "outputs_hidden": true
    },
    "nbgrader": {
     "cell_type": "code",
     "checksum": "b31414c0dcc04695934794831c9a09f6",
     "grade": false,
     "grade_id": "cell-809116bb4049cddb",
     "locked": false,
     "schema_version": 3,
     "solution": true
    }
   },
   "outputs": [],
   "source": [
    "# graph G represented as an adjacency list dictionary, a node v to start at\n",
    "def distBFS(G, v):\n",
    "    # YOUR CODE HERE\n",
    "    raise NotImplementedError()"
   ]
  },
  {
   "cell_type": "code",
   "execution_count": null,
   "metadata": {
    "collapsed": true,
    "deletable": false,
    "editable": false,
    "jupyter": {
     "outputs_hidden": true
    },
    "nbgrader": {
     "cell_type": "code",
     "checksum": "352e8eabc9b54957bc5120785584ea97",
     "grade": true,
     "grade_id": "cell-0be2a31cbadf5982",
     "locked": true,
     "points": 1,
     "schema_version": 3,
     "solution": false
    }
   },
   "outputs": [],
   "source": [
    "from collections import deque\n",
    "\n",
    "# G as an adjacency list\n",
    "G = {1:[2,3], 2:[1,5], 3:[4,1,5], 4:[3], 5:[2,3,6], 6:[5]}\n",
    "\n",
    "assert distBFS(G, 1) == [0, 1, 1, 2, 2, 3]"
   ]
  },
  {
   "cell_type": "markdown",
   "metadata": {},
   "source": [
    "With this implementation of BFS, we not only are able to find out which vertices of the graph are reachable from $v$, but also how far away (in terms of nodes in between) each vertex is from $v$. Moreover, the path length returned by distBFS() is provably the shortest path from $v$ to any other vertex in $G$, provided there are no edge weights associated with the graph. However, even if we know the shortest path, it would be nice to know which nodes precisely we would need to traverse to get from $v$ to that vertex. We can still do that with BFS. Consider the following:"
   ]
  },
  {
   "cell_type": "code",
   "execution_count": null,
   "metadata": {
    "collapsed": true,
    "deletable": false,
    "jupyter": {
     "outputs_hidden": true
    },
    "nbgrader": {
     "cell_type": "code",
     "checksum": "6bc984002ce015a0bb5e189730b43afa",
     "grade": false,
     "grade_id": "cell-7185b77745a8a0c4",
     "locked": false,
     "schema_version": 3,
     "solution": true
    }
   },
   "outputs": [],
   "source": [
    "# graph G represented as an adjacency list dictionary, a node v to start at\n",
    "def BFS(G, v):\n",
    "    # YOUR CODE HERE\n",
    "    raise NotImplementedError()"
   ]
  },
  {
   "cell_type": "code",
   "execution_count": null,
   "metadata": {
    "collapsed": true,
    "deletable": false,
    "editable": false,
    "jupyter": {
     "outputs_hidden": true
    },
    "nbgrader": {
     "cell_type": "code",
     "checksum": "127fc251e15ec58e1698870eb351af4c",
     "grade": true,
     "grade_id": "cell-ae284a4979421292",
     "locked": true,
     "points": 1,
     "schema_version": 3,
     "solution": false
    }
   },
   "outputs": [],
   "source": [
    "from collections import deque\n",
    "\n",
    "# G as an adjacency list\n",
    "G = {1:[2,3], 2:[1,5], 3:[4,1,5], 4:[3], 5:[2,3,6], 6:[5]}\n",
    "\n",
    "\n",
    "assert BFS(G,1) == ([0, 1, 1, 2, 2, 3], [None, 1, 1, 3, 2, 5])"
   ]
  },
  {
   "cell_type": "markdown",
   "metadata": {},
   "source": [
    "With this implementation of BFS, we introduce the prev array, which for a given node $w$ keeps track of the node that we visited that led us to that node. This node is a <i>predecessor</i> of $w$. Returned this information, if we want to find the path from $v$ to $w$, first inspect the dist array to make sure $w$ is reachable from $v$. If it is reachable, we simply inspect the prev array for prev[w]. If that is not $v$, we look for the predecessor of prev[w], and on until we find $v$.\n",
    "\n",
    "### Exercice\n",
    "\n",
    "- Walk through BFS(G,B) on the graph above, keeping track of the order visited and the state of the arrays. (We will use the following format: current node, dist, prev):\n",
    "\n",
    "    * B\n",
    "    * E\n",
    "    * C\n",
    "    * D\n",
    "    \n",
    "**Result:**"
   ]
  },
  {
   "cell_type": "markdown",
   "metadata": {},
   "source": [
    "### Depth First Search \n",
    "\n",
    "The second algorithm we will be discussing is **Depth-First search** which as the name hints at, explores possible vertices (from a supplied root) down each branch before backtracking. This property allows the algorithm to be implemented succinctly in both iterative and recursive forms. Below is a listing of the actions performed upon each visit to a node:\n",
    "* Mark the current vertex as being visited.\n",
    "* Explore each adjacent vertex that is not included in the visited set.\n",
    "\n",
    "<br />\n",
    "<div align=\"center\">\n",
    "<img width=400 src=\"../../images/DFS.png\"></img>\n",
    "<b>Algorithm 2.: DFS</b>\n",
    "</div>\n"
   ]
  },
  {
   "cell_type": "code",
   "execution_count": null,
   "metadata": {
    "collapsed": true,
    "deletable": false,
    "jupyter": {
     "outputs_hidden": true
    },
    "nbgrader": {
     "cell_type": "code",
     "checksum": "66bc16e1ff48c959e497a45a7bf0a05b",
     "grade": false,
     "grade_id": "cell-10834cdcc80b193d",
     "locked": false,
     "schema_version": 3,
     "solution": true
    }
   },
   "outputs": [],
   "source": [
    "def DFS(G, v):\n",
    "    # YOUR CODE HERE\n",
    "    raise NotImplementedError()"
   ]
  },
  {
   "cell_type": "code",
   "execution_count": null,
   "metadata": {
    "collapsed": true,
    "deletable": false,
    "editable": false,
    "jupyter": {
     "outputs_hidden": true
    },
    "nbgrader": {
     "cell_type": "code",
     "checksum": "e1b303a901b3ad28e3b6708f4494ab23",
     "grade": true,
     "grade_id": "cell-047e17e9b7e81b8b",
     "locked": true,
     "points": 1,
     "schema_version": 3,
     "solution": false
    }
   },
   "outputs": [],
   "source": [
    "# G as an adjacency list\n",
    "G = {1:[2,3], 2:[1,5], 3:[4,1,5], 4:[3], 5:[2,3,6], 6:[5]}\n",
    "\n",
    "assert DFS(G, 1) == [1, 3, 5, 6, 2, 4]"
   ]
  },
  {
   "cell_type": "markdown",
   "metadata": {},
   "source": [
    "### Connected components  "
   ]
  },
  {
   "cell_type": "code",
   "execution_count": null,
   "metadata": {
    "collapsed": true,
    "deletable": false,
    "jupyter": {
     "outputs_hidden": true
    },
    "nbgrader": {
     "cell_type": "code",
     "checksum": "f022be09ae3e1bafce57340e48ddaef5",
     "grade": false,
     "grade_id": "cell-8831fdee251ac68e",
     "locked": false,
     "schema_version": 3,
     "solution": true
    }
   },
   "outputs": [],
   "source": [
    "def connected_components(G):\n",
    "    # YOUR CODE HERE\n",
    "    raise NotImplementedError()"
   ]
  },
  {
   "cell_type": "code",
   "execution_count": null,
   "metadata": {
    "collapsed": true,
    "deletable": false,
    "editable": false,
    "jupyter": {
     "outputs_hidden": true
    },
    "nbgrader": {
     "cell_type": "code",
     "checksum": "59b396b397106dac7897cfa6b9e720e2",
     "grade": true,
     "grade_id": "cell-4ab685392e456171",
     "locked": true,
     "points": 1,
     "schema_version": 3,
     "solution": false
    }
   },
   "outputs": [],
   "source": [
    "# G as an adjacency list with one component\n",
    "G = {1:[2,3], 2:[1,5], 3:[4,1,5], 4:[3], 5:[2,3,6], 6:[5]}\n",
    "\n",
    "assert connected_components(G) == [[1, 3, 5, 6, 2, 4]]\n",
    "\n",
    "# G as an adjacency list with two components\n",
    "G = {1:[2,3], 2:[1,3], 3:[1,2], 4:[5, 6], 5:[4, 6], 6:[4, 5]}\n",
    "\n",
    "assert connected_components(G) == [[1, 3, 2], [4, 6, 5]]"
   ]
  },
  {
   "cell_type": "markdown",
   "metadata": {},
   "source": [
    "### The algebraic connectivity\n",
    "\n",
    "1. Build a function that return the adjacency matrix of a graph $G(V, E)$\n",
    "2. Build a function that return the Laplacian matrix of a graph $G(V, E)$\n",
    "2. Build a function that return algebraic_connectivity of a graph $G(V, E)$"
   ]
  },
  {
   "cell_type": "code",
   "execution_count": null,
   "metadata": {
    "collapsed": true,
    "deletable": false,
    "jupyter": {
     "outputs_hidden": true
    },
    "nbgrader": {
     "cell_type": "code",
     "checksum": "864de01863ba3255209b42d920a9f558",
     "grade": false,
     "grade_id": "cell-029a6cf780673fde",
     "locked": false,
     "schema_version": 3,
     "solution": true
    }
   },
   "outputs": [],
   "source": [
    "import numpy as np\n",
    "\n",
    "def adjacency(G):\n",
    "    # YOUR CODE HERE\n",
    "    raise NotImplementedError()\n",
    "\n",
    "def laplacian(G):\n",
    "    # YOUR CODE HERE\n",
    "    raise NotImplementedError()\n",
    "    \n",
    "def algebraic_connectivity(G):\n",
    "    # YOUR CODE HERE\n",
    "    raise NotImplementedError()"
   ]
  },
  {
   "cell_type": "code",
   "execution_count": null,
   "metadata": {
    "collapsed": true,
    "deletable": false,
    "editable": false,
    "jupyter": {
     "outputs_hidden": true
    },
    "nbgrader": {
     "cell_type": "code",
     "checksum": "b3cd2b07cc5479f5dece0962a95c361c",
     "grade": true,
     "grade_id": "cell-92771755bd1a5c92",
     "locked": true,
     "points": 1,
     "schema_version": 3,
     "solution": false
    }
   },
   "outputs": [],
   "source": [
    "G = {1:[2,3], 2:[5,1], 3:[4,1,5], 4:[3], 5:[2,3,6], 6:[5]}\n",
    "\n",
    "assert algebraic_connectivity(G) == 1\n",
    "\n",
    "# G as an adjacency list with two components\n",
    "G = {1:[2,3], 2:[1,3], 3:[1,2], 4:[5, 6], 5:[4, 6], 6:[4, 5]}\n",
    "\n",
    "assert algebraic_connectivity(G) == 2"
   ]
  },
  {
   "cell_type": "markdown",
   "metadata": {},
   "source": [
    "## Compute Clustering coeficient\n",
    "\n",
    "Recall that the clustering coefficient $C(v)$ of a vertex $v$ is the fraction over all pairs of neighbors of $v$ of pairs between which an edge exists. In real world social networks we usually see high clustering, and therefore we want our random graph models to also have this property. Ultimately we want to find the clustering coefficient of the graph, but we begin by calculating the clustering coefficient for a single vertex."
   ]
  },
  {
   "cell_type": "code",
   "execution_count": null,
   "metadata": {
    "collapsed": true,
    "jupyter": {
     "outputs_hidden": true
    }
   },
   "outputs": [],
   "source": [
    "def vertexCC(G,v):\n",
    "    v_neighbors = G[v]\n",
    "    edges = 0.0\n",
    "    for i in range(len(v_neighbors)):\n",
    "        for j in range(i+1, len(v_neighbors)):\n",
    "            if v_neighbors[j] in G[v_neighbors[i]]:\n",
    "                edges += 1\n",
    "    if edges == 0.0:\n",
    "        return 0.0\n",
    "    else:\n",
    "        return edges / ((len(v_neighbors)^2 - len(v_neighbors))/2)"
   ]
  },
  {
   "cell_type": "code",
   "execution_count": null,
   "metadata": {
    "collapsed": true,
    "deletable": false,
    "jupyter": {
     "outputs_hidden": true
    },
    "nbgrader": {
     "cell_type": "code",
     "checksum": "0a119f4fc99a4a4326be172a87c00e53",
     "grade": false,
     "grade_id": "cell-c3cb15b7c1e861c8",
     "locked": false,
     "schema_version": 3,
     "solution": true
    }
   },
   "outputs": [],
   "source": [
    "'''\n",
    "Use vertexCC() to calculate the clustering coefficient of the entire graph, \n",
    "which is the average clustering coefficient of its nodes.\n",
    "'''\n",
    "import numpy as np\n",
    "\n",
    "def graphCC(G):\n",
    "    # YOUR CODE HERE\n",
    "    raise NotImplementedError()"
   ]
  },
  {
   "cell_type": "code",
   "execution_count": null,
   "metadata": {
    "collapsed": true,
    "deletable": false,
    "editable": false,
    "jupyter": {
     "outputs_hidden": true
    },
    "nbgrader": {
     "cell_type": "code",
     "checksum": "0b4e8ecc6977de06c4ac7907e23403d7",
     "grade": true,
     "grade_id": "cell-324d4b44ec5f3994",
     "locked": true,
     "points": 1,
     "schema_version": 3,
     "solution": false
    }
   },
   "outputs": [],
   "source": [
    "G = {1:[2,3], 2:[1,3], 3:[1,2]}\n",
    "assert graphCC(G) == 1.0"
   ]
  },
  {
   "cell_type": "markdown",
   "metadata": {},
   "source": [
    "# Exo 2: Networkx\n",
    "\n",
    "## Overview\n",
    "NetworkX is a Python language software package for the creation, manipulation, and study of the structure, dynamics, and function of complex networks.\n",
    "\n",
    "With NetworkX you can load and store networks in standard and nonstandard data formats, generate many types of random and classic networks, analyze network structure, build network models, design new network algorithms, draw networks, and much more.\n",
    "\n",
    "## Who uses NetworkX?\n",
    "The potential audience for NetworkX includes mathematicians, physicists, biologists, computer scientists, and social scientists.\n",
    "\n",
    "## Goals\n",
    "NetworkX is intended to provide tools \n",
    "\n",
    "* tools for the study of the structure and dynamics of social, biological, and infrastructure networks,\n",
    "* a standard programming interface and graph implementation that is suitable for many applications,\n",
    "* a rapid development environment for collaborative, multidisciplinary projects,\n",
    "* an interface to existing numerical algorithms and code written in C, C++, and FORTRAN,\n",
    "* the ability to painlessly slurp in large nonstandard data sets\n",
    "\n",
    "for more information fo to the [Networkx Documentation](http://networkx.github.io/documentation/latest/index.html)\n",
    "\n",
    "### Networkx provide useful fonction to manipulate graph and graph metric already implemented \n",
    "\n",
    "Create an empty graph with no nodes and no edges.\n",
    "\n",
    "```python \n",
    ">>> import networkx as nx\n",
    ">>> G=nx.Graph()\n",
    "```\n",
    "\n",
    "By definition, a Graph is a collection of nodes (vertices) along with identified pairs of nodes (called edges, links, etc). In NetworkX, nodes can be any hashable object e.g. a text string, an image, an XML object, another Graph, a customized node object, etc. (Note: Python’s None object should not be used as a node as it determines whether optional function arguments have been assigned in many functions.)\n",
    "\n",
    "#### Nodes\n",
    "The graph G can be grown in several ways. NetworkX includes many graph generator functions and facilities to read and write graphs in many formats. To get started though we’ll look at simple manipulations. You can add one node at a time,\n",
    "\n",
    "```python \n",
    ">>> G.add_node(1)\n",
    "```\n",
    "\n",
    "#### Edges\n",
    "\n",
    "G can also be grown by adding one edge at a time,\n",
    "```python \n",
    ">>> G.add_edge(1,2)\n",
    ">>> e=(2,3)\n",
    ">>> G.add_edge(*e) # unpack edge tuple*\n",
    "````\n",
    "\n",
    "#### Graph methods\n",
    "We can examine a graph with\n",
    "```python\n",
    ">>> G.nodes()\n",
    "['a', 1, 2, 3, 'spam', 'm', 'p', 's']\n",
    ">>> G.edges()\n",
    "[(1, 2), (1, 3)]\n",
    ">>> G.neighbors(1)\n",
    "[2, 3]\n",
    "```\n",
    "\n",
    "\n",
    "#### Graph Metric \n",
    "closseness centrality([documentation](https://networkx.github.io/documentation/networkx-1.10/reference/generated/networkx.algorithms.centrality.closeness_centrality.html?highlight=closeness_centrality#networkx.algorithms.centrality.closeness_centrality))\n",
    "\n",
    "```python\n",
    ">>> nx.closeness_centrality(G)\n",
    "```\n",
    "\n",
    "betweenness centrality ([documentation](https://networkx.github.io/documentation/networkx-1.10/reference/generated/networkx.algorithms.centrality.betweenness_centrality.html?highlight=betweenness_centrality#networkx.algorithms.centrality.betweenness_centrality))\n",
    "\n",
    "```python\n",
    ">>> nx.betweenness_centrality(G)\n",
    "```"
   ]
  },
  {
   "cell_type": "code",
   "execution_count": 1,
   "metadata": {},
   "outputs": [],
   "source": [
    "import networkx as nx\n",
    "import matplotlib.pylab as plt\n",
    "\n",
    "%matplotlib inline"
   ]
  },
  {
   "cell_type": "code",
   "execution_count": 5,
   "metadata": {},
   "outputs": [
    {
     "name": "stdout",
     "output_type": "stream",
     "text": [
      "1 Paul\n",
      "2 Pierre\n",
      "3 Sophie\n",
      "4 Caroline\n",
      "1 2 1\n",
      "2 3 2\n",
      "3 4 2\n"
     ]
    },
    {
     "data": {
      "image/png": "[encoded data removed]",
      "text/plain": [
       "<Figure size 432x288 with 1 Axes>"
      ]
     },
     "metadata": {},
     "output_type": "display_data"
    }
   ],
   "source": [
    "G = nx.Graph()\n",
    "\n",
    "G.add_node(1)\n",
    "G.add_node(2)\n",
    "G.add_node(3)\n",
    "G.add_node(4)\n",
    "G.nodes[1]['name'] = 'Paul'\n",
    "G.nodes[2]['name'] = 'Pierre'\n",
    "G.nodes[3]['name'] = 'Sophie'\n",
    "G.nodes[4]['name'] = 'Caroline'\n",
    "\n",
    "# we can iterate through all nodes in the graph \n",
    "for node, attr in G.nodes(data=True):\n",
    "    print(node, attr['name'])\n",
    "\n",
    "\n",
    "G.add_edge(1,2, weight=1)\n",
    "G.add_edge(2,3, weight=2)\n",
    "G.add_edge(3,4, weight=2)\n",
    "\n",
    "# we can iterate through all edges in the graph \n",
    "for u,v, attr in G.edges(data=True):\n",
    "    print(u,v, attr['weight'])\n",
    "\n",
    "plt.figure()\n",
    "nx.draw_networkx(G)\n",
    "plt.axis('off');"
   ]
  },
  {
   "cell_type": "markdown",
   "metadata": {},
   "source": [
    "### 1- We load the graph of the Florentine Families"
   ]
  },
  {
   "cell_type": "code",
   "execution_count": null,
   "metadata": {
    "collapsed": true,
    "jupyter": {
     "outputs_hidden": true
    }
   },
   "outputs": [],
   "source": [
    "import csv\n",
    "import networkx as nx\n",
    "\n",
    "with open('../../Data/Florence/FlorentineFamiliesName.csv', 'r') as csvfile:\n",
    "    nodeReader = csv.reader(csvfile, delimiter=' ')\n",
    "    line = 0\n",
    "    labels = {}\n",
    "    for row in nodeReader:\n",
    "        if line > 0:\n",
    "            labels[int(row[0])] = row[1]\n",
    "        line += 1\n",
    "\n",
    "\n",
    "# Create the graph\n",
    "G = nx.Graph()\n",
    "with open('../../Data/Florence/FlorentineFamiliesNodes.csv', 'r') as csvfile:\n",
    "    nodeReader = csv.reader(csvfile, delimiter=' ')\n",
    "    line = 0\n",
    "    for row in nodeReader:\n",
    "        G.add_node(labels[int(row[1])])\n",
    "        G.add_node(labels[int(row[2])])\n",
    "        G.add_edge(labels[int(row[1])], labels[int(row[2])], weigth=float(row[3]))"
   ]
  },
  {
   "cell_type": "markdown",
   "metadata": {},
   "source": [
    "### 2 - Plot the Graph of the Florentine Families with labels\n",
    "\n",
    "[Plotting Graph with networkx](https://networkx.github.io/documentation/latest/reference/generated/networkx.drawing.nx_pylab.draw_networkx.html#networkx.drawing.nx_pylab.draw_networkx)"
   ]
  },
  {
   "cell_type": "code",
   "execution_count": null,
   "metadata": {
    "deletable": false,
    "nbgrader": {
     "cell_type": "code",
     "checksum": "42b8364e3de803f3ae2dae38ed44d60c",
     "grade": true,
     "grade_id": "cell-512e70579223542e",
     "locked": false,
     "points": 1,
     "schema_version": 3,
     "solution": true
    }
   },
   "outputs": [],
   "source": [
    "# YOUR CODE HERE\n",
    "raise NotImplementedError()"
   ]
  },
  {
   "cell_type": "markdown",
   "metadata": {},
   "source": [
    "### 3 - Compute the closeness centrality of the graph"
   ]
  },
  {
   "cell_type": "code",
   "execution_count": null,
   "metadata": {
    "deletable": false,
    "nbgrader": {
     "cell_type": "code",
     "checksum": "0177df75f9e2a4aae63e23afe0ee6338",
     "grade": true,
     "grade_id": "cell-32008edca7412421",
     "locked": false,
     "points": 1,
     "schema_version": 3,
     "solution": true
    }
   },
   "outputs": [],
   "source": [
    "# YOUR CODE HERE\n",
    "raise NotImplementedError()"
   ]
  },
  {
   "cell_type": "markdown",
   "metadata": {},
   "source": [
    "### 3 - Plot the graph with de node size as function of the closeness centrality"
   ]
  },
  {
   "cell_type": "code",
   "execution_count": null,
   "metadata": {
    "deletable": false,
    "nbgrader": {
     "cell_type": "code",
     "checksum": "5b2e4abee4f9a4c7ea91f77a7336da0e",
     "grade": true,
     "grade_id": "cell-b4d19bc741c64971",
     "locked": false,
     "points": 1,
     "schema_version": 3,
     "solution": true
    }
   },
   "outputs": [],
   "source": [
    "# YOUR CODE HERE\n",
    "raise NotImplementedError()"
   ]
  },
  {
   "cell_type": "markdown",
   "metadata": {},
   "source": [
    "# Exo 3: The global trade graph "
   ]
  },
  {
   "cell_type": "code",
   "execution_count": null,
   "metadata": {},
   "outputs": [],
   "source": [
    "import networkx as nx\n",
    "# load the global trade graph \n",
    "Gtrade = nx.read_gml(\"../../Data/Comtrade/comtrade.gml\")\n",
    "\n",
    "print(\"trade between\", Gtrade.node[\"156\"][\"name\"], \"and\", Gtrade.node[\"842\"][\"name\"], \"=\", Gtrade[\"156\"][\"842\"][\"weight\"], \"dollars\")"
   ]
  },
  {
   "cell_type": "markdown",
   "metadata": {},
   "source": [
    "### 1. What percentage of the edges are reciprocal?"
   ]
  },
  {
   "cell_type": "code",
   "execution_count": null,
   "metadata": {
    "deletable": false,
    "nbgrader": {
     "cell_type": "code",
     "checksum": "ebc1c5eb2dfd8f49fe7d89a46867e2fa",
     "grade": true,
     "grade_id": "cell-8d2dd38428cfbbd9",
     "locked": false,
     "points": 1,
     "schema_version": 3,
     "solution": true
    }
   },
   "outputs": [],
   "source": [
    "# YOUR CODE HERE\n",
    "raise NotImplementedError()"
   ]
  },
  {
   "cell_type": "markdown",
   "metadata": {},
   "source": [
    "### 2. Rank the top 10 countries by in-degree (the number of other countries they import from)"
   ]
  },
  {
   "cell_type": "code",
   "execution_count": null,
   "metadata": {
    "deletable": false,
    "nbgrader": {
     "cell_type": "code",
     "checksum": "0d007433f3fb9462ebf4b0ca41fdfb73",
     "grade": true,
     "grade_id": "cell-f05b86a4940e9478",
     "locked": false,
     "points": 1,
     "schema_version": 3,
     "solution": true
    }
   },
   "outputs": [],
   "source": [
    "# YOUR CODE HERE\n",
    "raise NotImplementedError()"
   ]
  },
  {
   "cell_type": "markdown",
   "metadata": {},
   "source": [
    "### 3.  Sum the weights of the outbound edges for each country and report total exports for each of the top 5."
   ]
  },
  {
   "cell_type": "code",
   "execution_count": null,
   "metadata": {
    "deletable": false,
    "nbgrader": {
     "cell_type": "code",
     "checksum": "357f153a97478414d5d2592c7bdf6ae7",
     "grade": true,
     "grade_id": "cell-91df7121182f62fe",
     "locked": false,
     "points": 1,
     "schema_version": 3,
     "solution": true
    }
   },
   "outputs": [],
   "source": [
    "# YOUR CODE HERE\n",
    "raise NotImplementedError()"
   ]
  },
  {
   "cell_type": "markdown",
   "metadata": {},
   "source": [
    "### 5. Which country has the greatest difference between unweighted in and out-degree?"
   ]
  },
  {
   "cell_type": "code",
   "execution_count": null,
   "metadata": {
    "deletable": false,
    "nbgrader": {
     "cell_type": "code",
     "checksum": "09cbb0a726948f44b84c34d2df8fbb52",
     "grade": true,
     "grade_id": "cell-208ea87a3c97d48e",
     "locked": false,
     "points": 1,
     "schema_version": 3,
     "solution": true
    }
   },
   "outputs": [],
   "source": [
    "# YOUR CODE HERE\n",
    "raise NotImplementedError()"
   ]
  },
  {
   "cell_type": "markdown",
   "metadata": {},
   "source": [
    "### 6. Which country has the largest closeness centrality ?"
   ]
  },
  {
   "cell_type": "code",
   "execution_count": null,
   "metadata": {
    "deletable": false,
    "nbgrader": {
     "cell_type": "code",
     "checksum": "ab06819ec0468d4cbc7203549b367455",
     "grade": true,
     "grade_id": "cell-cf6946d4a492cd38",
     "locked": false,
     "points": 1,
     "schema_version": 3,
     "solution": true
    }
   },
   "outputs": [],
   "source": [
    "# YOUR CODE HERE\n",
    "raise NotImplementedError()"
   ]
  },
  {
   "cell_type": "markdown",
   "metadata": {},
   "source": [
    "## Exo 4: Network of Thrones\n",
    "\n",
    "Here we have an adjacency list of characters of Games of Throners and their number of interactions throughout the text of the books of J. R. Martins (not the the HBO series). \n",
    "\n",
    "```csv\n",
    "Source,Target,Weight\n",
    "Aemon,Grenn,5\n",
    "Aemon,Samwell,31\n",
    "Aerys,Jaime,18\n",
    "...\n",
    "```\n",
    "\n",
    "### Sumarize in a figure the following statistics \n",
    "1. Degree distribution\n",
    "2. Weighted Degree distribution\n",
    "\n",
    "### Summarize in a table the following statistics\n",
    "1. Betweenness centrality of each character\n",
    "2. Closeness of each character\n",
    "\n",
    "Conlude about each charaters place in the story"
   ]
  },
  {
   "cell_type": "code",
   "execution_count": null,
   "metadata": {
    "collapsed": true,
    "jupyter": {
     "outputs_hidden": true
    }
   },
   "outputs": [],
   "source": [
    "import csv \n",
    "import numpy as np\n",
    "import pandas as pd\n",
    "import networkx as nx\n",
    "\n",
    "edges_list = []\n",
    "with open(\"../../Data/GameOfThrones/stormofswords.csv\") as GOT:\n",
    "    rows = csv.reader(GOT)\n",
    "    next(rows)\n",
    "    for row in rows:\n",
    "        edges_list.append([row[0], row[1], int(row[2])])\n",
    "        \n",
    "G = nx.DiGraph()\n",
    "G.add_weighted_edges_from(edges_list)"
   ]
  },
  {
   "cell_type": "markdown",
   "metadata": {},
   "source": [
    "## Compute and plot the degree distribution of the graph"
   ]
  },
  {
   "cell_type": "code",
   "execution_count": null,
   "metadata": {
    "deletable": false,
    "nbgrader": {
     "cell_type": "code",
     "checksum": "a1ad80c5c3b39ba9fa472e4615930fec",
     "grade": true,
     "grade_id": "cell-ca3a41d5f1dabbfe",
     "locked": false,
     "points": 1,
     "schema_version": 3,
     "solution": true,
     "task": false
    }
   },
   "outputs": [],
   "source": [
    "# YOUR CODE HERE\n",
    "raise NotImplementedError()"
   ]
  },
  {
   "cell_type": "markdown",
   "metadata": {},
   "source": [
    "## Compute and plot the weigted degree distribution of the graph"
   ]
  },
  {
   "cell_type": "code",
   "execution_count": null,
   "metadata": {
    "deletable": false,
    "nbgrader": {
     "cell_type": "code",
     "checksum": "1ca79242ccc513c661e122163c625b84",
     "grade": true,
     "grade_id": "cell-105dde5b4952af5c",
     "locked": false,
     "points": 1,
     "schema_version": 3,
     "solution": true,
     "task": false
    }
   },
   "outputs": [],
   "source": [
    "# YOUR CODE HERE\n",
    "raise NotImplementedError()"
   ]
  },
  {
   "cell_type": "code",
   "execution_count": null,
   "metadata": {},
   "outputs": [],
   "source": [
    "nodes = [[name, d] for name, d in G.degree(weight=\"weight\")]\n",
    "GOT = pd.DataFrame(nodes, columns=[\"name\", \"strength\"])"
   ]
  },
  {
   "cell_type": "code",
   "execution_count": null,
   "metadata": {
    "deletable": false,
    "nbgrader": {
     "cell_type": "code",
     "checksum": "4c6a776984492f3e594eced81b83846e",
     "grade": true,
     "grade_id": "cell-8bbb3c8905e9dda2",
     "locked": false,
     "points": 1,
     "schema_version": 3,
     "solution": true,
     "task": false
    }
   },
   "outputs": [],
   "source": [
    "# YOUR CODE HERE\n",
    "raise NotImplementedError()"
   ]
  },
  {
   "cell_type": "code",
   "execution_count": null,
   "metadata": {
    "deletable": false,
    "nbgrader": {
     "cell_type": "code",
     "checksum": "8a6fa37bfff3aeb0d83a71c77cdf5beb",
     "grade": true,
     "grade_id": "cell-5453059e8f93e995",
     "locked": false,
     "points": 1,
     "schema_version": 3,
     "solution": true,
     "task": false
    }
   },
   "outputs": [],
   "source": [
    "# YOUR CODE HERE\n",
    "raise NotImplementedError()"
   ]
  },
  {
   "cell_type": "code",
   "execution_count": null,
   "metadata": {
    "deletable": false,
    "nbgrader": {
     "cell_type": "code",
     "checksum": "1666035bee33ec3c3bed38169ac2b0f1",
     "grade": true,
     "grade_id": "cell-95f8687facd26b8d",
     "locked": false,
     "points": 1,
     "schema_version": 3,
     "solution": true,
     "task": false
    }
   },
   "outputs": [],
   "source": [
    "# YOUR CODE HERE\n",
    "raise NotImplementedError()"
   ]
  },
  {
   "cell_type": "code",
   "execution_count": null,
   "metadata": {
    "deletable": false,
    "nbgrader": {
     "cell_type": "code",
     "checksum": "1cf1981ddff4a7b758bfa96c0296acf7",
     "grade": true,
     "grade_id": "cell-1013b6499ee3a01b",
     "locked": false,
     "points": 1,
     "schema_version": 3,
     "solution": true,
     "task": false
    }
   },
   "outputs": [],
   "source": [
    "# YOUR CODE HERE\n",
    "raise NotImplementedError()"
   ]
  },
  {
   "cell_type": "code",
   "execution_count": null,
   "metadata": {
    "deletable": false,
    "nbgrader": {
     "cell_type": "code",
     "checksum": "7bb0f762f1457bbee7ce23fe21afc030",
     "grade": true,
     "grade_id": "cell-93e38fba9ea7432c",
     "locked": false,
     "points": 1,
     "schema_version": 3,
     "solution": true,
     "task": false
    }
   },
   "outputs": [],
   "source": [
    "# YOUR CODE HERE\n",
    "raise NotImplementedError()"
   ]
  }
 ],
 "metadata": {
  "kernelspec": {
   "display_name": "Python 3",
   "language": "python",
   "name": "python3"
  },
  "language_info": {
   "codemirror_mode": {
    "name": "ipython",
    "version": 3
   },
   "file_extension": ".py",
   "mimetype": "text/x-python",
   "name": "python",
   "nbconvert_exporter": "python",
   "pygments_lexer": "ipython3",
   "version": "3.7.4"
  }
 },
 "nbformat": 4,
 "nbformat_minor": 4
}

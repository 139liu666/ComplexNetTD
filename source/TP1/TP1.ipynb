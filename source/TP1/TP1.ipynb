{
 "cells": [
  {
   "cell_type": "markdown",
   "metadata": {},
   "source": [
    "<h2 align=\"center\">TP 1: Introduction to graph theory with Networkx</h2> \n",
    "\n",
    "<br />\n",
    "<br />\n",
    "<img src=\"../../images/webmap.jpg\"></img>\n",
    "\n",
    "# Getting Started\n",
    "\n",
    "## Installing Python (Anaconda)\n",
    "We recommend using the Anaconda Python distribution, as it bundles together many useful packages (including numpy, matplotlib, and IPython) that we will use throughout this class. To install Anaconda, please see [here](http://docs.continuum.io/anaconda/install). Make sure you get the version compatible with your OS (Mac, Linux, or Windows). If you'd like a more comprehensive document, please check out CS109's guide [here](https://github.com/cs109/content/wiki/Installing-Python).\n",
    "\n",
    "## Python Shell\n",
    "The Python Interactive Shell is a light-weight way to explore Python. It's commonly used for debugging, quick tasks, and as a calculator! To get to the shell, open Terminal and type `python`. More instructions are located [here](https://docs.python.org/2/tutorial/interpreter.html). The following sections will be done in the shell to allow you to get a feel for Python."
   ]
  },
  {
   "cell_type": "code",
   "execution_count": 1,
   "metadata": {},
   "outputs": [
    {
     "data": {
      "text/html": [
       "<style>\n",
       "    div.cell{\n",
       "      margin-left:auto;\n",
       "      margin-right:auto;\n",
       "    }\n",
       "\n",
       "    h1,h2,h3,h4,h5 {\n",
       "      align: left;\n",
       "      font-family:\"Charis SIL\", serif;\n",
       "    }\n",
       "\n",
       "    div.text_cell_render{\n",
       "      /*\n",
       "      font-family: \"Charis SIL\", sans-serif;\n",
       "      */\n",
       "      line-height: 145%;\n",
       "      font-size: 145%;\n",
       "      line-height: 145%;\n",
       "    }\n",
       "\n",
       "\n",
       "    /*\n",
       "    .CodeMirror{\n",
       "      font-family: \"Source Code Pro\", monospace;\n",
       "    }\n",
       "    */\n",
       "    \n",
       "    .text_cell_render h5 {\n",
       "      font-weight: 300;\n",
       "      font-size: 22pt;\n",
       "      color: #4057A1;\n",
       "      font-style: italic;\n",
       "      margin-bottom: .5em;\n",
       "      margin-top: 0.5em;\n",
       "      display: block;\n",
       "    }\n",
       "\n",
       "    div.warn {\n",
       "      margin-top: 30px;\n",
       "      background-color: #fcf2f2;\n",
       "      border-color: #dFb5b4;\n",
       "      border-left: 5px solid #dfb5b4;\n",
       "      padding: 0.5em;\n",
       "    }\n",
       "\n",
       "    div.green {\n",
       "      margin-top: 30px;\n",
       "      background-color: #adf08d;\n",
       "      border-color: #34c123;\n",
       "      border-left: 5px solid #34c123;\n",
       "      padding: 0.5em;\n",
       "    }\n",
       "\n",
       "</style>\n"
      ],
      "text/plain": [
       "<IPython.core.display.HTML object>"
      ]
     },
     "execution_count": 1,
     "metadata": {},
     "output_type": "execute_result"
    }
   ],
   "source": [
    "# Style pour le Notebook\n",
    "from IPython.core.display import HTML\n",
    "\n",
    "def css_styling():\n",
    "    styles = open(\"../../styles/custom.css\", \"r\").read()\n",
    "    return HTML(styles)\n",
    "css_styling()"
   ]
  },
  {
   "cell_type": "markdown",
   "metadata": {},
   "source": [
    "# Python Basic\n",
    "## Lists\n",
    "\n",
    "Lists are basic Python structures that function as arrays. They can store all types of data. You can index a specific element using `[]` brackets, which comes in handy very frequently."
   ]
  },
  {
   "cell_type": "code",
   "execution_count": 2,
   "metadata": {},
   "outputs": [
    {
     "name": "stdout",
     "output_type": "stream",
     "text": [
      "5\n"
     ]
    }
   ],
   "source": [
    "# Variable assignment\n",
    "a = 3\n",
    "b = 2\n",
    "print(a + b)  # 5\n",
    "\n",
    "c = []\n",
    "d = [1,2]"
   ]
  },
  {
   "cell_type": "code",
   "execution_count": 3,
   "metadata": {},
   "outputs": [
    {
     "name": "stdout",
     "output_type": "stream",
     "text": [
      "List basics:\n",
      "list b: [1, 2, 3, 4, 5, 6]\n",
      "second element in list b: 2\n",
      "sub list: [2, 4, 5]\n",
      "new list b: [1, 2, 3, 4, 5, 6, 7]\n",
      "last element two ways: 7 7\n",
      "\n",
      "\n",
      "List of lists:\n",
      "list of lists c: [[], [1, 2, 3, 4, 5, 6, 7]]\n",
      "new list of lists c: [[], [1, 2, 3, 4, 5, 6, 7], [3, 4, 5]]\n",
      "third list in c: [3, 4, 5]\n",
      "second element of third list in c: 4\n",
      "\n",
      "\n"
     ]
    }
   ],
   "source": [
    "# List basics\n",
    "print('List basics:')\n",
    "list_a = []\n",
    "list_b = [1,2,3,4,5,6]\n",
    "print('list b:', list_b)\n",
    "second_elt_in_list_b = list_b[1]  # remember, we index from 0\n",
    "print('second element in list b:', second_elt_in_list_b)\n",
    "tmp = [1,3,4]\n",
    "sub_list_list_b = [list_b[i] for i in tmp]\n",
    "print('sub list:', sub_list_list_b)\n",
    "list_b.append(7)\n",
    "print('new list b:', list_b)\n",
    "last_elt_b = list_b[-1]\n",
    "last_elt_b_2 = list_b[len(list_b)-1]\n",
    "print('last element two ways:', last_elt_b, last_elt_b_2)\n",
    "print('\\n')  # newline character\n",
    "\n",
    "# List of lists\n",
    "print('List of lists:')\n",
    "list_of_lists_c = [list_a,list_b]\n",
    "print('list of lists c:', list_of_lists_c)\n",
    "list_of_lists_c.append([3,4,5])\n",
    "print('new list of lists c:', list_of_lists_c)\n",
    "third_list_in_c = list_of_lists_c[2]\n",
    "print('third list in c:', third_list_in_c)\n",
    "second_elt_of_third_list_in_c = list_of_lists_c[2][1]\n",
    "print('second element of third list in c:', second_elt_of_third_list_in_c)\n",
    "print('\\n')"
   ]
  },
  {
   "cell_type": "markdown",
   "metadata": {},
   "source": [
    "## Conditional Statements\n",
    "\n",
    "Conditional statements and loops are useful control structures that allow you to structure the way your program will execute. Note that Python cares about whitespace; proper indentation after conditional statements and function definitions (in the next section) is key to avoiding syntax errors, even in the Interactive Shell."
   ]
  },
  {
   "cell_type": "code",
   "execution_count": 4,
   "metadata": {},
   "outputs": [
    {
     "name": "stdout",
     "output_type": "stream",
     "text": [
      "1 > 0\n",
      "1 !< 0\n",
      "1 < 2\n"
     ]
    }
   ],
   "source": [
    "# Conditional statements\n",
    "if 1 > 0:\n",
    "    print('1 > 0')\n",
    "    \n",
    "if 1 < 0:\n",
    "    print('1 < 0')\n",
    "else:\n",
    "    print('1 !< 0')\n",
    "    \n",
    "if 1 < 0:\n",
    "    print('1 < 0')\n",
    "elif 1 < 2:\n",
    "    print('1 < 2')\n",
    "else:\n",
    "    print('none of the above')"
   ]
  },
  {
   "cell_type": "markdown",
   "metadata": {},
   "source": [
    "## Loops"
   ]
  },
  {
   "cell_type": "code",
   "execution_count": 5,
   "metadata": {},
   "outputs": [
    {
     "name": "stdout",
     "output_type": "stream",
     "text": [
      "0\n",
      "1\n",
      "2\n",
      "3\n",
      "4\n",
      "5\n",
      "6\n",
      "7\n",
      "8\n",
      "9\n",
      "1\n",
      "2\n",
      "3\n",
      "4\n",
      "5\n",
      "6\n",
      "7\n",
      "0\n",
      "1\n",
      "2\n",
      "3\n",
      "4\n",
      "5\n",
      "6\n",
      "7\n",
      "8\n",
      "9\n"
     ]
    }
   ],
   "source": [
    "# For loops\n",
    "for i in range(0,10):\n",
    "    print(i)\n",
    "    \n",
    "# looping through lists\n",
    "for x in list_b:\n",
    "    print(x)\n",
    "\n",
    "# While loops\n",
    "j = 0\n",
    "while j < 10:\n",
    "    print(j)\n",
    "    j += 1"
   ]
  },
  {
   "cell_type": "markdown",
   "metadata": {},
   "source": [
    "### List comprehensions"
   ]
  },
  {
   "cell_type": "code",
   "execution_count": 6,
   "metadata": {},
   "outputs": [
    {
     "name": "stdout",
     "output_type": "stream",
     "text": [
      "Normal for loop: [4, 5, 6, 4, 5, 7, 5, 6, 4, 5]\n",
      "List comprehension: [4, 5, 6, 4, 5, 7, 5, 6, 4, 5]\n"
     ]
    }
   ],
   "source": [
    "# List comprehensions\n",
    "list_b = [1,3,4,2,5,6,4,5,7,5,6,4,5,3,1,2]\n",
    "\n",
    "# Normal for loop\n",
    "tmp1 = []\n",
    "for x in list_b:\n",
    "    if x > 3:\n",
    "        tmp1.append(x)\n",
    "print('Normal for loop:', tmp1)\n",
    "\n",
    "# List comprehension\n",
    "tmp2 = [x for x in list_b if x > 3]\n",
    "print('List comprehension:', tmp2)"
   ]
  },
  {
   "cell_type": "code",
   "execution_count": 7,
   "metadata": {},
   "outputs": [
    {
     "name": "stdout",
     "output_type": "stream",
     "text": [
      "[1, 2, 3, 4, 5, 6]\n",
      "[2, 3, 5, 7, 6, 9]\n",
      "4\n",
      "5\n",
      "4\n",
      "5\n",
      "6\n",
      "7\n",
      "5\n",
      "6\n",
      "6\n",
      "7\n",
      "8\n",
      "8\n",
      "[3, 4, 5]\n",
      "[4, 5, 6, 7]\n",
      "[6, 7, 8, 8, 9]\n"
     ]
    }
   ],
   "source": [
    "# Using LL from the previous example, do the following:\n",
    "# Given a list of lists, do the following:\n",
    "LL = [[1,2],[2,3],[3,4,5],[4,5,6,7],[5,6],[6,7,8,8,9]]\n",
    "\n",
    "# a. Create a new list first_LL of the first elements of each sublist\n",
    "first_LL = []\n",
    "for L in LL:\n",
    "    first_LL.append(L[0])\n",
    "    \n",
    "print(first_LL)\n",
    "\n",
    "# b. Create a new list last_LL of the last elements of each sublist\n",
    "last_LL = []\n",
    "for L in LL:\n",
    "    last_LL.append(L[-1])  # or L[len(L)-1]\n",
    "    \n",
    "print(last_LL)\n",
    "\n",
    "# c. Print all values in all sublists in the range [4,8]\n",
    "for L in LL:\n",
    "    for x in L:\n",
    "        if x >= 4 and x <= 8:\n",
    "            print(x)\n",
    "\n",
    "# d. Print all sublists of length 3 or greater\n",
    "for L in LL:\n",
    "    if len(L) >= 3:\n",
    "        print(L)"
   ]
  },
  {
   "cell_type": "code",
   "execution_count": 8,
   "metadata": {},
   "outputs": [
    {
     "name": "stdout",
     "output_type": "stream",
     "text": [
      "1 is in list d\n",
      "6 is not in list d\n"
     ]
    }
   ],
   "source": [
    "# Checking membership\n",
    "\n",
    "# Lists\n",
    "list_d = [1,2,3,4,5]\n",
    "\n",
    "if 1 in list_d:\n",
    "    print('1 is in list d')\n",
    "\n",
    "if 6 not in list_d:\n",
    "    print('6 is not in list d')"
   ]
  },
  {
   "cell_type": "markdown",
   "metadata": {},
   "source": [
    "## Dictionaries\n",
    "\n",
    "In Python, dictionaries are essentially hash tables. They store (key,value) pairs and can contain data of all types."
   ]
  },
  {
   "cell_type": "code",
   "execution_count": 9,
   "metadata": {},
   "outputs": [
    {
     "name": "stdout",
     "output_type": "stream",
     "text": [
      "my dict: {'key1': 'value1'}\n",
      "first entry: value1\n",
      "list dict: {1: [0], 2: [0, 1], 3: [0, 1, 2], 4: [0, 1, 2, 3], 5: [0, 1, 2, 3, 4], 6: [0, 1, 2, 3, 4, 5], 7: [0, 1, 2, 3, 4, 5, 6], 8: [0, 1, 2, 3, 4, 5, 6, 7], 9: [0, 1, 2, 3, 4, 5, 6, 7, 8], 10: [0, 1, 2, 3, 4, 5, 6, 7, 8, 9], 11: [0, 1, 2, 3, 4, 5, 6, 7, 8, 9, 10], 12: [0, 1, 2, 3, 4, 5, 6, 7, 8, 9, 10, 11], 13: [0, 1, 2, 3, 4, 5, 6, 7, 8, 9, 10, 11, 12], 14: [0, 1, 2, 3, 4, 5, 6, 7, 8, 9, 10, 11, 12, 13], 15: [0, 1, 2, 3, 4, 5, 6, 7, 8, 9, 10, 11, 12, 13, 14], 16: [0, 1, 2, 3, 4, 5, 6, 7, 8, 9, 10, 11, 12, 13, 14, 15], 17: [0, 1, 2, 3, 4, 5, 6, 7, 8, 9, 10, 11, 12, 13, 14, 15, 16], 18: [0, 1, 2, 3, 4, 5, 6, 7, 8, 9, 10, 11, 12, 13, 14, 15, 16, 17], 19: [0, 1, 2, 3, 4, 5, 6, 7, 8, 9, 10, 11, 12, 13, 14, 15, 16, 17, 18], 20: [0, 1, 2, 3, 4, 5, 6, 7, 8, 9, 10, 11, 12, 13, 14, 15, 16, 17, 18, 19]}\n",
      "last entry: [0, 1, 2, 3, 4, 5, 6, 7, 8, 9, 10, 11, 12, 13, 14, 15, 16, 17, 18, 19]\n"
     ]
    }
   ],
   "source": [
    "# Dictionary example\n",
    "my_dict = {}  # declare empty dictionary\n",
    "my_dict['key1'] = 'value1'  # insert ('key1','value1') pair in dictionary\n",
    "print('my dict:', my_dict)  # prints entire dictionary\n",
    "print('first entry:', my_dict['key1'])  # index into dictionaries with keys\n",
    "\n",
    "# Second dictionary example\n",
    "dict1 = {}\n",
    "for x in range(1,21):\n",
    "    # each dictionary entry is a list of all whole numbers less than that value\n",
    "    dict1[x] = list(range(0,x))\n",
    "print('list dict:', dict1)\n",
    "print('last entry:', dict1[20])\n"
   ]
  },
  {
   "cell_type": "code",
   "execution_count": 10,
   "metadata": {},
   "outputs": [
    {
     "name": "stdout",
     "output_type": "stream",
     "text": [
      "a is a key in dict a\n",
      "d is not a key in dict a\n",
      "3 is a value in dict a\n",
      "4 is not a value in dict a\n"
     ]
    }
   ],
   "source": [
    "# Dictionaries\n",
    "# dict.keys() and dict.values() are lists of the keys and values in the dictionary\n",
    "dict_a = {'a': 3, 'b': 2, 'c': 1}\n",
    "\n",
    "if 'a' in dict_a.keys():\n",
    "    print('a is a key in dict a')\n",
    "if 'd' not in dict_a.keys():\n",
    "    print('d is not a key in dict a')\n",
    "    \n",
    "if 3 in dict_a.values():\n",
    "    print('3 is a value in dict a')\n",
    "if 4 not in dict_a.values():\n",
    "    print('4 is not a value in dict a')"
   ]
  },
  {
   "cell_type": "markdown",
   "metadata": {},
   "source": [
    "## Functions\n",
    "\n",
    "Functions are useful ways of encapsulating blocks of code to perform tasks. Each function is declared with the `def` keyword and takes a list of arguments. Additionally, most functions return something via the `return` keyword, which exits the function."
   ]
  },
  {
   "cell_type": "code",
   "execution_count": 13,
   "metadata": {},
   "outputs": [
    {
     "name": "stdout",
     "output_type": "stream",
     "text": [
      "sum: 4\n",
      "sum list: 13\n"
     ]
    }
   ],
   "source": [
    "# Functions are declared with the 'def' keyword followed by the \n",
    "# function name and a list of arguments to the function.\n",
    "def my_function(arg1,arg2):\n",
    "    tmp = arg1 + arg2\n",
    "    return tmp\n",
    "\n",
    "return_value = my_function(1,3)\n",
    "print('sum:', return_value)\n",
    "\n",
    "def sum_list_naive(L):\n",
    "    sum = 0\n",
    "    for x in L:\n",
    "        sum += x\n",
    "    return sum\n",
    "\n",
    "print('sum list:', sum_list_naive([1,4,5,3]))"
   ]
  },
  {
   "cell_type": "markdown",
   "metadata": {},
   "source": [
    "### Exercises 1\n",
    "\n",
    "Write a function that goes through the following list and finds the smallest element. Do not use any built-in functions such as min(L)."
   ]
  },
  {
   "cell_type": "code",
   "execution_count": 14,
   "metadata": {
    "collapsed": true,
    "jupyter": {
     "outputs_hidden": true
    }
   },
   "outputs": [],
   "source": [
    "# Find the smallest element of this list\n",
    "L = [3,1,2,4,5,3,1,4,2,5,6,3,6,7,5,4,7,1,2,4,3,5,6,7,5]\n",
    "\n",
    "# Pseudocode:\n",
    "# Initialize current smallest element to the first element in list\n",
    "# Loop through list, updating current smallest element if necessary\n",
    "\n",
    "def find_smallest(input_list):\n",
    "    min_elem = input_list[0]\n",
    "    for elem in input_list:\n",
    "        if elem < min_elem:\n",
    "            min_elem = elem\n",
    "    return min_elem"
   ]
  },
  {
   "cell_type": "code",
   "execution_count": 15,
   "metadata": {
    "collapsed": true,
    "jupyter": {
     "outputs_hidden": true
    }
   },
   "outputs": [],
   "source": [
    "L_smallest = find_smallest(L)\n",
    "assert L_smallest == 1"
   ]
  },
  {
   "cell_type": "markdown",
   "metadata": {},
   "source": [
    "## Representing Graphs\n",
    "\n",
    "The most common data structures for representing graphs are adjacency matrices and adjacency lists. In general, adjacency matrices are better for dense graphs (because they take up $O(n^2)$ room), and they support very quick edge lookups. However, it's slow to iterate over all edges. Adjacency lists are better for sparse graphs and allows quick iteration over all edges in a graph, but finding the existence of a specific edge takes longer. For these examples, we will focus on using adjacency lists.\n",
    "\n",
    "The most basic way of representing a graph is through a list of lists. In this way, we can say that the $n^{th}$ list represents all of the $n^{th}$ vertex's connections. We will go through an example on the board."
   ]
  },
  {
   "cell_type": "code",
   "execution_count": 16,
   "metadata": {},
   "outputs": [
    {
     "name": "stdout",
     "output_type": "stream",
     "text": [
      "[1, 3]\n",
      "[0, 2]\n"
     ]
    }
   ],
   "source": [
    "# List of lists representation of a graph\n",
    "# Graph G: Vertices = {0,1,2,3}, Edges = {(0,1),(1,2),(2,3),(3,0)}\n",
    "\n",
    "G_LL = [[1,3],[0,2],[1,3],[0,2]]\n",
    "\n",
    "# Vertex 0's neighbors\n",
    "print(G_LL[0])\n",
    "\n",
    "# Vertex 1's neighbors\n",
    "print(G_LL[1])"
   ]
  },
  {
   "cell_type": "markdown",
   "metadata": {},
   "source": [
    "Another way of representing a graph is through a dictionary. See the below section for a quick introduction to a dictionary. The keys in this case will be the vertex names, and the corresponding values will be a list of all adjacent vertices. Note that using a dictionary is more convenient for graphs that have strings as labels for each vertex, but using a dictionary is more expensive in terms of memory and time. For the example above, we have the following."
   ]
  },
  {
   "cell_type": "code",
   "execution_count": 17,
   "metadata": {},
   "outputs": [
    {
     "name": "stdout",
     "output_type": "stream",
     "text": [
      "[1, 3]\n",
      "[0, 2]\n"
     ]
    }
   ],
   "source": [
    "# Dictionary representation of a graph\n",
    "# Graph G: Vertices = {0,1,2,3}, Edges = {(0,1),(1,2),(2,3),(3,0)}\n",
    "\n",
    "G_dict = {0:[1,3], 1:[0,2], 2:[1,3], 3:[0,2]}\n",
    "\n",
    "# Vertex 0's neighbors\n",
    "print(G_dict[0])\n",
    "\n",
    "# Vertex 1's neighbors\n",
    "print(G_dict[1])"
   ]
  },
  {
   "cell_type": "markdown",
   "metadata": {},
   "source": [
    "## Plotting Data"
   ]
  },
  {
   "cell_type": "code",
   "execution_count": 4,
   "metadata": {},
   "outputs": [
    {
     "data": {
      "image/png": "[encoded data removed]",
      "text/plain": [
       "<matplotlib.figure.Figure at 0x1084925f8>"
      ]
     },
     "metadata": {},
     "output_type": "display_data"
    }
   ],
   "source": [
    "import matplotlib.pylab as plt  # use matplotlib's pyplot package\n",
    "import numpy as np\n",
    "\n",
    "%matplotlib inline\n",
    "\n",
    "x = np.linspace(-2, 2, 100)\n",
    "\n",
    "plt.plot(x, x**2)\n",
    "plt.show()"
   ]
  },
  {
   "cell_type": "markdown",
   "metadata": {},
   "source": [
    "## Matrix Operations in Python\n",
    "\n",
    "When dealing with matrices in Python, the general best practice is to use the NumPy package. This codelab will go over how to carry out operations on matrices useful for the next problem set (and in general)."
   ]
  },
  {
   "cell_type": "code",
   "execution_count": 16,
   "metadata": {},
   "outputs": [
    {
     "name": "stdout",
     "output_type": "stream",
     "text": [
      "matrices: \n",
      " [[ 1.  2.  3.]\n",
      " [ 4.  5.  6.]\n",
      " [ 7.  8.  9.]] \n",
      " [[0 1 0]\n",
      " [1 0 0]\n",
      " [0 1 1]]\n",
      "first row:\n",
      " [[ 1.  2.  3.]]\n",
      "first column:\n",
      " [[ 1.]\n",
      " [ 4.]\n",
      " [ 7.]]\n",
      "first two rows:\n",
      " [[ 1.  2.  3.]\n",
      " [ 4.  5.  6.]]\n",
      "first two cols:\n",
      " [[ 1.  2.]\n",
      " [ 4.  5.]\n",
      " [ 7.  8.]]\n",
      "shape:  (3, 3)\n",
      "size:  9\n"
     ]
    }
   ],
   "source": [
    "import numpy as np\n",
    "# numpy has packages called 'matrix' and 'linalg' that will be useful\n",
    "\n",
    "mat1 = np.matrix( [[1.,2.,3.],[4.,5.,6.],[7.,8.,9.]] )\n",
    "mat2 = np.matrix( [[0,1,0],[1,0,0],[0,1,1]] )\n",
    "\n",
    "print('matrices: \\n', mat1, '\\n', mat2)\n",
    "\n",
    "# indexing into matrices\n",
    "print('first row:\\n', mat1[0,:])\n",
    "print('first column:\\n', mat1[:,0])\n",
    "print('first two rows:\\n', mat1[0:2,:])\n",
    "print('first two cols:\\n', mat1[:,0:2])\n",
    "\n",
    "# matrix attributes\n",
    "print('shape: ', mat1.shape)\n",
    "print('size: ', mat1.size)"
   ]
  },
  {
   "cell_type": "markdown",
   "metadata": {},
   "source": [
    "Here are some example of matrix operations that you should know.\n",
    "\n",
    "There some Cheat_Sheet:\n",
    "1. [NumPy for Matlab users](https://docs.scipy.org/doc/numpy-1.15.0/user/numpy-for-matlab-users.html)\n",
    "2. [Numpy Cheat_Sheet](https://s3.amazonaws.com/assets.datacamp.com/blog_assets/Numpy_Python_Cheat_Sheet.pdf)"
   ]
  },
  {
   "cell_type": "code",
   "execution_count": 17,
   "metadata": {},
   "outputs": [
    {
     "name": "stdout",
     "output_type": "stream",
     "text": [
      "plus: \n",
      " [[  1.   3.   3.]\n",
      " [  5.   5.   6.]\n",
      " [  7.   9.  10.]]\n",
      "minus: \n",
      " [[ 1.  1.  3.]\n",
      " [ 3.  5.  6.]\n",
      " [ 7.  7.  8.]]\n",
      "element-wise multiplication: \n",
      " [[ 0.  2.  0.]\n",
      " [ 4.  0.  0.]\n",
      " [ 0.  8.  9.]]\n",
      "matrix multiplication: \n",
      " [[  2.   4.   3.]\n",
      " [  5.  10.   6.]\n",
      " [  8.  16.   9.]]\n",
      "element-wise division: \n",
      " [[ 0.          0.5         0.        ]\n",
      " [ 0.25        0.          0.        ]\n",
      " [ 0.          0.125       0.11111111]]\n",
      "element-wise power: \n",
      " [[  1.   4.   9.]\n",
      " [ 16.  25.  36.]\n",
      " [ 49.  64.  81.]]\n",
      "matrix power: \n",
      " [[  30.   36.   42.]\n",
      " [  66.   81.   96.]\n",
      " [ 102.  126.  150.]]\n"
     ]
    }
   ],
   "source": [
    "# matrix operations\n",
    "print ('plus: \\n', mat1 + mat2)\n",
    "print ('minus: \\n', mat1 - mat2)\n",
    "\n",
    "# element-wise multiplication\n",
    "print ('element-wise multiplication: \\n', np.multiply(mat1,mat2))\n",
    "\n",
    "# matrix multiplication\n",
    "print('matrix multiplication: \\n', np.dot(mat1,mat2))\n",
    "# print mat1*mat2\n",
    "\n",
    "# element-wise division\n",
    "print('element-wise division: \\n', np.divide(mat2,mat1))\n",
    "# print mat2/mat1\n",
    "\n",
    "# raising matrices to powers (element-wise)\n",
    "print('element-wise power: \\n', np.power(mat1,2))\n",
    "\n",
    "# raising matrices to powers\n",
    "print('matrix power: \\n', np.linalg.matrix_power(mat1,2))"
   ]
  },
  {
   "cell_type": "markdown",
   "metadata": {},
   "source": [
    "# EXO 1: Breadth First Search\n",
    "\n",
    "Breadth first search (BFS) is a common and useful graph traversal algorithm. A graph traversal algorithm describes a process for visiting the nodes in a tree or graph, where traversing from one node to another is only allowed if there is an edge connecting those vertices. A motivational property of BFS is that it can find connectivity and shortest distances between two nodes in graphs. For this class, we will apply BFS to compute centrality measures and other graph properties. In this lab we will study how BFS runs, how to implement it, and how it can be used.\n",
    "\n",
    "### Queue\n",
    "Before we can begin to study BFS, we need to understand the queue data structure. Similar to the non-computer science understanding of the word, a queue is essentially a line. Data, in our case nodes or vertices, enter the queue and are stored there. The operation of adding data to a queue is called enqueue() or push(). The order in which they enter the queue is preserved. When we need to retrieve data, we take the earliest element from the queue and it is removed from the queue. This operation is called dequeue() or pop(). This is referred to as <i>first-in-first-out</i> (FIFO).\n",
    "\n",
    "In Python, we can implement a queue naively as a list. However, lists were not built for this purpose, and do not have efficient push() and pop() operations. Alternatives include implementations included in libraries (which we will be using) or defining your own class and operations. For this lab we will use the queue data structure from the 'collections' library (https://docs.python.org/2/library/collections.html#collections.deque)."
   ]
  },
  {
   "cell_type": "code",
   "execution_count": 3,
   "metadata": {
    "jupyter": {
     "outputs_hidden": true
    }
   },
   "outputs": [],
   "source": [
    "from collections import deque"
   ]
  },
  {
   "cell_type": "code",
   "execution_count": 4,
   "metadata": {},
   "outputs": [
    {
     "name": "stdout",
     "output_type": "stream",
     "text": [
      "Plum\n"
     ]
    }
   ],
   "source": [
    "# initializes the queue with [S, W, M]\n",
    "queue = deque([\"Scarlet\", \"White\", \"Mustard\"])\n",
    "queue.append(\"Plum\")\n",
    "# Now the queue is [S, W, M, P]\n",
    "queue.popleft()\n",
    "# Now the queue is [W, M, P]\n",
    "queue.append(\"Greene\")\n",
    "# etc\n",
    "queue.popleft()\n",
    "queue.popleft()\n",
    "murderer = queue.popleft()\n",
    "print(murderer)\n",
    "\n",
    "# who is Boddy's murderer?\n",
    "# ANSWER: Plum"
   ]
  },
  {
   "cell_type": "markdown",
   "metadata": {},
   "source": [
    "### Algorithm"
   ]
  },
  {
   "cell_type": "markdown",
   "metadata": {},
   "source": [
    "Recall that a graph traversal is a route of nodes to follow or traverse, where we can only move between two nodes if there is an edge between them. Breadth first search specifies a process for doing so. In the simplest implementation, BFS visits a given node, adds its neighbors to the queue, then visits the element returned by the queue. To begin the BFS, we start at a given node, then visit all of that node's nieghbors, then visit all of one neighbor's neighbors, then another neighbor's neighbors, etc. Whenever we visit a node for the first time, we mark it as visited; otherwise we do nothing when re-visiting a node. The algorithm terminates once we have visited everything reachable from the given node, and we have a list of nodes reachable from that node.\n",
    "\n",
    "<br />\n",
    "<div align=\"center\">\n",
    "<img width=400 src=\"../../images/BFS.png\"></img>\n",
    "**Algorithm 1.: BFS**\n",
    "</div>\n"
   ]
  },
  {
   "cell_type": "code",
   "execution_count": 9,
   "metadata": {
    "jupyter": {
     "outputs_hidden": true
    },
    "nbgrader": {
     "grade": false,
     "grade_id": "cell-720dcd081a1db71b",
     "locked": false,
     "schema_version": 3,
     "solution": true
    }
   },
   "outputs": [],
   "source": [
    "# graph G represented as an adjacency list dictionary, a node v to start at\n",
    "def simpleBFS(G, v):\n",
    "    \"\"\"\n",
    "    This function return a list l where each element of the list is a Boolean. The element i of list is True \n",
    "    if the node i is reachable and False otherwise.\n",
    "        \n",
    "    ## Example: A <---> B <----> C \n",
    "    BFF(G, A) \n",
    "    return [True, True, True]\n",
    "        \n",
    "    ## Example: A       B <----> C \n",
    "    BFF(G, B) \n",
    "    return [False, True, True]\n",
    "    \"\"\"\n",
    "    ### BEGIN SOLUTION\n",
    "    reachable = [False] * len(G.keys())   # -1 indicates unvisited\n",
    "    reachable[v-1] = True                 # note: we assume vertices have integer names\n",
    "    \n",
    "    queue = deque()\n",
    "    queue.append(v)\n",
    "    while len(queue) != 0:           # while we still have things to visit\n",
    "        current = queue.popleft()\n",
    "        for node in G[current]:\n",
    "            if not reachable[node-1]:\n",
    "                reachable[node-1] = True\n",
    "                queue.append(node)\n",
    "    \n",
    "    return reachable\n",
    "    ### END SOLUTION"
   ]
  },
  {
   "cell_type": "code",
   "execution_count": 12,
   "metadata": {
    "jupyter": {
     "outputs_hidden": true
    },
    "nbgrader": {
     "grade": true,
     "grade_id": "cell-31c5b1f22a9201a3",
     "locked": true,
     "points": 1,
     "schema_version": 3,
     "solution": false
    }
   },
   "outputs": [],
   "source": [
    "# G as an adjacency list\n",
    "G = {1:[2,3], 2:[1,5], 3:[4,1,5], 4:[3], 5:[2,3,6], 6:[5]}\n",
    "\n",
    "assert simpleBFS(G, 1) == [True, True, True, True, True, True]"
   ]
  },
  {
   "cell_type": "markdown",
   "metadata": {},
   "source": [
    "<div align=\"center\"> <img width=500 src=\"../../images/SimpleGraph.png\"></img> </div>\n",
    "\n",
    "\n",
    "all the graph above $G$. If we call simpleBFS($G$, $a$), the steps the BFS will take are (assume nodes are added to the queue in alphabetical order)\n",
    "1. start at $a$, push nodes $b$ and $c$ on the queue and mark them as visited\n",
    "2. pop off $b$ from the queue, visit it, and add $e$ to the queue\n",
    "4. pop off $c$ from the queue, visit it, and add $d$ to the queue\n",
    "4. pop off $e$ from the queue, upon seeing that $c$ and $b$ have been visited, no nodes are added to the queue\n",
    "5. pop off $d$ and $f$ from the queue, no nodes are added to the queue\n",
    "\n",
    "## Exercises: \n",
    "**Question**: What is the order of traversal for simpleBFS($G$, $f$)? simpleBFS($G$,$b$)?\n",
    "\n",
    "**Result**: mon resultat est ...\n",
    "\n",
    "### Modifications\n",
    "Armed with an understanding of how BFS operates, we can make improvements on the algorithm so that we can extract more information about the graph in the running of BFS. Consider the following:"
   ]
  },
  {
   "cell_type": "code",
   "execution_count": 6,
   "metadata": {
    "collapsed": true,
    "jupyter": {
     "outputs_hidden": true
    },
    "nbgrader": {
     "grade": false,
     "grade_id": "cell-809116bb4049cddb",
     "locked": false,
     "schema_version": 3,
     "solution": true
    }
   },
   "outputs": [],
   "source": [
    "# graph G represented as an adjacency list dictionary, a node v to start at\n",
    "def distBFS(G, v):\n",
    "    ### BEGIN SOLUTION \n",
    "    dist = [-1] * len(G.keys())\n",
    "    dist[v-1] = 0                 # the distance from v to itself is 0\n",
    "    \n",
    "    queue = deque()\n",
    "    queue.append(v)\n",
    "    while len(queue) != 0:           # while we still have things to visit\n",
    "        current = queue.popleft()\n",
    "        for node in G[current]:\n",
    "            if dist[node-1] == -1:\n",
    "                dist[node-1] = dist[current-1] + 1\n",
    "                queue.append(node)\n",
    "    \n",
    "    return dist\n",
    "    ### END SOLUTION "
   ]
  },
  {
   "cell_type": "code",
   "execution_count": 8,
   "metadata": {
    "collapsed": true,
    "jupyter": {
     "outputs_hidden": true
    },
    "nbgrader": {
     "grade": true,
     "grade_id": "cell-0be2a31cbadf5982",
     "locked": true,
     "points": 1,
     "schema_version": 3,
     "solution": false
    }
   },
   "outputs": [],
   "source": [
    "from collections import deque\n",
    "\n",
    "# G as an adjacency list\n",
    "G = {1:[2,3], 2:[1,5], 3:[4,1,5], 4:[3], 5:[2,3,6], 6:[5]}\n",
    "\n",
    "assert distBFS(G, 1) == [0, 1, 1, 2, 2, 3]"
   ]
  },
  {
   "cell_type": "markdown",
   "metadata": {},
   "source": [
    "With this implementation of BFS, we not only are able to find out which vertices of the graph are reachable from $v$, but also how far away (in terms of nodes in between) each vertex is from $v$. Moreover, the path length returned by distBFS() is provably the shortest path from $v$ to any other vertex in $G$, provided there are no edge weights associated with the graph. However, even if we know the shortest path, it would be nice to know which nodes precisely we would need to traverse to get from $v$ to that vertex. We can still do that with BFS. Consider the following:"
   ]
  },
  {
   "cell_type": "code",
   "execution_count": 10,
   "metadata": {
    "collapsed": true,
    "jupyter": {
     "outputs_hidden": true
    },
    "nbgrader": {
     "grade": false,
     "grade_id": "cell-7185b77745a8a0c4",
     "locked": false,
     "schema_version": 3,
     "solution": true
    }
   },
   "outputs": [],
   "source": [
    "# graph G represented as an adjacency list dictionary, a node v to start at\n",
    "def BFS(G, v):\n",
    "    ### BEGIN SOLUTION \n",
    "    dist = [-1] * len(G.keys())       \n",
    "    prev = [None] * len(G.keys())\n",
    "    dist[v-1] = 0                     \n",
    "    \n",
    "    queue = deque()\n",
    "    queue.append(v)\n",
    "    while len(queue) != 0:\n",
    "        current = queue.popleft()\n",
    "        for node in G[current]:\n",
    "            if dist[node-1] == -1:\n",
    "                dist[node-1] = dist[current-1] + 1\n",
    "                prev[node-1] = current\n",
    "                queue.append(node)\n",
    "    \n",
    "    return dist, prev\n",
    "    ### END SOLUTION "
   ]
  },
  {
   "cell_type": "code",
   "execution_count": 12,
   "metadata": {
    "collapsed": true,
    "jupyter": {
     "outputs_hidden": true
    },
    "nbgrader": {
     "grade": true,
     "grade_id": "cell-ae284a4979421292",
     "locked": true,
     "points": 1,
     "schema_version": 3,
     "solution": false
    }
   },
   "outputs": [],
   "source": [
    "from collections import deque\n",
    "\n",
    "# G as an adjacency list\n",
    "G = {1:[2,3], 2:[1,5], 3:[4,1,5], 4:[3], 5:[2,3,6], 6:[5]}\n",
    "\n",
    "\n",
    "assert BFS(G,1) == ([0, 1, 1, 2, 2, 3], [None, 1, 1, 3, 2, 5])"
   ]
  },
  {
   "cell_type": "markdown",
   "metadata": {},
   "source": [
    "With this implementation of BFS, we introduce the prev array, which for a given node $w$ keeps track of the node that we visited that led us to that node. This node is a <i>predecessor</i> of $w$. Returned this information, if we want to find the path from $v$ to $w$, first inspect the dist array to make sure $w$ is reachable from $v$. If it is reachable, we simply inspect the prev array for prev[w]. If that is not $v$, we look for the predecessor of prev[w], and on until we find $v$.\n",
    "\n",
    "### Exercice\n",
    "\n",
    "- Walk through BFS(G,B) on the graph above, keeping track of the order visited and the state of the arrays. (We will use the following format: current node, dist, prev):\n",
    "\n",
    "    * B\n",
    "    * E\n",
    "    * C\n",
    "    * D\n",
    "    \n",
    "**Result:**"
   ]
  },
  {
   "cell_type": "markdown",
   "metadata": {},
   "source": [
    "### Depth First Search \n",
    "\n",
    "The second algorithm we will be discussing is **Depth-First search** which as the name hints at, explores possible vertices (from a supplied root) down each branch before backtracking. This property allows the algorithm to be implemented succinctly in both iterative and recursive forms. Below is a listing of the actions performed upon each visit to a node:\n",
    "* Mark the current vertex as being visited.\n",
    "* Explore each adjacent vertex that is not included in the visited set.\n",
    "\n",
    "<br />\n",
    "<div align=\"center\">\n",
    "<img width=400 src=\"../../images/DFS.png\"></img>\n",
    "**Algorithm 2.: DFS**\n",
    "</div>\n"
   ]
  },
  {
   "cell_type": "code",
   "execution_count": 26,
   "metadata": {
    "collapsed": true,
    "jupyter": {
     "outputs_hidden": true
    },
    "nbgrader": {
     "grade": false,
     "grade_id": "cell-10834cdcc80b193d",
     "locked": false,
     "schema_version": 3,
     "solution": true
    }
   },
   "outputs": [],
   "source": [
    "def DFS(G, v):\n",
    "    ### BEGIN SOLUTION\n",
    "    N = len(G)\n",
    "    marked = {i:False for i in G}\n",
    "    stack = []\n",
    "    visited = []\n",
    "    stack.append(v)\n",
    "    while len(stack) > 0:\n",
    "        v = stack.pop()\n",
    "        if not marked[v]:\n",
    "            marked[v] = True\n",
    "            visited.append(v)\n",
    "            for u in G[v]:\n",
    "                stack.append(u)\n",
    "    return visited\n",
    "    ### END SOLUTION"
   ]
  },
  {
   "cell_type": "code",
   "execution_count": 28,
   "metadata": {
    "collapsed": true,
    "jupyter": {
     "outputs_hidden": true
    },
    "nbgrader": {
     "grade": true,
     "grade_id": "cell-047e17e9b7e81b8b",
     "locked": true,
     "points": 1,
     "schema_version": 3,
     "solution": false
    }
   },
   "outputs": [],
   "source": [
    "# G as an adjacency list\n",
    "G = {1:[2,3], 2:[1,5], 3:[4,1,5], 4:[3], 5:[2,3,6], 6:[5]}\n",
    "\n",
    "assert DFS(G, 1) == [1, 3, 5, 6, 2, 4]"
   ]
  },
  {
   "cell_type": "markdown",
   "metadata": {},
   "source": [
    "### Connected components  "
   ]
  },
  {
   "cell_type": "code",
   "execution_count": 49,
   "metadata": {
    "collapsed": true,
    "jupyter": {
     "outputs_hidden": true
    },
    "nbgrader": {
     "grade": false,
     "grade_id": "cell-8831fdee251ac68e",
     "locked": false,
     "schema_version": 3,
     "solution": true
    }
   },
   "outputs": [],
   "source": [
    "def connected_components(G):\n",
    "    ### BEGIN SOLUTION\n",
    "    components_list = []\n",
    "    node_list = [v for v in G]\n",
    "    while len(node_list) > 0:\n",
    "        comp = DFS(G, node_list[0])\n",
    "        components_list.append(comp)\n",
    "        for n in comp:\n",
    "            node_list.remove(n)\n",
    "    return components_list\n",
    "    ### END SOLUTION"
   ]
  },
  {
   "cell_type": "code",
   "execution_count": 51,
   "metadata": {
    "collapsed": true,
    "jupyter": {
     "outputs_hidden": true
    },
    "nbgrader": {
     "grade": true,
     "grade_id": "cell-4ab685392e456171",
     "locked": true,
     "points": 1,
     "schema_version": 3,
     "solution": false
    }
   },
   "outputs": [],
   "source": [
    "# G as an adjacency list with one component\n",
    "G = {1:[2,3], 2:[1,5], 3:[4,1,5], 4:[3], 5:[2,3,6], 6:[5]}\n",
    "\n",
    "assert connected_components(G) == [[1, 3, 5, 6, 2, 4]]\n",
    "\n",
    "# G as an adjacency list with two components\n",
    "G = {1:[2,3], 2:[1,3], 3:[1,2], 4:[5, 6], 5:[4, 6], 6:[4, 5]}\n",
    "\n",
    "assert connected_components(G) == [[1, 3, 2], [4, 6, 5]]"
   ]
  },
  {
   "cell_type": "markdown",
   "metadata": {},
   "source": [
    "### The algebraic connectivity\n",
    "\n",
    "1. Build a function that return the adjacency matrix of a graph $G(V, E)$\n",
    "2. Build a function that return the Laplacian matrix of a graph $G(V, E)$\n",
    "2. Build a function that return algebraic_connectivity of a graph $G(V, E)$"
   ]
  },
  {
   "cell_type": "code",
   "execution_count": 52,
   "metadata": {
    "collapsed": true,
    "jupyter": {
     "outputs_hidden": true
    },
    "nbgrader": {
     "grade": false,
     "grade_id": "cell-029a6cf780673fde",
     "locked": false,
     "schema_version": 3,
     "solution": true
    }
   },
   "outputs": [],
   "source": [
    "import numpy as np\n",
    "\n",
    "def adjacency(G):\n",
    "    ## BEGIN SOLUTION \n",
    "    N = len(G)\n",
    "    A = np.zeros((N, N))\n",
    "    for i in G.keys():\n",
    "        for j in G[i]:\n",
    "            #print(i-1, j-1)\n",
    "            A[i-1, j-1] = 1\n",
    "    return A\n",
    "    ## END SOLUTION \n",
    "\n",
    "def laplacian(G):\n",
    "    ## BEGIN SOLUTION \n",
    "    A = adjacency(G)\n",
    "    # number of nodes \n",
    "    N = len(G)\n",
    "    D = np.eye(n) * A.sum(axis=1)\n",
    "    return D - A \n",
    "    ## END SOLUTION \n",
    "    \n",
    "def algebraic_connectivity(G):\n",
    "    ## BEGIN SOLUTION \n",
    "    # number of nodes \n",
    "    N = len(G)\n",
    "    L = laplacian(G)\n",
    "    count = 0\n",
    "    for elem in np.linalg.eigh(L)[0]:\n",
    "        if np.allclose(elem, 0, atol=1e-9):\n",
    "            count += 1\n",
    "    return count\n",
    "    ## END SOLUTION "
   ]
  },
  {
   "cell_type": "code",
   "execution_count": 53,
   "metadata": {
    "collapsed": true,
    "jupyter": {
     "outputs_hidden": true
    },
    "nbgrader": {
     "grade": true,
     "grade_id": "cell-92771755bd1a5c92",
     "locked": true,
     "points": 1,
     "schema_version": 3,
     "solution": false
    }
   },
   "outputs": [],
   "source": [
    "G = {1:[2,3], 2:[5,1], 3:[4,1,5], 4:[3], 5:[2,3,6], 6:[5]}\n",
    "\n",
    "assert algebraic_connectivity(G) == 1\n",
    "\n",
    "# G as an adjacency list with two components\n",
    "G = {1:[2,3], 2:[1,3], 3:[1,2], 4:[5, 6], 5:[4, 6], 6:[4, 5]}\n",
    "\n",
    "assert algebraic_connectivity(G) == 2"
   ]
  },
  {
   "cell_type": "markdown",
   "metadata": {},
   "source": [
    "## Compute Clustering coeficient\n",
    "\n",
    "Recall that the clustering coefficient $C(v)$ of a vertex $v$ is the fraction over all pairs of neighbors of $v$ of pairs between which an edge exists. In real world social networks we usually see high clustering, and therefore we want our random graph models to also have this property. Ultimately we want to find the clustering coefficient of the graph, but we begin by calculating the clustering coefficient for a single vertex."
   ]
  },
  {
   "cell_type": "code",
   "execution_count": 21,
   "metadata": {
    "collapsed": true,
    "jupyter": {
     "outputs_hidden": true
    }
   },
   "outputs": [],
   "source": [
    "def vertexCC(G,v):\n",
    "    v_neighbors = G[v]\n",
    "    edges = 0.0\n",
    "    for i in range(len(v_neighbors)):\n",
    "        for j in range(i+1, len(v_neighbors)):\n",
    "            if v_neighbors[j] in G[v_neighbors[i]]:\n",
    "                edges += 1\n",
    "    if edges == 0.0:\n",
    "        return 0.0\n",
    "    else:\n",
    "        return edges / ((len(v_neighbors)^2 - len(v_neighbors))/2)"
   ]
  },
  {
   "cell_type": "code",
   "execution_count": 76,
   "metadata": {
    "collapsed": true,
    "jupyter": {
     "outputs_hidden": true
    },
    "nbgrader": {
     "grade": false,
     "grade_id": "cell-c3cb15b7c1e861c8",
     "locked": false,
     "schema_version": 3,
     "solution": true
    }
   },
   "outputs": [],
   "source": [
    "'''\n",
    "Use vertexCC() to calculate the clustering coefficient of the entire graph, \n",
    "which is the average clustering coefficient of its nodes.\n",
    "'''\n",
    "import numpy as np\n",
    "\n",
    "def graphCC(G):\n",
    "    ### BEGIN SOLUTION\n",
    "    CC = []\n",
    "    for n in G.keys():\n",
    "        CC.append(vertexCC(G,n))\n",
    "    return np.array(CC).mean()       \n",
    "    ### END SOLUTION"
   ]
  },
  {
   "cell_type": "code",
   "execution_count": 77,
   "metadata": {
    "collapsed": true,
    "jupyter": {
     "outputs_hidden": true
    },
    "nbgrader": {
     "grade": true,
     "grade_id": "cell-324d4b44ec5f3994",
     "locked": true,
     "points": 1,
     "schema_version": 3,
     "solution": false
    }
   },
   "outputs": [],
   "source": [
    "G = {1:[2,3], 2:[1,3], 3:[1,2]}\n",
    "assert graphCC(G) == 1.0"
   ]
  },
  {
   "cell_type": "markdown",
   "metadata": {},
   "source": [
    "# Exo 2: Networkx\n",
    "\n",
    "## Overview\n",
    "NetworkX is a Python language software package for the creation, manipulation, and study of the structure, dynamics, and function of complex networks.\n",
    "\n",
    "With NetworkX you can load and store networks in standard and nonstandard data formats, generate many types of random and classic networks, analyze network structure, build network models, design new network algorithms, draw networks, and much more.\n",
    "\n",
    "## Who uses NetworkX?\n",
    "The potential audience for NetworkX includes mathematicians, physicists, biologists, computer scientists, and social scientists.\n",
    "\n",
    "## Goals\n",
    "NetworkX is intended to provide tools \n",
    "\n",
    "* tools for the study of the structure and dynamics of social, biological, and infrastructure networks,\n",
    "* a standard programming interface and graph implementation that is suitable for many applications,\n",
    "* a rapid development environment for collaborative, multidisciplinary projects,\n",
    "* an interface to existing numerical algorithms and code written in C, C++, and FORTRAN,\n",
    "* the ability to painlessly slurp in large nonstandard data sets\n",
    "\n",
    "for more information fo to the [Networkx Documentation](http://networkx.github.io/documentation/latest/index.html)\n",
    "\n",
    "### Networkx provide useful fonction to manipulate graph and graph metric already implemented \n",
    "\n",
    "Create an empty graph with no nodes and no edges.\n",
    "\n",
    "```python \n",
    ">>> import networkx as nx\n",
    ">>> G=nx.Graph()\n",
    "```\n",
    "\n",
    "By definition, a Graph is a collection of nodes (vertices) along with identified pairs of nodes (called edges, links, etc). In NetworkX, nodes can be any hashable object e.g. a text string, an image, an XML object, another Graph, a customized node object, etc. (Note: Python’s None object should not be used as a node as it determines whether optional function arguments have been assigned in many functions.)\n",
    "\n",
    "#### Nodes\n",
    "The graph G can be grown in several ways. NetworkX includes many graph generator functions and facilities to read and write graphs in many formats. To get started though we’ll look at simple manipulations. You can add one node at a time,\n",
    "\n",
    "```python \n",
    ">>> G.add_node(1)\n",
    "```\n",
    "\n",
    "#### Edges\n",
    "\n",
    "G can also be grown by adding one edge at a time,\n",
    "```python \n",
    ">>> G.add_edge(1,2)\n",
    ">>> e=(2,3)\n",
    ">>> G.add_edge(*e) # unpack edge tuple*\n",
    "````\n",
    "\n",
    "#### Graph methods\n",
    "We can examine a graph with\n",
    "```python\n",
    ">>> G.nodes()\n",
    "['a', 1, 2, 3, 'spam', 'm', 'p', 's']\n",
    ">>> G.edges()\n",
    "[(1, 2), (1, 3)]\n",
    ">>> G.neighbors(1)\n",
    "[2, 3]\n",
    "```\n",
    "\n",
    "\n",
    "#### Graph Metric \n",
    "closseness centrality([documentation](https://networkx.github.io/documentation/networkx-1.10/reference/generated/networkx.algorithms.centrality.closeness_centrality.html?highlight=closeness_centrality#networkx.algorithms.centrality.closeness_centrality))\n",
    "\n",
    "```python\n",
    ">>> nx.closeness_centrality(G)\n",
    "```\n",
    "\n",
    "betweenness centrality ([documentation](https://networkx.github.io/documentation/networkx-1.10/reference/generated/networkx.algorithms.centrality.betweenness_centrality.html?highlight=betweenness_centrality#networkx.algorithms.centrality.betweenness_centrality))\n",
    "\n",
    "```python\n",
    ">>> nx.closeness_centrality(G)\n",
    "```"
   ]
  },
  {
   "cell_type": "code",
   "execution_count": 5,
   "metadata": {
    "jupyter": {
     "outputs_hidden": true
    }
   },
   "outputs": [],
   "source": [
    "import networkx as nx\n",
    "import matplotlib.pylab as plt\n",
    "\n",
    "%matplotlib inline"
   ]
  },
  {
   "cell_type": "code",
   "execution_count": 33,
   "metadata": {},
   "outputs": [
    {
     "name": "stdout",
     "output_type": "stream",
     "text": [
      "1 Paul\n",
      "2 Pierre\n",
      "3 Sophie\n",
      "4 Caroline\n",
      "1 2 1\n",
      "2 3 2\n",
      "3 4 2\n"
     ]
    },
    {
     "data": {
      "image/png": "[encoded data removed]",
      "text/plain": [
       "<matplotlib.figure.Figure at 0x116cc6208>"
      ]
     },
     "metadata": {},
     "output_type": "display_data"
    }
   ],
   "source": [
    "G = nx.Graph()\n",
    "\n",
    "G.add_node(1)\n",
    "G.add_node(2)\n",
    "G.add_node(3)\n",
    "G.add_node(4)\n",
    "G.node[1]['name'] = 'Paul'\n",
    "G.node[2]['name'] = 'Pierre'\n",
    "G.node[3]['name'] = 'Sophie'\n",
    "G.node[4]['name'] = 'Caroline'\n",
    "\n",
    "# we can iterate through all nodes in the graph \n",
    "for node, attr in G.nodes(data=True):\n",
    "    print(node, attr['name'])\n",
    "\n",
    "\n",
    "G.add_edge(1,2, weight=1)\n",
    "G.add_edge(2,3, weight=2)\n",
    "G.add_edge(3,4, weight=2)\n",
    "\n",
    "# we can iterate through all edges in the graph \n",
    "for u,v, attr in G.edges(data=True):\n",
    "    print(u,v, attr['weight'])\n",
    "\n",
    "plt.figure()\n",
    "nx.draw_networkx(G)\n",
    "plt.axis('off');"
   ]
  },
  {
   "cell_type": "markdown",
   "metadata": {},
   "source": [
    "### 1- We load the graph of the Florentine Families"
   ]
  },
  {
   "cell_type": "code",
   "execution_count": 81,
   "metadata": {
    "collapsed": true,
    "jupyter": {
     "outputs_hidden": true
    }
   },
   "outputs": [],
   "source": [
    "import csv\n",
    "import networkx as nx\n",
    "\n",
    "with open('../../Data/Florence/FlorentineFamiliesName.csv', 'r') as csvfile:\n",
    "    nodeReader = csv.reader(csvfile, delimiter=' ')\n",
    "    line = 0\n",
    "    labels = {}\n",
    "    for row in nodeReader:\n",
    "        if line > 0:\n",
    "            labels[int(row[0])] = row[1]\n",
    "        line += 1\n",
    "\n",
    "\n",
    "# Create the graph\n",
    "G = nx.Graph()\n",
    "with open('../../Data/Florence/FlorentineFamiliesNodes.csv', 'r') as csvfile:\n",
    "    nodeReader = csv.reader(csvfile, delimiter=' ')\n",
    "    line = 0\n",
    "    for row in nodeReader:\n",
    "        G.add_node(labels[int(row[1])])\n",
    "        G.add_node(labels[int(row[2])])\n",
    "        G.add_edge(labels[int(row[1])], labels[int(row[2])], weigth=float(row[3]))"
   ]
  },
  {
   "cell_type": "markdown",
   "metadata": {},
   "source": [
    "### 2 - Plot the Graph of the Florentine Families with labels\n",
    "\n",
    "[Plotting Graph with networkx](https://networkx.github.io/documentation/latest/reference/generated/networkx.drawing.nx_pylab.draw_networkx.html#networkx.drawing.nx_pylab.draw_networkx)"
   ]
  },
  {
   "cell_type": "code",
   "execution_count": 84,
   "metadata": {
    "nbgrader": {
     "grade": true,
     "grade_id": "cell-512e70579223542e",
     "locked": false,
     "points": 1,
     "schema_version": 3,
     "solution": true
    }
   },
   "outputs": [
    {
     "data": {
      "image/png": "[encoded data removed]",
      "text/plain": [
       "<matplotlib.figure.Figure at 0x118276eb8>"
      ]
     },
     "metadata": {},
     "output_type": "display_data"
    }
   ],
   "source": [
    "### BEGIN SOLUTION\n",
    "plt.figure()\n",
    "\n",
    "offset = 0.09\n",
    "pos=nx.spring_layout(G)\n",
    "nx.draw(G, pos, node_color='r', node_size=500, with_labels=False)\n",
    "for p in pos:  # raise text positions\n",
    "        pos[p][1] += offset\n",
    "nx.draw_networkx_labels(G, pos);\n",
    "plt.axis('off');\n",
    "\n",
    "### END SOLUTION"
   ]
  },
  {
   "cell_type": "markdown",
   "metadata": {},
   "source": [
    "### 3 - Compute the closeness centrality of the graph"
   ]
  },
  {
   "cell_type": "code",
   "execution_count": 89,
   "metadata": {
    "nbgrader": {
     "grade": true,
     "grade_id": "cell-32008edca7412421",
     "locked": false,
     "points": 1,
     "schema_version": 3,
     "solution": true
    }
   },
   "outputs": [
    {
     "name": "stdout",
     "output_type": "stream",
     "text": [
      "closeness: ACCIAIUOL = 0.4\n",
      "closeness: MEDICI = 0.6363636363636364\n",
      "closeness: ALBIZZI = 0.5\n",
      "closeness: GINORI = 0.5\n",
      "closeness: GUADAGNI = 0.5\n",
      "closeness: BARBADORI = 0.56\n",
      "closeness: CASTELLAN = 0.4827586206896552\n",
      "closeness: BISCHERI = 0.4375\n",
      "closeness: PERUZZI = 0.5\n",
      "closeness: STROZZI = 0.4827586206896552\n",
      "closeness: LAMBERTES = 0.42424242424242425\n",
      "closeness: TORNABUON = 0.5185185185185185\n",
      "closeness: RIDOLFI = 0.5384615384615384\n",
      "closeness: SALVIATI = 0.4117647058823529\n",
      "closeness: PAZZI = 0.4117647058823529\n"
     ]
    }
   ],
   "source": [
    "### BEGIN SOLUTION\n",
    "closeness = nx.closeness_centrality(G)\n",
    "for k, v in closeness.items():\n",
    "    print(\"closeness:\", k,\"=\", v)\n",
    "### END SOLUTION"
   ]
  },
  {
   "cell_type": "markdown",
   "metadata": {},
   "source": [
    "### 3 - Plot the graph with de node size as function of the closeness centrality"
   ]
  },
  {
   "cell_type": "code",
   "execution_count": 102,
   "metadata": {
    "nbgrader": {
     "grade": true,
     "grade_id": "cell-b4d19bc741c64971",
     "locked": false,
     "points": 1,
     "schema_version": 3,
     "solution": true
    }
   },
   "outputs": [
    {
     "data": {
      "image/png": "[encoded data removed]",
      "text/plain": [
       "<matplotlib.figure.Figure at 0x1181c8c50>"
      ]
     },
     "metadata": {},
     "output_type": "display_data"
    }
   ],
   "source": [
    "### BEGIN SOLUTION\n",
    "node_size = np.array([v for k,v in closeness.items()])\n",
    "\n",
    "#rescale the closeness vector \n",
    "node_size = np.array([v for k,v in closeness.items()])\n",
    "node_size = (node_size-node_size.min())\n",
    "node_size = node_size/node_size.max()\n",
    "node_size = node_size*500\n",
    "\n",
    "#plot the graph \n",
    "%matplotlib inline\n",
    "\n",
    "plt.figure()\n",
    "\n",
    "pos=nx.spring_layout(G)\n",
    "\n",
    "nx.draw_networkx_edges(G,\n",
    "                       pos,\n",
    "                       width=1.0,\n",
    "                       alpha=0.5)\n",
    "\n",
    "\n",
    "nx.draw_networkx_nodes(G,pos,\n",
    "                       node_color='r',\n",
    "                       node_size=node_size)\n",
    "\n",
    "\n",
    "nx.draw_networkx_labels(G, pos);\n",
    "plt.axis('off');\n",
    "\n",
    "### END SOLUTION"
   ]
  },
  {
   "cell_type": "markdown",
   "metadata": {},
   "source": [
    "# Exo 3: The global trade graph "
   ]
  },
  {
   "cell_type": "code",
   "execution_count": 103,
   "metadata": {},
   "outputs": [
    {
     "name": "stdout",
     "output_type": "stream",
     "text": [
      "trade between China and USA = 127938204004.0 dollars\n"
     ]
    }
   ],
   "source": [
    "import networkx as nx\n",
    "# load the global trade graph \n",
    "Gtrade = nx.read_gml(\"../../Data/Comtrade/comtrade.gml\")\n",
    "\n",
    "print(\"trade between\", Gtrade.node[\"156\"][\"name\"], \"and\", Gtrade.node[\"842\"][\"name\"], \"=\", Gtrade[\"156\"][\"842\"][\"weight\"], \"dollars\")"
   ]
  },
  {
   "cell_type": "markdown",
   "metadata": {},
   "source": [
    "### 1. What percentage of the edges are reciprocal?"
   ]
  },
  {
   "cell_type": "code",
   "execution_count": 60,
   "metadata": {
    "nbgrader": {
     "grade": true,
     "grade_id": "cell-8d2dd38428cfbbd9",
     "locked": false,
     "points": 1,
     "schema_version": 3,
     "solution": true
    }
   },
   "outputs": [
    {
     "name": "stdout",
     "output_type": "stream",
     "text": [
      "percentage of reciprocal edges:  0.8389663452922834\n"
     ]
    }
   ],
   "source": [
    "### BEGIN SOLUTION \n",
    "num_edges = len(Gtrade.edges())\n",
    "num_reciprocal = 0\n",
    "\n",
    "for s,t in Gtrade.edges():\n",
    "    if Gtrade.has_edge(t, s):\n",
    "        num_reciprocal += 1\n",
    "        \n",
    "print(\"percentage of reciprocal edges: \", num_reciprocal/num_edges)\n",
    "\n",
    "### END SOLUTION"
   ]
  },
  {
   "cell_type": "markdown",
   "metadata": {},
   "source": [
    "### 2. Rank the top 10 countries by in-degree (the number of other countries they import from)"
   ]
  },
  {
   "cell_type": "code",
   "execution_count": 70,
   "metadata": {
    "nbgrader": {
     "grade": true,
     "grade_id": "cell-f05b86a4940e9478",
     "locked": false,
     "points": 1,
     "schema_version": 3,
     "solution": true
    }
   },
   "outputs": [
    {
     "name": "stdout",
     "output_type": "stream",
     "text": [
      "# 1 Germany indegree: 225\n",
      "# 2 France indegree: 224\n",
      "# 3 Austria indegree: 223\n",
      "# 4 USA indegree: 220\n",
      "# 5 Canada indegree: 216\n",
      "# 6 Rep. of Korea indegree: 216\n",
      "# 7 Thailand indegree: 216\n",
      "# 8 United Kingdom indegree: 215\n",
      "# 9 Italy indegree: 214\n",
      "# 10 Spain indegree: 214\n",
      "# 11 Japan indegree: 213\n"
     ]
    }
   ],
   "source": [
    "### BEGIN SOLUTION \n",
    "\n",
    "from collections import OrderedDict\n",
    "\n",
    "in_degree_dict = dict(Gtrade.in_degree(Gtrade.nodes()))\n",
    "in_degree_dict_sorted_by_value = OrderedDict(sorted(in_degree_dict.items(), key=lambda x: x[1], reverse=True))\n",
    "\n",
    "num_elem = 0\n",
    "for k, v in in_degree_dict_sorted_by_value.items():\n",
    "    num_elem += 1\n",
    "    print(\"#\", num_elem, Gtrade.node[k][\"name\"],\"indegree:\",v)\n",
    "    if num_elem > 10:\n",
    "        break\n",
    "\n",
    "### END SOLUTION"
   ]
  },
  {
   "cell_type": "markdown",
   "metadata": {},
   "source": [
    "### 3.  Sum the weights of the outbound edges for each country and report total exports for each of the top 5."
   ]
  },
  {
   "cell_type": "code",
   "execution_count": 71,
   "metadata": {
    "nbgrader": {
     "grade": true,
     "grade_id": "cell-91df7121182f62fe",
     "locked": false,
     "points": 1,
     "schema_version": 3,
     "solution": true
    }
   },
   "outputs": [
    {
     "name": "stdout",
     "output_type": "stream",
     "text": [
      "# 1 Germany Volume of exportation: 726814382422.5\n",
      "# 2 USA Volume of exportation: 724553461173.0\n",
      "# 3 China Volume of exportation: 516814730156.0\n",
      "# 4 Japan Volume of exportation: 465603252249.0\n",
      "# 5 France Volume of exportation: 358192221910.0\n",
      "# 6 United Kingdom Volume of exportation: 297237298569.0\n",
      "# 7 Italy Volume of exportation: 287022497540.5\n",
      "# 8 Canada Volume of exportation: 273884847347.5\n",
      "# 9 Netherlands Volume of exportation: 245998496417.5\n",
      "# 10 Belgium Volume of exportation: 221031175673.0\n",
      "# 11 Rep. of Korea Volume of exportation: 192062342468.0\n"
     ]
    }
   ],
   "source": [
    "### BEGIN  SOLUTION\n",
    "country_export = dict()\n",
    "\n",
    "for node in Gtrade.nodes():\n",
    "    volume_export = 0.0\n",
    "    for neighbor in Gtrade.neighbors(node):\n",
    "        volume_export += Gtrade[node][neighbor][\"weight\"]\n",
    "    country_export[node] = volume_export\n",
    "\n",
    "country_export_sorted_by_value = OrderedDict(sorted(country_export.items(), key=lambda x: x[1], reverse=True))\n",
    "num_elem = 0\n",
    "for k, v in country_export_sorted_by_value.items():\n",
    "    num_elem += 1\n",
    "    print(\"#\", num_elem, Gtrade.node[k][\"name\"],\"Volume of exportation:\",v)\n",
    "    if num_elem > 10:\n",
    "        break\n",
    "### END SOLUTION"
   ]
  },
  {
   "cell_type": "markdown",
   "metadata": {},
   "source": [
    "### 5. Which country has the greatest difference between unweighted in and out-degree?"
   ]
  },
  {
   "cell_type": "code",
   "execution_count": 72,
   "metadata": {
    "nbgrader": {
     "grade": true,
     "grade_id": "cell-208ea87a3c97d48e",
     "locked": false,
     "points": 1,
     "schema_version": 3,
     "solution": true
    }
   },
   "outputs": [
    {
     "name": "stdout",
     "output_type": "stream",
     "text": [
      "# 1 Faeroe Isds diff in out: 97\n",
      "# 2 Mayotte diff in out: 86\n",
      "# 3 New Caledonia diff in out: 72\n",
      "# 4 Nigeria diff in out: 68\n",
      "# 5 Greenland diff in out: 66\n",
      "# 6 French Polynesia diff in out: 61\n",
      "# 7 Saint Kitts and Nevis diff in out: 54\n",
      "# 8 Cape Verde diff in out: 48\n",
      "# 9 Saint Vincent and the Grenadines diff in out: 47\n",
      "# 10 Wallis and Futuna Isds diff in out: 46\n",
      "# 11 Grenada diff in out: 44\n"
     ]
    }
   ],
   "source": [
    "### BEGIN SOLUTION\n",
    "\n",
    "diff_in_out = dict()\n",
    "\n",
    "for node in Gtrade.nodes():\n",
    "    diff_in_out[node] = Gtrade.in_degree(node) - Gtrade.out_degree(node)\n",
    "    \n",
    "diff_in_out_sorted_by_value = OrderedDict(sorted(diff_in_out.items(), key=lambda x: x[1], reverse=True))\n",
    "num_elem = 0\n",
    "for k, v in diff_in_out_sorted_by_value.items():\n",
    "    num_elem += 1\n",
    "    print(\"#\", num_elem, Gtrade.node[k][\"name\"],\"diff in out:\",v)\n",
    "    if num_elem > 10:\n",
    "        break\n",
    "        \n",
    "### END SOLUTION"
   ]
  },
  {
   "cell_type": "markdown",
   "metadata": {},
   "source": [
    "### 6. Which country has the largest closeness centrality ?"
   ]
  },
  {
   "cell_type": "code",
   "execution_count": 75,
   "metadata": {
    "nbgrader": {
     "grade": true,
     "grade_id": "cell-cf6946d4a492cd38",
     "locked": false,
     "points": 1,
     "schema_version": 3,
     "solution": true
    }
   },
   "outputs": [
    {
     "name": "stdout",
     "output_type": "stream",
     "text": [
      "# 1 Germany closeness: 181267.35625115634\n",
      "# 2 USA closeness: 181267.166971024\n",
      "# 3 China closeness: 181267.04096390354\n",
      "# 4 Canada closeness: 181267.02683724792\n",
      "# 5 Japan closeness: 181267.0059689415\n",
      "# 6 Mexico closeness: 181266.93730173324\n",
      "# 7 France closeness: 181266.92515224146\n",
      "# 8 United Kingdom closeness: 181266.8282446629\n",
      "# 9 Netherlands closeness: 181266.79648301832\n",
      "# 10 Italy closeness: 181266.65106308626\n",
      "# 11 Belgium closeness: 181266.58808354227\n"
     ]
    }
   ],
   "source": [
    "### BEGIN SOLUTION\n",
    "\n",
    "Gtrade_copy = Gtrade.copy()\n",
    "for s,t in Gtrade_copy.edges():\n",
    "    Gtrade_copy[s][t][\"weight\"] = 1.0/Gtrade[s][t][\"weight\"]\n",
    "    \n",
    "closeness = nx.closeness_centrality(Gtrade_copy, distance=\"weight\")\n",
    "\n",
    "closeness_sorted_by_value = OrderedDict(sorted(closeness.items(), key=lambda x: x[1], reverse=True))\n",
    "num_elem = 0\n",
    "for k, v in closeness_sorted_by_value.items():\n",
    "    num_elem += 1\n",
    "    print(\"#\", num_elem, Gtrade.node[k][\"name\"],\"closeness:\",v)\n",
    "    if num_elem > 10:\n",
    "        break\n",
    "\n",
    "### END SOLUTION"
   ]
  },
  {
   "cell_type": "markdown",
   "metadata": {
    "nbgrader": {
     "grade": false,
     "grade_id": "cell-e925c69b5d89992c",
     "locked": true,
     "schema_version": 3,
     "solution": false,
     "task": false
    }
   },
   "source": [
    "## Exo 4: Network of Thrones\n",
    "\n",
    "Here we have an adjacency list of characters of Games of Throners and their number of interactions throughout the text of the books of J. R. Martins (not the the HBO series). \n",
    "\n",
    "```csv\n",
    "Source,Target,Weight\n",
    "Aemon,Grenn,5\n",
    "Aemon,Samwell,31\n",
    "Aerys,Jaime,18\n",
    "...\n",
    "```\n",
    "\n",
    "### Sumarize in a figure the following statistics \n",
    "1. Degree distribution\n",
    "2. Weighted Degree distribution\n",
    "\n",
    "### Summarize in a table the following statistics\n",
    "1. Betweenness centrality of each character\n",
    "2. Closeness of each character\n",
    "\n",
    "Conlude about each charaters place in the story"
   ]
  },
  {
   "cell_type": "code",
   "execution_count": 54,
   "metadata": {
    "jupyter": {
     "outputs_hidden": true
    }
   },
   "outputs": [],
   "source": [
    "import csv \n",
    "import numpy as np\n",
    "import pandas as pd\n",
    "\n",
    "edges_list = []\n",
    "with open(\"../../Data/GameOfThrones/stormofswords.csv\") as GOT:\n",
    "    rows = csv.reader(GOT)\n",
    "    next(rows)\n",
    "    for row in rows:\n",
    "        edges_list.append([row[0], row[1], int(row[2])])\n",
    "        \n",
    "G = nx.DiGraph()\n",
    "G.add_weighted_edges_from(edges_list)"
   ]
  },
  {
   "cell_type": "markdown",
   "metadata": {},
   "source": [
    "## Compute and plot the degree distribution of the graph"
   ]
  },
  {
   "cell_type": "code",
   "execution_count": 36,
   "metadata": {
    "nbgrader": {
     "grade": true,
     "grade_id": "cell-ca3a41d5f1dabbfe",
     "locked": false,
     "points": 1,
     "schema_version": 3,
     "solution": true,
     "task": false
    }
   },
   "outputs": [
    {
     "data": {
      "text/plain": [
       "Text(0.5, 1.0, 'Degree distribution')"
      ]
     },
     "execution_count": 36,
     "metadata": {},
     "output_type": "execute_result"
    },
    {
     "data": {
      "image/png": "[encoded data removed]",
      "text/plain": [
       "<Figure size 432x288 with 1 Axes>"
      ]
     },
     "metadata": {
      "needs_background": "light"
     },
     "output_type": "display_data"
    }
   ],
   "source": [
    "### BEGIN SOLUTION\n",
    "degree_sequence = sorted([d for n, d in G.degree()], reverse=True)  # degree sequence\n",
    "hist, bin_edges = np.histogram(degree_sequence, density=True)\n",
    "\n",
    "plt.semilogy(bin_edges[:-1], hist, 'o', ms=15)\n",
    "plt.xlabel(r\"$k$, degree \")\n",
    "plt.ylabel(r\"PDF\")\n",
    "plt.ylim(1e-3, 1)\n",
    "plt.title(\"Degree distribution\")\n",
    "### END SOLUTION"
   ]
  },
  {
   "cell_type": "markdown",
   "metadata": {},
   "source": [
    "## Compute and plot the weigted degree distribution of the graph"
   ]
  },
  {
   "cell_type": "code",
   "execution_count": 101,
   "metadata": {
    "nbgrader": {
     "grade": true,
     "grade_id": "cell-105dde5b4952af5c",
     "locked": false,
     "points": 1,
     "schema_version": 3,
     "solution": true,
     "task": false
    }
   },
   "outputs": [
    {
     "data": {
      "text/plain": [
       "Text(0.5, 1.0, 'Degree distribution')"
      ]
     },
     "execution_count": 101,
     "metadata": {},
     "output_type": "execute_result"
    },
    {
     "data": {
      "image/png": "[encoded data removed]",
      "text/plain": [
       "<Figure size 432x288 with 1 Axes>"
      ]
     },
     "metadata": {
      "needs_background": "light"
     },
     "output_type": "display_data"
    }
   ],
   "source": [
    "### BEGIN SOLUTION\n",
    "degree_sequence = sorted([d for n, d in G.degree(weight=\"weight\")], reverse=True)  # degree sequence\n",
    "hist, bin_edges = np.histogram(degree_sequence, density=True)\n",
    "\n",
    "plt.semilogy(bin_edges[:-1], hist, 'o', ms=15)\n",
    "plt.xlabel(r\"strength \")\n",
    "plt.ylabel(r\"PDF\")\n",
    "plt.ylim(1e-4, 1)\n",
    "plt.title(\"Degree distribution\")\n",
    "### END SOLUTION"
   ]
  },
  {
   "cell_type": "code",
   "execution_count": 91,
   "metadata": {},
   "outputs": [],
   "source": [
    "nodes = [[name, d] for name, d in G.degree(weight=\"weight\")]\n",
    "GOT = pd.DataFrame(nodes, columns=[\"name\", \"strength\"])"
   ]
  },
  {
   "cell_type": "code",
   "execution_count": 92,
   "metadata": {
    "nbgrader": {
     "grade": true,
     "grade_id": "cell-8bbb3c8905e9dda2",
     "locked": false,
     "points": 1,
     "schema_version": 3,
     "solution": true,
     "task": false
    }
   },
   "outputs": [],
   "source": [
    "### BEGIN SOLUTION\n",
    "nodes = [[name, closeness] for name, closeness in nx.closeness_centrality(G).items()]\n",
    "closeness = pd.DataFrame(nodes, columns=[\"name\", \"closeness\"])\n",
    "\n",
    "GOT = GOT.merge(closeness, on=\"name\")\n",
    "### END SOLUTION"
   ]
  },
  {
   "cell_type": "code",
   "execution_count": 93,
   "metadata": {
    "nbgrader": {
     "grade": true,
     "grade_id": "cell-5453059e8f93e995",
     "locked": false,
     "points": 1,
     "schema_version": 3,
     "solution": true,
     "task": false
    }
   },
   "outputs": [],
   "source": [
    "### BEGIN SOLUTION\n",
    "nodes = [[name, betweenness] for name, betweenness in nx.betweenness_centrality(G).items()]\n",
    "betweenness = pd.DataFrame(nodes, columns=[\"name\", \"betweenness\"])\n",
    "\n",
    "GOT = GOT.merge(betweenness, on=\"name\")\n",
    "### END SOLUTION"
   ]
  },
  {
   "cell_type": "code",
   "execution_count": 98,
   "metadata": {
    "nbgrader": {
     "grade": true,
     "grade_id": "cell-95f8687facd26b8d",
     "locked": false,
     "points": 1,
     "schema_version": 3,
     "solution": true,
     "task": false
    }
   },
   "outputs": [
    {
     "data": {
      "text/html": [
       "<div>\n",
       "<style scoped>\n",
       "    .dataframe tbody tr th:only-of-type {\n",
       "        vertical-align: middle;\n",
       "    }\n",
       "\n",
       "    .dataframe tbody tr th {\n",
       "        vertical-align: top;\n",
       "    }\n",
       "\n",
       "    .dataframe thead th {\n",
       "        text-align: right;\n",
       "    }\n",
       "</style>\n",
       "<table border=\"1\" class=\"dataframe\">\n",
       "  <thead>\n",
       "    <tr style=\"text-align: right;\">\n",
       "      <th></th>\n",
       "      <th>name</th>\n",
       "      <th>strength</th>\n",
       "      <th>closeness</th>\n",
       "      <th>betweenness</th>\n",
       "    </tr>\n",
       "  </thead>\n",
       "  <tbody>\n",
       "    <tr>\n",
       "      <td>6</td>\n",
       "      <td>Tyrion</td>\n",
       "      <td>551</td>\n",
       "      <td>0.120755</td>\n",
       "      <td>0.029917</td>\n",
       "    </tr>\n",
       "    <tr>\n",
       "      <td>2</td>\n",
       "      <td>Samwell</td>\n",
       "      <td>282</td>\n",
       "      <td>0.124861</td>\n",
       "      <td>0.021980</td>\n",
       "    </tr>\n",
       "    <tr>\n",
       "      <td>51</td>\n",
       "      <td>Stannis</td>\n",
       "      <td>146</td>\n",
       "      <td>0.126371</td>\n",
       "      <td>0.020324</td>\n",
       "    </tr>\n",
       "    <tr>\n",
       "      <td>5</td>\n",
       "      <td>Robert</td>\n",
       "      <td>128</td>\n",
       "      <td>0.146781</td>\n",
       "      <td>0.018744</td>\n",
       "    </tr>\n",
       "    <tr>\n",
       "      <td>9</td>\n",
       "      <td>Mance</td>\n",
       "      <td>160</td>\n",
       "      <td>0.114151</td>\n",
       "      <td>0.012459</td>\n",
       "    </tr>\n",
       "    <tr>\n",
       "      <td>...</td>\n",
       "      <td>...</td>\n",
       "      <td>...</td>\n",
       "      <td>...</td>\n",
       "      <td>...</td>\n",
       "    </tr>\n",
       "    <tr>\n",
       "      <td>68</td>\n",
       "      <td>Rakharo</td>\n",
       "      <td>7</td>\n",
       "      <td>0.009434</td>\n",
       "      <td>0.000000</td>\n",
       "    </tr>\n",
       "    <tr>\n",
       "      <td>71</td>\n",
       "      <td>Worm</td>\n",
       "      <td>14</td>\n",
       "      <td>0.009434</td>\n",
       "      <td>0.000000</td>\n",
       "    </tr>\n",
       "    <tr>\n",
       "      <td>73</td>\n",
       "      <td>Cressen</td>\n",
       "      <td>4</td>\n",
       "      <td>0.075472</td>\n",
       "      <td>0.000000</td>\n",
       "    </tr>\n",
       "    <tr>\n",
       "      <td>74</td>\n",
       "      <td>Salladhor</td>\n",
       "      <td>16</td>\n",
       "      <td>0.075472</td>\n",
       "      <td>0.000000</td>\n",
       "    </tr>\n",
       "    <tr>\n",
       "      <td>106</td>\n",
       "      <td>Walton</td>\n",
       "      <td>10</td>\n",
       "      <td>0.000000</td>\n",
       "      <td>0.000000</td>\n",
       "    </tr>\n",
       "  </tbody>\n",
       "</table>\n",
       "<p>107 rows × 4 columns</p>\n",
       "</div>"
      ],
      "text/plain": [
       "          name  strength  closeness  betweenness\n",
       "6       Tyrion       551   0.120755     0.029917\n",
       "2      Samwell       282   0.124861     0.021980\n",
       "51     Stannis       146   0.126371     0.020324\n",
       "5       Robert       128   0.146781     0.018744\n",
       "9        Mance       160   0.114151     0.012459\n",
       "..         ...       ...        ...          ...\n",
       "68     Rakharo         7   0.009434     0.000000\n",
       "71        Worm        14   0.009434     0.000000\n",
       "73     Cressen         4   0.075472     0.000000\n",
       "74   Salladhor        16   0.075472     0.000000\n",
       "106     Walton        10   0.000000     0.000000\n",
       "\n",
       "[107 rows x 4 columns]"
      ]
     },
     "execution_count": 98,
     "metadata": {},
     "output_type": "execute_result"
    }
   ],
   "source": [
    "### BEGIN SOLUTION\n",
    "GOT.sort_values('betweenness', ascending=False)\n",
    "### END SOLUTION"
   ]
  },
  {
   "cell_type": "code",
   "execution_count": 100,
   "metadata": {
    "nbgrader": {
     "grade": true,
     "grade_id": "cell-1013b6499ee3a01b",
     "locked": false,
     "points": 1,
     "schema_version": 3,
     "solution": true,
     "task": false
    }
   },
   "outputs": [
    {
     "data": {
      "text/html": [
       "<div>\n",
       "<style scoped>\n",
       "    .dataframe tbody tr th:only-of-type {\n",
       "        vertical-align: middle;\n",
       "    }\n",
       "\n",
       "    .dataframe tbody tr th {\n",
       "        vertical-align: top;\n",
       "    }\n",
       "\n",
       "    .dataframe thead th {\n",
       "        text-align: right;\n",
       "    }\n",
       "</style>\n",
       "<table border=\"1\" class=\"dataframe\">\n",
       "  <thead>\n",
       "    <tr style=\"text-align: right;\">\n",
       "      <th></th>\n",
       "      <th>name</th>\n",
       "      <th>strength</th>\n",
       "      <th>closeness</th>\n",
       "      <th>betweenness</th>\n",
       "    </tr>\n",
       "  </thead>\n",
       "  <tbody>\n",
       "    <tr>\n",
       "      <td>5</td>\n",
       "      <td>Robert</td>\n",
       "      <td>128</td>\n",
       "      <td>0.146781</td>\n",
       "      <td>0.018744</td>\n",
       "    </tr>\n",
       "    <tr>\n",
       "      <td>84</td>\n",
       "      <td>Margaery</td>\n",
       "      <td>96</td>\n",
       "      <td>0.142064</td>\n",
       "      <td>0.000000</td>\n",
       "    </tr>\n",
       "    <tr>\n",
       "      <td>51</td>\n",
       "      <td>Stannis</td>\n",
       "      <td>146</td>\n",
       "      <td>0.126371</td>\n",
       "      <td>0.020324</td>\n",
       "    </tr>\n",
       "    <tr>\n",
       "      <td>27</td>\n",
       "      <td>Loras</td>\n",
       "      <td>76</td>\n",
       "      <td>0.125936</td>\n",
       "      <td>0.002552</td>\n",
       "    </tr>\n",
       "    <tr>\n",
       "      <td>2</td>\n",
       "      <td>Samwell</td>\n",
       "      <td>282</td>\n",
       "      <td>0.124861</td>\n",
       "      <td>0.021980</td>\n",
       "    </tr>\n",
       "    <tr>\n",
       "      <td>...</td>\n",
       "      <td>...</td>\n",
       "      <td>...</td>\n",
       "      <td>...</td>\n",
       "      <td>...</td>\n",
       "    </tr>\n",
       "    <tr>\n",
       "      <td>94</td>\n",
       "      <td>Jon Arryn</td>\n",
       "      <td>11</td>\n",
       "      <td>0.000000</td>\n",
       "      <td>0.000000</td>\n",
       "    </tr>\n",
       "    <tr>\n",
       "      <td>3</td>\n",
       "      <td>Aerys</td>\n",
       "      <td>37</td>\n",
       "      <td>0.000000</td>\n",
       "      <td>0.000000</td>\n",
       "    </tr>\n",
       "    <tr>\n",
       "      <td>10</td>\n",
       "      <td>Amory</td>\n",
       "      <td>5</td>\n",
       "      <td>0.000000</td>\n",
       "      <td>0.000000</td>\n",
       "    </tr>\n",
       "    <tr>\n",
       "      <td>75</td>\n",
       "      <td>Eddard</td>\n",
       "      <td>108</td>\n",
       "      <td>0.000000</td>\n",
       "      <td>0.000000</td>\n",
       "    </tr>\n",
       "    <tr>\n",
       "      <td>106</td>\n",
       "      <td>Walton</td>\n",
       "      <td>10</td>\n",
       "      <td>0.000000</td>\n",
       "      <td>0.000000</td>\n",
       "    </tr>\n",
       "  </tbody>\n",
       "</table>\n",
       "<p>107 rows × 4 columns</p>\n",
       "</div>"
      ],
      "text/plain": [
       "          name  strength  closeness  betweenness\n",
       "5       Robert       128   0.146781     0.018744\n",
       "84    Margaery        96   0.142064     0.000000\n",
       "51     Stannis       146   0.126371     0.020324\n",
       "27       Loras        76   0.125936     0.002552\n",
       "2      Samwell       282   0.124861     0.021980\n",
       "..         ...       ...        ...          ...\n",
       "94   Jon Arryn        11   0.000000     0.000000\n",
       "3        Aerys        37   0.000000     0.000000\n",
       "10       Amory         5   0.000000     0.000000\n",
       "75      Eddard       108   0.000000     0.000000\n",
       "106     Walton        10   0.000000     0.000000\n",
       "\n",
       "[107 rows x 4 columns]"
      ]
     },
     "execution_count": 100,
     "metadata": {},
     "output_type": "execute_result"
    }
   ],
   "source": [
    "### BEGIN SOLUTION\n",
    "GOT.sort_values('closeness', ascending=False)\n",
    "### END SOLUTION"
   ]
  }
 ],
 "metadata": {
  "celltoolbar": "Create Assignment",
  "kernelspec": {
   "display_name": "Python 3",
   "language": "python",
   "name": "python3"
  },
  "language_info": {
   "codemirror_mode": {
    "name": "ipython",
    "version": 3
   },
   "file_extension": ".py",
   "mimetype": "text/x-python",
   "name": "python",
   "nbconvert_exporter": "python",
   "pygments_lexer": "ipython3",
   "version": "3.7.4"
  }
 },
 "nbformat": 4,
 "nbformat_minor": 4
}

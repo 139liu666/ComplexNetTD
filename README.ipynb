{
 "cells": [
  {
   "cell_type": "code",
   "execution_count": 1,
   "id": "a5ad6bb6-0deb-4c36-8cac-7d43d6c200d9",
   "metadata": {},
   "outputs": [
    {
     "data": {
      "text/markdown": [
       "# NET 4103/7431: Labs materials\n",
       "\n",
       "## Contents of the git Repository\n",
       "#### Documentation  \n",
       "* [Intoduction à la programmation avec le language Python](doc/IntroPython.pdf)\n",
       "* [Python for data Analysis](doc/Python-for-Data-Analysis.pdf)\n",
       "\n",
       "#### Lab exercices \n",
       "* [Lab 1](release/Lab%201/Lab%201.ipynb)\n",
       "    * [Lab 1 Solution](source//Lab%201/Lab%201.ipynb)\n",
       "* [Lab 2](release/Lab%202/Lab%202.ipynb)\n",
       "* [Lab 3](release/Lab%203/Lab%203.ipynb)\n",
       "* [Lab 4](release/Lab%204/Lab%204.ipynb)\n",
       "\n",
       "## install virtual environement required for all the labs\n",
       "\n",
       "#### With virtualenv\n",
       "```bash\n",
       "$ python -m venv net\n",
       "$ source net/bin/activate\n",
       "$ pip install --upgrade pip\n",
       "$ python -m pip install -r requirements.txt  \n",
       "```\n",
       "\n",
       "#### with conda \n",
       "```bash\n",
       "$ conda create -n net python=3.8    \n",
       "$ conda activate net\n",
       "$ pip3 install --upgrade pip\n",
       "$ pip install -r requirements.txt  \n",
       "```\n",
       "\n",
       "## Create the jupyter kernel for the labs\n",
       "```bash\n",
       "$ python -m ipykernel install --user --name=net \n",
       "```\n",
       "\n",
       "#### Data\n",
       "* Comtrade: The [UN Comtrade](https://comtrade.un.org/) Database houses detailed global trade data.\n",
       "* Game Of Thrones: [Kaggle Game of Thrones: Network Analysis](https://www.kaggle.com/mmmarchetti/game-of-thrones-network-analysis/notebook)\n",
       "* Wikipedia: Small subset of wikipedia articles in form : Page Id, Page Title, Keywords \n",
       "* Facebook: this dataset consists of 'circles' (or 'friends lists') from Facebook. Facebook data was collected by [1] from survey participants using this Facebook app. The dataset includes node features (profiles), circles, and ego networks.\n",
       "\n",
       "_[1]_ the J. McAuley and J. Leskovec. [Learning to Discover Social Circles in Ego Networks](http://i.stanford.edu/~julian/pdfs/nips2012.pdf). NIPS, 2012.\n",
       "\n",
       "#### Other Python resources online \n",
       "* [Jake VanderPlas, Python Data Science Handbook,  O′Reilly  (2016)](https://jakevdp.github.io/PythonDataScienceHandbook/)\n",
       "* [Wes McKinney, Python for Data Analysis: Data Wrangling with Pandas, NumPy, and IPython, O′Reilly (2017)](https://bedford-computing.co.uk/learning/wp-content/uploads/2015/10/Python-for-Data-Analysis.pdf)\n",
       "* [Scipy Lecture Notes](http://www.scipy-lectures.org/)\n",
       "* [Une introduction à Python 3](http://hebergement.u-psud.fr/iut-orsay/Pedagogie/MPHY/Python/courspython3.pdf).\n",
       "\n",
       "## Recomended Python distribution \n",
       "* [Download Anaconda pour OSX/Windows/Linux](https://www.anaconda.com/products/individual)\n",
       "* [Google Colab](https://colab.research.google.com/)"
      ],
      "text/plain": [
       "<IPython.core.display.Markdown object>"
      ]
     },
     "metadata": {},
     "output_type": "display_data"
    }
   ],
   "source": [
    "from IPython.display import display,Markdown\n",
    "display(Markdown(open('README.md', 'r').read()))"
   ]
  },
  {
   "cell_type": "code",
   "execution_count": null,
   "id": "c2922ed5-0f9e-49d0-9b4f-99a7e01385ae",
   "metadata": {},
   "outputs": [],
   "source": []
  }
 ],
 "metadata": {
  "kernelspec": {
   "display_name": "Python 3 (ipykernel)",
   "language": "python",
   "name": "python3"
  },
  "language_info": {
   "codemirror_mode": {
    "name": "ipython",
    "version": 3
   },
   "file_extension": ".py",
   "mimetype": "text/x-python",
   "name": "python",
   "nbconvert_exporter": "python",
   "pygments_lexer": "ipython3",
   "version": "3.8.8"
  }
 },
 "nbformat": 4,
 "nbformat_minor": 5
}

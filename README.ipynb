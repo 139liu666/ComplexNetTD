{
 "cells": [
  {
   "cell_type": "code",
   "execution_count": 24,
   "id": "a5ad6bb6-0deb-4c36-8cac-7d43d6c200d9",
   "metadata": {},
   "outputs": [
    {
     "data": {
      "text/markdown": [
       "# NET 4103/7431: Labs materials\n",
       "\n",
       "## Content of the git Repository\n",
       "#### Documentation  \n",
       "* [Intoduction à la programmation avec le language Python](doc/IntroPython.pdf)\n",
       "* [Python for data Analysis](doc/Python-for-Data-Analysis.pdf)\n",
       "\n",
       "#### Other Python resources online \n",
       "* [Jake VanderPlas, Python Data Science Handbook,  O′Reilly  (2016)](https://jakevdp.github.io/PythonDataScienceHandbook/)\n",
       "* [Wes McKinney, Python for Data Analysis: Data Wrangling with Pandas, NumPy, and IPython, O′Reilly (2017)](https://bedford-computing.co.uk/learning/wp-content/uploads/2015/10/Python-for-Data-Analysis.pdf)\n",
       "* [Scipy Lecture Notes](http://www.scipy-lectures.org/)\n",
       "* [Une introduction à Python 3](http://hebergement.u-psud.fr/iut-orsay/Pedagogie/MPHY/Python/courspython3.pdf).\n",
       "\n",
       "#### Lab exercices \n",
       "* [Lab 1 (EN)](release/Lab%201%20-%20EN/Lab%201%20-%20EN.ipynb)\n",
       "* [Lab 2 (EN)](release/Lab%202%20-%20EN/Lab%202%20-%20EN.ipynb)\n",
       "* [Lab 2 (FR)](release/Lab%202%20-%20FR/Lab%202%20-%20FR.ipynb)\n",
       "* [Lab 3](release/Lab%203/Lab%203%20-%20Community%20Detection.ipynb)\n",
       "\n",
       "## Recomended Python distribution \n",
       "* [Download Anaconda pour OSX/Windows/Linux](https://www.anaconda.com/products/individual)"
      ],
      "text/plain": [
       "<IPython.core.display.Markdown object>"
      ]
     },
     "metadata": {},
     "output_type": "display_data"
    }
   ],
   "source": [
    "from IPython.display import display,Markdown\n",
    "display(Markdown(open('README.md', 'r').read()))"
   ]
  },
  {
   "cell_type": "code",
   "execution_count": null,
   "id": "26aea1f7-6060-46cf-b9d6-6b65e198cd68",
   "metadata": {},
   "outputs": [],
   "source": []
  }
 ],
 "metadata": {
  "kernelspec": {
   "display_name": "Python 3 (ipykernel)",
   "language": "python",
   "name": "python3"
  },
  "language_info": {
   "codemirror_mode": {
    "name": "ipython",
    "version": 3
   },
   "file_extension": ".py",
   "mimetype": "text/x-python",
   "name": "python",
   "nbconvert_exporter": "python",
   "pygments_lexer": "ipython3",
   "version": "3.9.0"
  }
 },
 "nbformat": 4,
 "nbformat_minor": 5
}

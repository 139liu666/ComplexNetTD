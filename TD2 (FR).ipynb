{
 "cells": [
  {
   "cell_type": "markdown",
   "metadata": {},
   "source": [
    "<h1 align=\"center\">TD 2: L'algorithme du PageRank</h3> \n",
    "\n",
    "<h3 align=\"center\">Vincent Gauthier</h3>\n",
    "<h4 align=\"center\">vincent.gauthier@telecom-sudparis.eu</h4>\n",
    "\n",
    "<img src=\"./Images/webmap.jpg\"></img>\n",
    "\n",
    "# Introduction\n",
    "\n",
    "Avant 1998, le graphe du web était une source d'information largement inutilisée et ignorée par les moteurs de recherche tels que Yahoo, ou Astalavista. Cependant, des chercheurs tels que Jon Kleinberg [2] et Brin et Page [3] ont utilisé cette ressource afin de créer une méthodologie algorithmiquement élégante qui a permis de développer les moteurs de recherche que l'on connait aujourd'hui. Ils ont alors principalement utilisé l'idée suivante: un lien hyperlink de ma page web vers une autre page peut être interprété comme une recommandation de ma part vers la page web en question. L’idée sous-jacente qui est exploitée est la suivante: une page web qui est citée très souvent doit être une page web plus importante que page web moins souvent citée. Cependant, cette idée n'est pas nouvelle, utiliser la bibliometrie (le nombre de citations) comme unique critère sélectif n’est pas suffisant. Par exemple, une lettre de recommandation pour un travail provenant du PDG d’orange aura surement plus de poids que les 10 autres lettres  de recommandation que vous auriez pu avoir. En conclusion, l’importance des recommandations (et non pas seulement leurs nombres) doit aussi être prise en compte dans le calcul de la notoriété d’une page web. C’est exactement le principe du **PageRank**.\n",
    "\n",
    "Dans les moteurs de recherche actuels, on associe à chaque page web indexée une valeur de \"PageRank\". Lorsque vous effectuez une recherche, le moteur de recherche vous retourne les pages web correspondant aux mots clés triés par ordre croissant de leur valeur de \"PageRank\". L’hypothèse sous-jacente qui est utilisée est que: la page web qui possède la valeur de \"PageRank\" la plus élevée doit être la plus pertinente pour les mots clés considérés. \n",
    "\n",
    "Afin de faire court, la notoriété (valeur du PageRank) d'une page web est définie comme suit: la notoriété d’une page web est importante, si elle est elle-même pointée par d’autres pages web avec une notoriété importante. Ce raisonnement circulaire est au coeur de l'algorithme qui va être développé durant cet exercice. Au travers de ce raisonnement circulaire, on en déduit que les valeurs de PageRank  sont en fait les valeurs des états stationnaires d'une immense chaîne de Markov. Les transitions de cette chaîne de Markov sont définies par le graphe du web. La matrice des transitions de cette chaîne de Markov est appelée \"Google\" matrice $\\mathbf{G}$. Afin de calculer ce vecteur d'états stationnaires, il faut cependant que la chaîne de Markov en question admette une solution unique. Pour cela, une des conditions est: qu’il faut que le graphe des transitions soit irréductible (c.-à-d. que le graphe forme une composante connexe) ce qui n'est pas le cas du graphe du web (cf. Fig. 1). L'algorithme du PageRank a permis a Brin et Page de contourner intelligemment cette difficulter appliquant une transformation sur la matrice d’adjacence afin de s’assumer de l’irréductibilité de celle-ci.\n",
    "\n",
    "<div align=\"center\">\n",
    "<img src=\"./Images/Scc.png\" width=\"500px\"></img>\n",
    "** Figure 1**\n",
    "</div>\n",
    "\n",
    "**Algorithme du PageRank**\n",
    "1. Normalisation de la matrice d'adjacence du graphe du web\n",
    "2. Découverte des noeuds du graphe du web ne possédant pas de lien de sortie (aucun lien hypertext)\n",
    "3. Création de la \"Google\" Matrice \n",
    "4. Calcul de la valeur des états stationnaires de la chaîne de Markov  \n",
    "\n",
    "Dans la première partie de cet exercice nous allons considérer le graphe orienté suivant $\\mathcal{G}(\\mathcal{V}, \\mathcal{E})$ (cf. **Fig. 2**), comme un petit exemple du graphe du web. Chaque arc $e \\in \\mathcal{E}$ représente un lien hyperlink d'une page web $v \\in \\mathcal{V}$ (un noeud du graphe ) vers une autre.\n",
    "\n",
    "<div align=\"center\">\n",
    "<img src=\"Images/GraphPageRank.png\" width=\"400px\"></img>\n",
    "** Figure 2**\n",
    "</div>\n",
    "\n",
    "### Notations\n",
    "$\\mathbf{A}$: Matrice d'ajacence du graphe $\\mathcal{G}(\\mathcal{V}, \\mathcal{E})$\n",
    "\n",
    "$\\mathbf{H}$: Matrice d'adjacence normalisée\n",
    "\n",
    "$\\mathbf{G}$: Matrice dense, stochastique et complete appelée Google matrice \n",
    "\n",
    "$\\mathbf{\\pi}^T$: Vecteur ligne, stationnaire, appelé vecteur PageRank  \n",
    "\n",
    "$n$ : nombre de pages web dans le moteur de recherche\n",
    "\n",
    "$\\alpha$: paramétre entre 0 et 1\n",
    "\n",
    "### Conventions\n",
    "\n",
    "$\\mathbf{e}^T$ : est une vecteur ligne $\\begin{pmatrix} 1 & 1 & 1 & 1 \\end{pmatrix}$\n",
    "\n",
    "$\\mathbf{e}$ : est un vecteur colonne  $\\begin{pmatrix} 1 \\\\ 1 \\\\ 1 \\\\ 1 \\end{pmatrix}$\n",
    "\n",
    "$\\sigma(\\mathbf{A})$ est l'ensemble (set) des valeurs propres de la matrice $\\mathbf{A}$\n",
    "\n",
    "$\\lambda_{max} = \\max_{\\lambda \\in \\sigma(\\mathbf{A})} \\lvert \\lambda \\lvert$ est la plus grande valeur propre de la matrice $\\mathbf{A}$\n",
    "\n",
    "$\\mathbf{e} \\otimes \\mathbf{e}^T$ : est le produit exterieur $\\begin{pmatrix} 1 \\\\ 2 \\\\ 3  \\end{pmatrix}  \\otimes \\begin{pmatrix} 1 & 2 & 3 \\end{pmatrix} = \\begin{pmatrix} 1 & 2 & 3  \\\\ 2 & 4 & 6 \\\\ 3 & 6 & 9 \\end{pmatrix}$\n",
    "\n",
    "### Rapels d'algébre vectoriel en python \n",
    "Multiplication et division terme à terme:\n",
    "```Python\n",
    "import numpy as np\n",
    "x = np.array([2, 2, 2])\n",
    "2*x\n",
    ">>> array([4, 4, 4])\n",
    "x = np.array([2, 2, 2])\n",
    "x/2\n",
    ">>> array([1, 1, 1])\n",
    "A = np.array([[2, 2, 2], [2, 2, 2], [2, 2, 2]])\n",
    "A/2\n",
    ">>> np.array([[1, 1, 1], \n",
    "              [1, 1, 1], \n",
    "              [1, 1, 1]])\n",
    "```\n",
    "\n",
    "Division d'une matrice par un vecteur \n",
    "```Python\n",
    "A = np.array([[1, 1], [4, 4]])\n",
    "b = np.array([1, 3])\n",
    "(A.T/b).T\n",
    ">>> array([[ 1.        ,  1.        ],\n",
    "           [ 1.33333333,  1.33333333]])\n",
    "```\n",
    "\n",
    "Produit vectoriel:\n",
    "```Python\n",
    "import numpy as np\n",
    "\n",
    "A = np.array([[2, 2, 2], [2, 2, 2]])\n",
    "x = np.array([2, 2, 2])\n",
    "np.dot(A,x)\n",
    ">>> array([12, 12])\n",
    "\n",
    "a = np.array([1, 1, 1])\n",
    "b = np.array([1, 1, 1])\n",
    "np.outer(A,x)\n",
    ">>> array([[1, 1, 1], \n",
    "           [1, 1, 1], \n",
    "           [1, 1, 1]])\n",
    "```\n",
    "\n",
    "Transposé:\n",
    "```Python\n",
    "import numpy as np\n",
    "\n",
    "A = np.array([[1, 2], [3, 4]])\n",
    "A.T\n",
    ">>> array([[1, 3],\n",
    "           [2, 4]])\n",
    "```\n",
    "\n",
    "Dimention d'une matrice \n",
    "```Python\n",
    "A = np.array([[1, 1, 1], [1, 1, 1]])\n",
    "n, m = A.shape\n",
    "print(n, m)\n",
    ">>> 2 3\n",
    "```\n",
    "\n",
    "Somme d'une ligne d'une matrice\n",
    "```Python\n",
    "A = np.array([[1, 1, 1,], [2, 2, 2]])\n",
    "A[1,:].sum()\n",
    ">>> 6\n",
    "```"
   ]
  },
  {
   "cell_type": "code",
   "execution_count": 1,
   "metadata": {
    "collapsed": false
   },
   "outputs": [
    {
     "data": {
      "text/html": [
       "<style>\n",
       "    div.cell{\n",
       "      margin-left:auto;\n",
       "      margin-right:auto;\n",
       "    }\n",
       "\n",
       "    h1,h2,h3,h4,h5 {\n",
       "      align: left;\n",
       "      font-family:\"Charis SIL\", serif;\n",
       "    }\n",
       "\n",
       "    div.text_cell_render{\n",
       "      /*\n",
       "      font-family: \"Charis SIL\", sans-serif;\n",
       "      */\n",
       "      line-height: 145%;\n",
       "      font-size: 145%;\n",
       "      line-height: 145%;\n",
       "    }\n",
       "\n",
       "\n",
       "    /*\n",
       "    .CodeMirror{\n",
       "      font-family: \"Source Code Pro\", monospace;\n",
       "    }\n",
       "    */\n",
       "    \n",
       "    .text_cell_render h5 {\n",
       "      font-weight: 300;\n",
       "      font-size: 22pt;\n",
       "      color: #4057A1;\n",
       "      font-style: italic;\n",
       "      margin-bottom: .5em;\n",
       "      margin-top: 0.5em;\n",
       "      display: block;\n",
       "    }\n",
       "\n",
       "    div.warn {\n",
       "      margin-top: 30px;\n",
       "      background-color: #fcf2f2;\n",
       "      border-color: #dFb5b4;\n",
       "      border-left: 5px solid #dfb5b4;\n",
       "      padding: 0.5em;\n",
       "    }\n",
       "\n",
       "    div.green {\n",
       "      margin-top: 30px;\n",
       "      background-color: #adf08d;\n",
       "      border-color: #34c123;\n",
       "      border-left: 5px solid #34c123;\n",
       "      padding: 0.5em;\n",
       "    }\n",
       "\n",
       "</style>\n"
      ],
      "text/plain": [
       "<IPython.core.display.HTML object>"
      ]
     },
     "execution_count": 1,
     "metadata": {},
     "output_type": "execute_result"
    }
   ],
   "source": [
    "# On importe les librairies nécessaire au TD  \n",
    "import networkx as nx\n",
    "import numpy as np\n",
    "import scipy as sp\n",
    "from numpy import linalg as LA\n",
    "import pandas as pd\n",
    "import csv\n",
    "import matplotlib.pylab as plt\n",
    "\n",
    "%matplotlib nbagg\n",
    "\n",
    "# Style pour le Notebook\n",
    "from IPython.core.display import HTML\n",
    "\n",
    "def css_styling():\n",
    "    styles = open(\"./Styles/custom.css\", \"r\").read()\n",
    "    return HTML(styles)\n",
    "css_styling()"
   ]
  },
  {
   "cell_type": "markdown",
   "metadata": {},
   "source": [
    "# Générer un graphe du web synthétique\n",
    "\n",
    "A l'aide de Networkx, générer le graphe orienté $\\mathcal{G}(\\mathcal{V}, \\mathcal{E})$ (cf. **Fig 2**), et dessiner le graphe à l'aide de matplotlib afin de valider visuellement s'il correspond bien à celui de la ** figure 2**.\n",
    "\n",
    "**Aide**: on utilisera les methodes definie dans networkx pour ajouter des noeuds et des arc au graphe ([tutoriel networkx](https://networkx.github.io/documentation/networkx-1.10/tutorial/tutorial.html#nodes))"
   ]
  },
  {
   "cell_type": "code",
   "execution_count": null,
   "metadata": {
    "collapsed": false
   },
   "outputs": [],
   "source": [
    "N = 6\n",
    "g = nx.DiGraph()\n",
    "\n",
    "### \n",
    "# votre code\n",
    "###\n",
    "\n",
    "pos = nx.spring_layout(g);\n",
    "nx.draw_networkx(g, pos=pos, labels=label, node_size=600, font_size=20.0);"
   ]
  },
  {
   "cell_type": "markdown",
   "metadata": {},
   "source": [
    "# Extraire la matrice d'adjacence du graphe\n",
    "\n",
    "Avant d'aller plus avant dans l'exercice allons extraire la matrice d'adjacence $\\mathbf{A}_{n\\times n}$ du graphe dirigé $\\mathcal{G}(\\mathcal{V}, \\mathcal{E})$  afin de construire la matrice normalisés d'adjacence du graphe $\\mathbf{H}_{n\\times n}$.\n",
    "\n",
    "(eq. **1**)\n",
    "$$\n",
    "\\mathbf{H}_{ij} = \\begin{cases}\n",
    "    1/\\sum_{j} \\mathbf{A}_{ij} & \\text{ si il y a une lien entre le noeud } i \\text{ et } j\\\\\n",
    "    0 & \\text{ sinon}\n",
    "\\end{cases}\n",
    "$$\n",
    "\n",
    "**Exemple**: La matrice $\\mathbf{H}_{n \\times n}$ correspondant au graphe defini dans la figure 1.\n",
    "\n",
    "\n",
    "$$\n",
    "\\mathbf{H} = \\begin{pmatrix}\n",
    "  0 & 1/2 & 1/2 & 0 & 0 & 0 \\\\\n",
    "  0 & 0 & 0 & 0 & 0 & 0 \\\\\n",
    "  1/3 & 1/3 & 0 & 0 & 1/3 & 0 \\\\\n",
    "  0 & 0 & 0 & 0 & 1/2 & 1/2 \\\\\n",
    "  0 & 0 & 0 & 1/2 & 0 & 1/2 \\\\\n",
    "  0 & 0 & 0 & 1 & 0 & 0 \\\\\n",
    "\\end{pmatrix}\n",
    "$$\n",
    "\n",
    "**Example de recupération de la matrice d'ajacence avec networkx**\n",
    "```Python\n",
    ">>> import numpy as np\n",
    ">>> G = nx.Graph([(1,1)])\n",
    ">>> A = nx.to_numpy_matrix(G)\n",
    ">>> A\n",
    "matrix([[ 1.]])\n",
    "```"
   ]
  },
  {
   "cell_type": "code",
   "execution_count": null,
   "metadata": {
    "collapsed": true
   },
   "outputs": [],
   "source": [
    "def transform_to_stochatic(G):\n",
    "    ### \n",
    "    # votre code\n",
    "    ###\n",
    "    return S"
   ]
  },
  {
   "cell_type": "code",
   "execution_count": null,
   "metadata": {
    "collapsed": false
   },
   "outputs": [],
   "source": [
    "H = transform_to_stochatic(g)\n",
    "print(H)"
   ]
  },
  {
   "cell_type": "markdown",
   "metadata": {},
   "source": [
    "# Trouver le dangling vecteur \n",
    "\n",
    "On souhaite calculer le \"dangling vecteur\" $\\mathbf{a}$ qui associe à chaque noeud la valeur 1 si celui-ci ne possède aucun lien de sortie, et 0 sinon.  \n",
    "\n",
    "(eq. **2**)\n",
    "\n",
    "$$\n",
    "\\mathbf{a}_i = \\begin{cases}\n",
    "    1 & si \\sum_{j} \\mathbf{A}_{ij} = 0 \\\\\n",
    "    0              & \\text{ sinon}\n",
    "\\end{cases}\n",
    "$$\n",
    "\n",
    "**exemple**:\n",
    "<img src=\"./Images/DanglingPageRank.png\" width=\"500px\"></img>\n",
    "<div align=\"center\">**Figure 3**: Example de vecteur $\\mathbf{a}$ afin d'identifier les noeuds Dangling</div>"
   ]
  },
  {
   "cell_type": "code",
   "execution_count": null,
   "metadata": {
    "collapsed": true
   },
   "outputs": [],
   "source": [
    "def dangling_vector(H):\n",
    "    ### \n",
    "    # Your code\n",
    "    ###\n",
    "    return a"
   ]
  },
  {
   "cell_type": "code",
   "execution_count": null,
   "metadata": {
    "collapsed": false
   },
   "outputs": [],
   "source": [
    "a = dangling_vector(H)\n",
    "print(a)"
   ]
  },
  {
   "cell_type": "markdown",
   "metadata": {},
   "source": [
    "# Construction de la \"Google\" Matrice \n",
    "\n",
    "Malheureusement le graphe du web ne forme pas un graphe connexe, irréductible et apériodique. En construisant la matrice \"Google\" on va ajouter à la matrice d'adjacence du graphe du web des transitions artificielles afin de transformer celle-ci en un autre graphe qui offre des propriétés satisfaisantes (irréductible et apériodique). Une fois la matrice $\\mathbf{G}_{n \\times n}$ construite, elle va permettre de calculer les états stationnaires $\\pi^T$ (le PageRank) de chacun des noeuds du graphe $\\mathcal{G}(\\mathcal{V}, \\mathcal{E})$. Le but de cet exercice est de transformer la matrice d'adjacence $\\mathbf{A}_{n \\times n}$ du graphe du web en une matrice $\\mathbf{G}_{n \\times n}$ ($\\mathbf{A} \\to \\mathbf{G}$) de telle sorte qu’elle satisfasse les conditions suivantes: \n",
    "\n",
    "1. Que la matrice $\\mathbf{G}$ soit stochatsique. \n",
    "2. Que la matrice $\\mathbf{G}$ soit irreductible, pour cela il faut qu'il existe un chemin entre tous les noeuds du graphe.\n",
    "3. Que la matrice $\\mathbf{G}$ soit apériodique, l'existence de boucle $\\mathbf{G}_{ii} > 0$ est une condition suffisante pour dire que le graphe est apériodique.\n",
    "4. Que la matrice $\\mathbf{G}$ soit primitive. Si la matrice $\\mathbf{G}$ est primitive alors il existe un vecteur $\\pi^{(k)T}$ tel que $\\mathbf{\\pi}^{(k)T} = \\mathbf{\\pi}^{(k)T} \\mathbf{G}$ (autrement dit il y a convergence du vecteur $\\pi^{(k)T}$ vers un état stationnaire unique quand $k \\to \\infty$) (cf. théorème de Perron-Frobenius) \n",
    "\n",
    "<div class=warn>\n",
    "**Definition 1**: Une matrice est dite primitive si elle admet une puissance dont tous les termes sont strictement positifs. c.a.d. qu'il existe $\\mathbf{G}^k > 0$\n",
    "</div>\n",
    "\n",
    "<div class=warn>\n",
    "**Théorème de Perron-Frobenius**: Soit une matrice $\\mathbf{A}$ positive et primitive. Alors il existe une valeur propore $\\lambda_{max}$ de telle sorte que: <br>\n",
    "\n",
    "1. $\\lambda_{max}$ est réel et strictment positive, $\\lambda_{max} > 0$ <br>\n",
    "2. à $\\lambda_{max}$ sont associés des vecteurs propres à gauche et à droite strictement positifs <br>\n",
    "3. $\\lambda_{max} > \\lvert \\lambda \\lvert\\ \\ \\forall \\lambda \\neq \\lambda_{max}$ <br>\n",
    "4. il existe un unique vecteur $\\mathbf{x}$ de norme 1 à coordonnées strictement positives tel que $\\mathbf{A}\\mathbf{x}=\\lambda_{max} \\mathbf{x}$\n",
    "</div>\n",
    "\n",
    "<div class=green>\n",
    "**Conclusion**: La matrice d'ajacence $\\mathbf{A}_{n \\times n}$ d'un graphe irréductible et apériodique est une matrice primitive. Alors d'après le thèoreme de Perron-Frobenius on peut en conclure que la matrice d'adjacence $\\mathbf{A}_{n \\times n}$ admet un unique vecteur $\\mathbf{x}$ de norme 1 à coordonnées strictement positives tel que $\\mathbf{A}\\mathbf{x}=\\lambda_{max} \\mathbf{x}$.\n",
    "</div>\n",
    "\n",
    "On pose :\n",
    "\n",
    "(eq. **3**)\n",
    "$$\n",
    "\\mathbf{S} = \\mathbf{H} + \\frac{1}{n} \\mathbf{a} \\otimes \\mathbf{e}^T \\\\\n",
    "$$\n",
    "\n",
    "Pour rappel, le vecteur $\\mathbf{a}_n$ (calculé à l'étape 3. de l'exercice) est le vecteur Dangling et $\\mathbf{H}_{n \\times n}$ est la matrice normalisée d'adjacence du graphe orienté $\\mathcal{G}(\\mathcal{V}, \\mathcal{E})$ (calculé à l'étape 2. de l'exercice). On definit la matrice alors la \"Google matrice\" comme étant: \n",
    "\n",
    "(eq. **4**)\n",
    "$$\n",
    "\\mathbf{G} = \\alpha  \\mathbf{S} + (1-\\alpha) \\frac{1}{n}\\mathbf{e} \\otimes \\mathbf{e}^T \\\\\n",
    "$$\n",
    "\n",
    "\n",
    "\n",
    "<img src=\"./Images/GoogleMatrice.png\" width=\"700px\"></img>\n",
    "<div align=\"center\">**Fig. 4**: Google matrice</div>\n",
    "\n",
    "La \"Google matrice\" $\\mathbf{G}_{n \\times n} $ (cf. eq. 4) est construite en ajoutant des transitions supplémentaires (cf. Fig. 3) à la matrice d'adjacence originale du graphe $\\mathcal{G}(\\mathcal{V}, \\mathcal{E})$ de telle sorte que les conditions 1 à 3 soient satisfaites."
   ]
  },
  {
   "cell_type": "markdown",
   "metadata": {},
   "source": [
    "**Question 1**: Développé l'équation 4 (à l'aide de l'équation 3) afin d'exprimer la matrice $\\mathbf{G}_{n \\times n}$ en fonction de $\\mathbf{H}_{n \\times n}$ et $\\mathbf{a}_n$\n",
    "\n",
    "\n",
    "**reponse**:\n",
    "\n"
   ]
  },
  {
   "cell_type": "markdown",
   "metadata": {},
   "source": [
    "#### Implémenter la fonction qui construit la \"Google matrice\"  (reponse de la question 1)"
   ]
  },
  {
   "cell_type": "code",
   "execution_count": null,
   "metadata": {
    "collapsed": true
   },
   "outputs": [],
   "source": [
    "def google_matrix(H, a, alpha=0.9):\n",
    "    '''\n",
    "    H: matrix d'adjacence stochastique\n",
    "    a : Dangling vector\n",
    "    '''\n",
    "    ### \n",
    "    # Your code\n",
    "    ###\n",
    "    return G"
   ]
  },
  {
   "cell_type": "code",
   "execution_count": null,
   "metadata": {
    "collapsed": false
   },
   "outputs": [],
   "source": [
    "G = google_matrix(H, a)\n",
    "print(G)"
   ]
  },
  {
   "cell_type": "markdown",
   "metadata": {},
   "source": [
    "#### Application numerique pour le graphe décrit dans la figure 2 ($\\alpha = 0.9$)\n",
    "\n",
    "(**eq. 4.**)\n",
    "$$\n",
    "\\mathbf{G} = 0.9\\mathbf{H} + \\left[ 0.9 \\begin{pmatrix} 0 \\\\ 1 \\\\ 0 \\\\ 0 \\\\ 0 \\\\ 0 \\\\ \\end{pmatrix} + 0.1  \\begin{pmatrix} 1 \\\\ 1 \\\\ 1 \\\\ 1 \\\\ 1 \\\\ 1 \\\\ \\end{pmatrix}  \\right]  \\otimes 1/6  \\begin{pmatrix} 1 & 1 & 1 & 1 & 1 & 1 \\end{pmatrix} \\\\\n",
    "$$\n",
    "\n",
    "$$\n",
    "\\mathbf{G} =  \\begin{pmatrix} \n",
    "1/60 & 7/15 & 7/15 & 1/60 & 1/60 & 1/60 \\\\\n",
    "1/6  & 1/6  & 1/6  & 1/6  & 1/6  & 1/6 \\\\\n",
    "19/60 & 19/60 & 1/60 & 1/60 & 19/60 & 1/60 \\\\\n",
    "1/60 & 1/60 & 1/60 & 1/60 & 7/15 & 7/15 \\\\\n",
    "1/60 & 1/60 & 1/60 & 7/60 & 1/60 & 7/15 \\\\\n",
    "1/60 & 1/60 & 1/60 & 11/12 & 1/60 & 1/60 \\\\\n",
    "\\end{pmatrix}\n",
    "$$"
   ]
  },
  {
   "cell_type": "markdown",
   "metadata": {},
   "source": [
    "# Calculer la valeur du vecteur PageRank\n",
    "\n",
    "(**eq. 5**)\n",
    "\\begin{eqnarray}\n",
    "& \\mathbf{\\pi}^{(k)T} & =   \\mathbf{\\pi}^{(k-1)T} \\mathbf{G} \\\\ \n",
    "& \\mathbf{\\pi}^{(k-1)T} & = \\mathbf{\\pi}^{(k-2)T} \\mathbf{G} \\\\ \n",
    "& \\vdots &\\\\\n",
    "& \\mathbf{\\pi}^{(1)T} & = \\mathbf{\\pi}^{(0)T} \\mathbf{G} \n",
    "\\end{eqnarray}\n",
    "\n",
    "Par récurence on peut donc écrire \n",
    "\n",
    "(**eq. 6**)\n",
    "$$\\mathbf{\\pi}^{(k)T} = \\mathbf{\\pi}^{(0)T} \\mathbf{G}^k$$\n",
    "\n",
    "On cherche maintenant à calculé le vecteur stationnaire $\\mathbf{\\pi}^{(k)T}$ lorsque $k \\to \\infty$. On sait que la matrice $\\mathbf{G}$ est primitive par construction, alors la converge du vecteur $\\mathbf{\\pi}^{T}$(dans le cas d'un espace d'état fini) est prouvé par le théorème de Perron-Frobenius. Afin de calculer les états stationaires du vecteur $\\mathbf{\\pi}^{T}$ on va alors itérer l'opération $\\mathbf{\\pi}^{(k)T} = \\mathbf{\\pi}^{(k-1)T} \\mathbf{G}$ jusqu'a convergence du vecteur $\\mathbf{\\pi}^{T}$ (cf. Alg 1).\n",
    "\n",
    "<br>\n",
    "\n",
    "<img src=\"./Images/PowerIt.png\" width=\"600px\"></img>\n",
    "\n",
    "<br>\n",
    "<div align=\"center\">**Alg1** : Algorithme de calcule iteratif du PageRank</div>"
   ]
  },
  {
   "cell_type": "code",
   "execution_count": null,
   "metadata": {
    "collapsed": false
   },
   "outputs": [],
   "source": [
    "def power_iter(G, max_iter=500, tol=1e-6):\n",
    "    \"\"\"power_iter\n",
    "\n",
    "    Parametres\n",
    "    -----------\n",
    "    G : Goole matrice\n",
    "\n",
    "    max_iter : integer, optional\n",
    "        Nombre maxium d'iteration permise \n",
    "\n",
    "    tol : float, optional\n",
    "       Error tolerance used to check convergence in power method solver.\n",
    "    \"\"\"\n",
    "    ### \n",
    "    # Your code\n",
    "    ###\n",
    "    raise RuntimeError('pagerank: power iteration failed to converge in %d iterations.' % max_iter)"
   ]
  },
  {
   "cell_type": "code",
   "execution_count": null,
   "metadata": {
    "collapsed": false
   },
   "outputs": [],
   "source": [
    "(π, gap) = power_iter(G)"
   ]
  },
  {
   "cell_type": "code",
   "execution_count": null,
   "metadata": {
    "collapsed": false
   },
   "outputs": [],
   "source": [
    "λ, _ = LA.eig(G)\n",
    "λ_2 = np.sort(λ.real)[-2]\n",
    "λ_gap = [λ_2 ** i for i in range(1,25)]\n",
    "\n",
    "fig = plt.figure(figsize=(7,4))\n",
    "plt.semilogy(gap, 'ro')\n",
    "plt.semilogy(λ_gap, lw=2.0, label=\"$\\lambda_2^i$\")\n",
    "plt.title(\"Vitesse de convergence de l'algorithme du PageRank\")\n",
    "plt.xlabel(\"Nombre d'iterations de l'agorithme PageRank $(i)$\")\n",
    "plt.ylabel(\"iteration gap\")\n",
    "plt.legend()\n",
    "plt.tight_layout()\n",
    "print(π)"
   ]
  },
  {
   "cell_type": "markdown",
   "metadata": {},
   "source": [
    "# 5. Intégration des trois étapes qui constituent l'algorithme du PageRank\n",
    "\n",
    "Construire la fonction qui intégre les différentes étapes qui constitutent l'algorithme du PageRank. Vous allez utiliser les fonctions que vous avez définies précedemment pour construire l'algorithme final. \n",
    "\n",
    "**Algorithme du PageRank**\n",
    "1. Normalisation de la matrice d'ajacence du graphe du web\n",
    "2. Découverte des noeuds du graphe du web ne possédant pas de liens de sortie \"Dangling nodes\"(aucun lien hypertext)\n",
    "3. Creation de la \"Google\" Matrice \n",
    "4. Calcul de la vecteur des états stationnaires de la chaine de Markov $\\mathbf{G}$ \n"
   ]
  },
  {
   "cell_type": "code",
   "execution_count": null,
   "metadata": {
    "collapsed": false
   },
   "outputs": [],
   "source": [
    "def pagerank(Graph, α=0.85, max_iter=100, tol=1e-6):\n",
    "    \"\"\"Return the PageRank of the nodes in the graph.\n",
    "\n",
    "    PageRank computes a ranking of the nodes in the graph G based on\n",
    "    the structure of the incoming links. It was originally designed as\n",
    "    an algorithm to rank web pages.\n",
    "\n",
    "    Parametres\n",
    "    -----------\n",
    "    G : graph\n",
    "      A NetworkX graph.  Undirected graphs will be converted to a directed\n",
    "      graph with two directed edges for each undirected edge.\n",
    "\n",
    "    alpha : float, optional\n",
    "      Damping parameter for PageRank, default=0.85.\n",
    "\n",
    "    max_iter : integer, optional\n",
    "      Maximum number of iterations in power method.\n",
    "\n",
    "    tol : float, optional\n",
    "      Error tolerance used to check convergence in power method solver.\n",
    "      \n",
    "    Return\n",
    "    PR : dict\n",
    "      retourne un dictionnaire avec comme clé le nodeid, et comme valeur le pagerank du noeud \n",
    "    \"\"\"\n",
    "    ### \n",
    "    # votre code\n",
    "    ###\n",
    "    return PR"
   ]
  },
  {
   "cell_type": "code",
   "execution_count": null,
   "metadata": {
    "collapsed": false
   },
   "outputs": [],
   "source": [
    "PR = pagerank(g)\n",
    "print(PR)\n",
    "# Resultat:\n",
    "# 1: 0.051705562590950153, \n",
    "# 2: 0.073680682042402676, \n",
    "# 3: 0.057413363969125449, \n",
    "# 4: 0.34870204607252409, \n",
    "# 5: 0.19990341577794057, \n",
    "# 6: 0.26859492954705705"
   ]
  },
  {
   "cell_type": "markdown",
   "metadata": {},
   "source": [
    "# Application de l'algorithme du PageRank pour le classement des pages web\n",
    "\n",
    "## Exemple avec le graphe des liens du site Wikipedia"
   ]
  },
  {
   "cell_type": "code",
   "execution_count": null,
   "metadata": {
    "collapsed": false
   },
   "outputs": [],
   "source": [
    "# On charge le graphe des liens des page wikipedia dans un graphe (networkx)\n",
    "Gwikipedia = nx.read_gpickle(\"./Data/wikipedia/wikipedia.pickle\")\n",
    "\n",
    "#On charge la base de données des pages dans un tableau Pandas\n",
    "wikipedia_db = pd.read_pickle(\"./Data/wikipedia/wikipedia.db\")\n",
    "wikipedia_db.head()"
   ]
  },
  {
   "cell_type": "markdown",
   "metadata": {},
   "source": [
    "## Calcule des propriété statistique du graphe les liens des pages wikipedia \n",
    "\n",
    "Nous allons calculer:\n",
    "1. la densité du graphe (rappel la densité d'un graphe $\\mathcal{G}(\\mathcal{V}, \\mathcal{E})$ est $D =\\vert \\mathcal{E}\\vert/N(N-1)$) \n",
    "2. la densité de probabilité empirique du degré des noeuds du graphe \n",
    "3. le complémentaire de la fonction de répartition empirique du degré des noeuds du graphe"
   ]
  },
  {
   "cell_type": "code",
   "execution_count": null,
   "metadata": {
    "collapsed": false
   },
   "outputs": [],
   "source": [
    "# \n",
    "# Votre code\n",
    "# "
   ]
  },
  {
   "cell_type": "code",
   "execution_count": null,
   "metadata": {
    "collapsed": false
   },
   "outputs": [],
   "source": [
    "#\n",
    "# On calcule la distribution des degree du graphe des pages wikipedia\n",
    "#\n",
    "degree = [v for k,v in wikipedia.degree().items()]\n",
    "distribution = [(elem, degree.count(elem)) for elem in sorted(set(degree))]\n",
    "k,pk = zip(*distribution)\n",
    "PDF = np.array(pk)/sum(pk)\n",
    "CCDF = 1-np.cumsum(PDF)\n",
    "\n",
    "\n",
    "#\n",
    "# Afichage \n",
    "#\n",
    "fig, (ax1, ax2) = plt.subplots(1, 2)\n",
    "ax1.loglog(k, PDF, 'ro')\n",
    "ax1.set_xlabel(\"$k$ Degree\")\n",
    "ax1.set_ylabel(\"$P_k$\")\n",
    "ax1.set_title(\"PDF\")\n",
    "\n",
    "ax2.loglog(k, CCDF, 'ro')\n",
    "ax2.set_ylim(1e-4,1.1)\n",
    "ax2.set_xlim(0,2e3)\n",
    "ax2.set_xlabel(\"$k$ Degree\")\n",
    "ax2.set_ylabel(\"$1-P[K > k]$\")\n",
    "ax2.set_title(\"CCDF\")\n",
    "fig.tight_layout()"
   ]
  },
  {
   "cell_type": "markdown",
   "metadata": {},
   "source": [
    "** Question:**\n",
    "\n",
    "- La matrice d'adjacence du graphe est-elle dense ? ou au contraire creuse ?\n",
    "- Que dire de la distribution du degrée des articles wikipedia ?"
   ]
  },
  {
   "cell_type": "markdown",
   "metadata": {},
   "source": [
    "## Calculer le PageRank du graphe des articles  Wikipedia"
   ]
  },
  {
   "cell_type": "code",
   "execution_count": null,
   "metadata": {
    "collapsed": false
   },
   "outputs": [],
   "source": [
    "# Calcul du PageRank en utilisant la fonction PageRank déja implementé\n",
    "\n",
    "#### \n",
    "# Votre Code\n",
    "####\n",
    "\n",
    "PR = [[k,v] for k,v in PR.items()]\n",
    "PR = pd.DataFrame(PR, columns=['PageID', 'PageRank'])\n",
    "PR = PR.set_index('PageID')\n",
    "PR.head()"
   ]
  },
  {
   "cell_type": "code",
   "execution_count": null,
   "metadata": {
    "collapsed": false
   },
   "outputs": [],
   "source": [
    "# On associe un PageRank à chaque page wikipedia dans la base de données \n",
    "wikipedia_db = wikipedia_db.join(PR)\n",
    "# On trie les entrées wikipedia par ordre croissant de leur PageRank\n",
    "wikipedia_db = wikipedia_db.sort(['PageRank'], ascending=0)\n",
    "# on affiche les premières entrées triées par ordre croissant \n",
    "wikipedia_db[[\"Page Title\", \"PageRank\"]].head()"
   ]
  },
  {
   "cell_type": "markdown",
   "metadata": {},
   "source": [
    "## Effectuer une recherche par mots clés sur la base de données des articles Wikipedia\n",
    "\n",
    "**Attention**: le nombre de pages wikipedia indexées dans cette base de données est de l'ordre de 5000 articles seulement, rédigé en anglais. Le nombre d'articles et donc de mots clées sont donc restreints. Effectuer les requêtes avec des mots clés ecrit en lettres minuscules uniquements."
   ]
  },
  {
   "cell_type": "code",
   "execution_count": null,
   "metadata": {
    "collapsed": false
   },
   "outputs": [],
   "source": [
    "# Exemple de mots cléss \n",
    "mot_clee_1 = \"france\"\n",
    "mot_clee_2 = \"germany\"\n",
    "# Requete sur la base de données par mots clés\n",
    "wikipedia_db[(wikipedia_db['Keywords'].str.contains(mot_clee_1)==True) & (wikipedia_db['Keywords'].str.contains(mot_clee_2)==True)].head(10)"
   ]
  },
  {
   "cell_type": "code",
   "execution_count": null,
   "metadata": {
    "collapsed": false
   },
   "outputs": [],
   "source": [
    "# Exemple de mots clées \n",
    "mot_clee_1 = \"france\"\n",
    "# Requete sur la base de données par mots clée\n",
    "wikipedia_db[(wikipedia_db['Keywords'].str.contains(mot_clee_1)==True) ].head(10)"
   ]
  },
  {
   "cell_type": "markdown",
   "metadata": {},
   "source": [
    "**Question**:\n",
    "\n",
    "Effectuez conjointement: une requête sur la base de donnée et avec le moteurs de recherche de google: \n",
    "\n",
    "* Faite une Requete google \"site:wikipedia.org mot_clée1 mot_clée2\"\n",
    "* Comparer qualitativement les requetes faite sur Google et celles effectués sur la base de données"
   ]
  },
  {
   "cell_type": "markdown",
   "metadata": {},
   "source": [
    "# Implémentation du PageRank avec un algorithme distribué\n",
    "\n",
    "\n",
    "Le classement des page web au travers de l'algorithme du \"PageRank\" est encore aujourd'hui considéré comme étant le plus gros problème matriciel connu a ce jour. Pour vous donner un ordre de grandeur, en 2007 la \"power iteration\" qui permetait le calcul du PageRank chez Google occupait un datacenter pendant 15 jours pour finaliser le calcul. Afin de reduire la complexité du calcul $\\pi^T \\mathbf{G}$ on souhaiterait effectuer un calcul sur une matrice creuse à la place de la matrice $\\mathbf{G}$ qui est dense. Dans le même temps, on souhaite pouvoir paralléliser le calcul (multiprocesseur, cluster de calcul). Une manière élégante d'obtenir ces deux propriétés est d'éffectuer l'opération suivante sur tout les noeuds du graphe (Cf. eq. 7., Fig. 5, Algo. 3):\n",
    "<br>\n",
    "(**eq. 7**)\n",
    "$$ PR_{i} = \\frac{(1-\\alpha)}{n} + \\alpha \\sum_{j \\in \\mathcal{N}(i)} \\frac{PR_j}{L_j}$$\n",
    "<br>\n",
    "<br>\n",
    "<div align=\"center\">\n",
    "<img src=\"./Images/PageRankDistributed2.png\" width=\"400px\"></img>\n",
    "** Figure 5.**: PageRank \n",
    "</div>\n",
    "\n",
    "L'opération decrite dans l'equation 7. peut être calculer de manière indépendante (en parallèle) pour tous les noeuds du graphes. C'est l'approche qui est développée dans des logiciels pour de calcul de grands volumes de données tels que: \n",
    "\n",
    "* [Spark/Graphx](http://spark.apache.org/)\n",
    "* [Graphlab](https://dato.com/)\n",
    "\n",
    "ou plus simplement dans certaines librairies de calcul parallèle utilisant la thèorie des graphes:\n",
    "\n",
    "* [boost graph](http://www.boost.org/doc/libs/1_46_0/libs/graph_parallel/doc/html/page_rank.html)\n",
    "* [graph-tool](https://graph-tool.skewed.de/)\n",
    "<br>\n",
    "<br>\n",
    "<div align=\"center\">\n",
    "<img src=\"./Images/PageRankDistributed.png\" width=\"500px\"></img>\n",
    "** Algo 3.**: Algorithme simplifié du PageRank\n",
    "</div>"
   ]
  },
  {
   "cell_type": "code",
   "execution_count": null,
   "metadata": {
    "collapsed": false
   },
   "outputs": [],
   "source": [
    "def pagerank_distributed(g, alpha=0.9, max_iter=200, tol=1e-6):\n",
    "    N = len(g.nodes())\n",
    "    gc = g.copy()\n",
    "    \n",
    "    # on modifie le graphe pour ajouter les transitions au dangling node  \n",
    "    for dangling in g.nodes():\n",
    "        if gc.out_degree(dangling) == 0:\n",
    "            for n in g.nodes():\n",
    "                gc.add_edge(dangling, n)\n",
    "\n",
    "    # on initialise le pagerank a chaque noeud du graphe\n",
    "    for node in gc.nodes():\n",
    "        gc.node[node]['PageRankOld'] = 1.0/N\n",
    "    \n",
    "    # Power iteration\n",
    "    for _ in range(max_iter):\n",
    "        ### \n",
    "        # Your code\n",
    "        ###    \n",
    "        if tol > N*diff:\n",
    "            return [gc.node[n]['PageRank'] for n in gc.nodes()]"
   ]
  },
  {
   "cell_type": "code",
   "execution_count": null,
   "metadata": {
    "collapsed": false,
    "scrolled": true
   },
   "outputs": [],
   "source": [
    "PR = pagerank_distributed(g)\n",
    "print(PR)\n",
    "# Resultat:  \n",
    "# PR = [ 0.03721313  0.05395937  0.04150701  0.37507848  0.20599777  0.28624425]"
   ]
  },
  {
   "cell_type": "markdown",
   "metadata": {},
   "source": [
    "## Références\n",
    "\n",
    "[1] Amy N. Langville, Carl D. Meyer, \"[Deeper Inside PageRank](http://projecteuclid.org/euclid.im/1109190965)\", Internet Math., Vol. 1(3), pp. 335--380, 2003.\n",
    "\n",
    "[2] Jon Kleinberg, \"[Authoritative sources in a hyperlinked environment](http://www.cs.cornell.edu/home/kleinber/auth.pdf)\",  Journal of the ACM, 46(5), pp. 604–632, 1999.\n",
    "\n",
    "[3] L. Page, S. Brin, R. Motwani, T. Winograd, \"[The PageRank citation ranking: Bringing order to the Web](http://ilpubs.stanford.edu:8090/422/1/1999-66.pdf)\", published as a technical report on January 29, 1998."
   ]
  }
 ],
 "metadata": {
  "kernelspec": {
   "display_name": "Python 3",
   "language": "python",
   "name": "python3"
  },
  "language_info": {
   "codemirror_mode": {
    "name": "ipython",
    "version": 3
   },
   "file_extension": ".py",
   "mimetype": "text/x-python",
   "name": "python",
   "nbconvert_exporter": "python",
   "pygments_lexer": "ipython3",
   "version": "3.4.4"
  }
 },
 "nbformat": 4,
 "nbformat_minor": 0
}

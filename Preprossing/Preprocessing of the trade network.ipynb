{
 "cells": [
  {
   "cell_type": "markdown",
   "metadata": {},
   "source": [
    "# Preprocessing of the trade network"
   ]
  },
  {
   "cell_type": "code",
   "execution_count": 16,
   "metadata": {
    "collapsed": false
   },
   "outputs": [],
   "source": [
    "def net_symmetrisation(wtn_file, exclude_countries):\n",
    "    DG=nx.DiGraph()\n",
    "    \n",
    "    Reporter_pos=1\n",
    "    Partner_pos=3\n",
    "    Flow_code_pos=2\n",
    "    Value_pos=9\n",
    "    \n",
    "    dic_trade_flows={}\n",
    "    hfile=open(wtn_file,'r')\n",
    "    \n",
    "    header=hfile.readline()\n",
    "    lines=hfile.readlines()\n",
    "    for l in lines:\n",
    "        l_split=l.split(',')\n",
    "        #the following is to prevent parsing lines without data\n",
    "        if len(l_split)<2: continue \n",
    "        reporter=int(l_split[Reporter_pos])\n",
    "        partner=int(l_split[Partner_pos])\n",
    "        flow_code=int(l_split[Flow_code_pos])\n",
    "        value=int(l_split[Value_pos])\n",
    "        \n",
    "        if ( (reporter in exclude_countries) or \\\n",
    "            (partner in exclude_countries) or (reporter==partner) ): \n",
    "            continue\n",
    "        \n",
    "        if flow_code==1 and value>0.0:\n",
    "            #1=Import, 2=Export\n",
    "            if (partner,reporter,2) in dic_trade_flows: \n",
    "                DG[partner][reporter]['weight']= \\\n",
    "                (DG[partner][reporter]['weight']+value)/2.0\n",
    "            else:\n",
    "                DG.add_edge(partner, reporter, weight=value)\n",
    "                dic_trade_flows[(partner,reporter,1)]= \\\n",
    "                value #this is to mark the exixtence of the link\n",
    "        \n",
    "        elif flow_code==2 and value>0.0:\n",
    "            #1=Import, 2=Export\n",
    "            if (reporter,partner,1) in dic_trade_flows: \n",
    "                DG[reporter][partner]['weight']= \\\n",
    "                (DG[reporter][partner]['weight']+value)/2.0\n",
    "            else:\n",
    "                DG.add_edge(reporter, partner, weight=value)\n",
    "                #this is to mark the exixtence of the link\n",
    "                dic_trade_flows[(reporter,partner,2)]=value \n",
    "        else:\n",
    "            print(\"trade flow not present\\n\")\n",
    "        \n",
    "    hfile.close()\n",
    "    \n",
    "    return DG"
   ]
  },
  {
   "cell_type": "code",
   "execution_count": 17,
   "metadata": {
    "collapsed": false
   },
   "outputs": [],
   "source": [
    "import networkx as nx\n",
    "#countries to be excluded\n",
    "exclude_countries=[472,899,471,129,221,97,697,492,838,473,536, 637,290,527,577,490,568,636,839,879,0]\n",
    "DG = net_symmetrisation(\"../Data/Comtrade/comtrade_trade_data_total_2003.csv\", exclude_countries)"
   ]
  },
  {
   "cell_type": "code",
   "execution_count": 18,
   "metadata": {
    "collapsed": false
   },
   "outputs": [],
   "source": [
    "#import the country name\n",
    "import csv\n",
    "\n",
    "country_dict = {}\n",
    "\n",
    "with open(\"../Data/Comtrade/Country Code and Name ISO2 ISO3_annotated.csv\", \"r\") as csvfile:\n",
    "    reader = csv.reader(csvfile)\n",
    "    next(reader)\n",
    "    for row in reader:\n",
    "        country_dict[int(row[0])] =  row[1]"
   ]
  },
  {
   "cell_type": "code",
   "execution_count": 19,
   "metadata": {
    "collapsed": false
   },
   "outputs": [],
   "source": [
    "for node in DG.nodes():\n",
    "    DG.node[node][\"name\"] = country_dict[node]"
   ]
  },
  {
   "cell_type": "code",
   "execution_count": 20,
   "metadata": {
    "collapsed": true
   },
   "outputs": [],
   "source": [
    "nx.write_gpickle(DG, \"../Data/Comtrade/comtrade.gpickle\")"
   ]
  },
  {
   "cell_type": "code",
   "execution_count": 21,
   "metadata": {
    "collapsed": true
   },
   "outputs": [],
   "source": [
    "nx.write_gexf(DG, \"../Data/Comtrade/comtrade.gexf\")"
   ]
  },
  {
   "cell_type": "code",
   "execution_count": 22,
   "metadata": {
    "collapsed": true
   },
   "outputs": [],
   "source": [
    "nx.write_pajek(DG, \"../Data/Comtrade/comtrade.net\")"
   ]
  },
  {
   "cell_type": "code",
   "execution_count": 23,
   "metadata": {
    "collapsed": true
   },
   "outputs": [],
   "source": [
    "nx.write_gml(DG, \"../Data/Comtrade/comtrade.gml\")"
   ]
  },
  {
   "cell_type": "code",
   "execution_count": null,
   "metadata": {
    "collapsed": true
   },
   "outputs": [],
   "source": []
  }
 ],
 "metadata": {
  "kernelspec": {
   "display_name": "Python 3",
   "language": "python",
   "name": "python3"
  },
  "language_info": {
   "codemirror_mode": {
    "name": "ipython",
    "version": 3
   },
   "file_extension": ".py",
   "mimetype": "text/x-python",
   "name": "python",
   "nbconvert_exporter": "python",
   "pygments_lexer": "ipython3",
   "version": "3.4.4"
  }
 },
 "nbformat": 4,
 "nbformat_minor": 0
}
